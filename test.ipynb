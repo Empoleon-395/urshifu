{
 "cells": [
  {
   "cell_type": "code",
   "execution_count": 11,
   "metadata": {},
   "outputs": [],
   "source": [
    "import pandas as pd\n",
    "import numpy as np\n",
    "import collections\n",
    "from sklearn.preprocessing import scale\n",
    "import optuna.integration.lightgbm as lgb"
   ]
  },
  {
   "cell_type": "code",
   "execution_count": 14,
   "metadata": {},
   "outputs": [
    {
     "name": "stdout",
     "output_type": "stream",
     "text": [
      "['リザードン', 'ゴリランダー', 'トゲキッス', 'トリトドン', 'バクオング', 'ウーラオス(いちげき)']\n"
     ]
    }
   ],
   "source": [
    "print(test_list)"
   ]
  },
  {
   "cell_type": "code",
   "execution_count": 24,
   "metadata": {},
   "outputs": [],
   "source": [
    "test_list = [\"ネクロズマ(にっしょく)\",\"カプ・レヒレ\",\"ポリゴン２\",\"パッチラゴン\",\"ランドロス(れいじゅう)\",\"ウーラオス(れんげき)\"]"
   ]
  },
  {
   "cell_type": "code",
   "execution_count": 28,
   "metadata": {},
   "outputs": [],
   "source": [
    "test_list = [\"ディアルガ\",\"カプ・レヒレ\",\"ジバコイル\",\"ホルード\",\"ランドロス(れいじゅう)\",\"ウーラオス(いちげき)\"]"
   ]
  },
  {
   "cell_type": "code",
   "execution_count": 32,
   "metadata": {},
   "outputs": [],
   "source": [
    "test_list = [\"ラグラージ\",\"ザシアン(けんのおう)\",\"ドラパルト\",\"サンダー\",\"ポリゴン２\",\"ウーラオス(いちげき)\"]"
   ]
  },
  {
   "cell_type": "code",
   "execution_count": 36,
   "metadata": {},
   "outputs": [],
   "source": [
    "test_list = [\"バドレックス(こくば)\",\"バンギラス\",\"ドリュウズ\",\"エースバーン\",\"サンダー\",\"ウーラオス(いちげき)\"]"
   ]
  },
  {
   "cell_type": "code",
   "execution_count": 45,
   "metadata": {},
   "outputs": [],
   "source": [
    "test_list = [\"バドレックス(こくば)\",\"カプ・レヒレ\",\"ミミッキュ\",\"ナットレイ\",\"サンダー\",\"ウーラオス(いちげき)\"]"
   ]
  },
  {
   "cell_type": "code",
   "execution_count": 46,
   "metadata": {},
   "outputs": [
    {
     "name": "stdout",
     "output_type": "stream",
     "text": [
      "nasi\n",
      "nasi\n",
      "nasi\n",
      "nasi\n",
      "nasi\n"
     ]
    }
   ],
   "source": [
    "from mkprediction import make_prediction\n",
    "pp = make_prediction(test_list)"
   ]
  },
  {
   "cell_type": "code",
   "execution_count": 47,
   "metadata": {},
   "outputs": [],
   "source": [
    "proba = pp.predict()[0]"
   ]
  },
  {
   "cell_type": "code",
   "execution_count": 48,
   "metadata": {},
   "outputs": [
    {
     "name": "stdout",
     "output_type": "stream",
     "text": [
      "悪ウーラオスである可能性は78.9%\n",
      "水ウーラオスである可能性は21.1%\n"
     ]
    }
   ],
   "source": [
    "print(\"悪ウーラオスである可能性は\"+str(round(100-proba*100, 2))+\"%\\n水ウーラオスである可能性は\"+str(round(proba*100, 2))+\"%\")"
   ]
  },
  {
   "cell_type": "code",
   "execution_count": null,
   "metadata": {},
   "outputs": [],
   "source": []
  }
 ],
 "metadata": {
  "interpreter": {
   "hash": "64ae48f465b0b9b60d6145a050f02f537dd95f3aae206ebc82839cbb4e37109f"
  },
  "kernelspec": {
   "display_name": "Python 3.8.10 64-bit ('urshifu-uBlELXII-py3.8': poetry)",
   "language": "python",
   "name": "python3"
  },
  "language_info": {
   "codemirror_mode": {
    "name": "ipython",
    "version": 3
   },
   "file_extension": ".py",
   "mimetype": "text/x-python",
   "name": "python",
   "nbconvert_exporter": "python",
   "pygments_lexer": "ipython3",
   "version": "3.8.10"
  },
  "orig_nbformat": 4
 },
 "nbformat": 4,
 "nbformat_minor": 2
}
