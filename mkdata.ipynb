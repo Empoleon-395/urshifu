{
 "cells": [
  {
   "cell_type": "code",
   "execution_count": 68,
   "metadata": {},
   "outputs": [],
   "source": [
    "import pandas as pd\n",
    "import numpy as np\n",
    "import collections\n",
    "from sklearn.preprocessing import scale\n",
    "from pokepoke import poke\n",
    "poke_data = poke()"
   ]
  },
  {
   "cell_type": "code",
   "execution_count": 2,
   "metadata": {},
   "outputs": [],
   "source": [
    "mizu_df = pd.read_csv(\"./data/mizu.csv\")\n",
    "ake_df = pd.read_csv(\"./data/aku.csv\")\n",
    "poke_info = pd.read_csv(\"./data/poke_info.csv\")"
   ]
  },
  {
   "cell_type": "code",
   "execution_count": 3,
   "metadata": {},
   "outputs": [],
   "source": [
    "poke_info[\"id\"]=[list(poke_info[\"name\"].unique()).index(i)+1 for i in poke_info[\"name\"]]"
   ]
  },
  {
   "cell_type": "code",
   "execution_count": 59,
   "metadata": {},
   "outputs": [],
   "source": [
    "i = 0"
   ]
  },
  {
   "cell_type": "code",
   "execution_count": 60,
   "metadata": {},
   "outputs": [
    {
     "data": {
      "text/plain": [
       "890"
      ]
     },
     "execution_count": 60,
     "metadata": {},
     "output_type": "execute_result"
    }
   ],
   "source": [
    "test = mizu_df.loc[i]\n",
    "test[\"poke1\"]"
   ]
  },
  {
   "cell_type": "code",
   "execution_count": 61,
   "metadata": {},
   "outputs": [],
   "source": [
    "data = pd.DataFrame()\n",
    "for j in range(1,7):\n",
    "    data_1 = poke_info[poke_info[\"id\"]==test[\"poke\"+str(j)]].reset_index(drop = True)\n",
    "    data = pd.concat([data,data_1[data_1[\"form\"]==test[\"form\"+str(j)]]])\n",
    "data = data.reset_index(drop = True)"
   ]
  },
  {
   "cell_type": "code",
   "execution_count": 82,
   "metadata": {},
   "outputs": [],
   "source": [
    "data = data.drop(int(data[data[\"name\"]==\"ウーラオス\"].index.values)).reset_index(drop=True)"
   ]
  },
  {
   "cell_type": "code",
   "execution_count": 83,
   "metadata": {},
   "outputs": [],
   "source": [
    "ty_list = list(data[\"type_1\"])\n",
    "ty_list.extend(list(data[\"type_2\"]))"
   ]
  },
  {
   "cell_type": "code",
   "execution_count": 85,
   "metadata": {},
   "outputs": [],
   "source": [
    "type_df = pd.DataFrame(columns=poke_data.poke_type)"
   ]
  },
  {
   "cell_type": "code",
   "execution_count": 86,
   "metadata": {},
   "outputs": [],
   "source": [
    "ty_sc = scale(pd.concat([type_df,pd.DataFrame((dict(collections.Counter(ty_list))),index=[i,])]).fillna(0),axis = 1)"
   ]
  },
  {
   "cell_type": "code",
   "execution_count": null,
   "metadata": {},
   "outputs": [],
   "source": []
  }
 ],
 "metadata": {
  "interpreter": {
   "hash": "64ae48f465b0b9b60d6145a050f02f537dd95f3aae206ebc82839cbb4e37109f"
  },
  "kernelspec": {
   "display_name": "Python 3.8.10 64-bit ('urshifu-uBlELXII-py3.8': poetry)",
   "language": "python",
   "name": "python3"
  },
  "language_info": {
   "codemirror_mode": {
    "name": "ipython",
    "version": 3
   },
   "file_extension": ".py",
   "mimetype": "text/x-python",
   "name": "python",
   "nbconvert_exporter": "python",
   "pygments_lexer": "ipython3",
   "version": "3.8.10"
  },
  "orig_nbformat": 4
 },
 "nbformat": 4,
 "nbformat_minor": 2
}
