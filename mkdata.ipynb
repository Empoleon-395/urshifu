{
 "cells": [
  {
   "cell_type": "code",
   "execution_count": 1,
   "metadata": {},
   "outputs": [],
   "source": [
    "import pandas as pd\n",
    "import numpy as np\n",
    "import collections\n",
    "from sklearn.preprocessing import scale\n",
    "from pokepoke import poke\n",
    "poke_data = poke()"
   ]
  },
  {
   "cell_type": "code",
   "execution_count": 2,
   "metadata": {},
   "outputs": [],
   "source": [
    "mizu_df = pd.read_csv(\"./data/mizu.csv\")\n",
    "aku_df = pd.read_csv(\"./data/aku.csv\")\n",
    "poke_info = pd.read_csv(\"./data/poke_info.csv\")\n",
    "poke_info[\"id\"]=[list(poke_info[\"name\"].unique()).index(i)+1 for i in poke_info[\"name\"]]\n",
    "all_df = pd.concat([mizu_df,aku_df]).reset_index(drop=True)"
   ]
  },
  {
   "cell_type": "code",
   "execution_count": 3,
   "metadata": {},
   "outputs": [],
   "source": [
    "new_df = pd.DataFrame()\n",
    "for i in range(len(all_df)):\n",
    "    test = all_df.loc[i]\n",
    "    data = pd.DataFrame()\n",
    "    for j in range(1,7):\n",
    "        data_1 = poke_info[poke_info[\"id\"]==test[\"poke\"+str(j)]].reset_index(drop = True)\n",
    "        data = pd.concat([data,data_1[data_1[\"form\"]==test[\"form\"+str(j)]]])\n",
    "    data = data.reset_index(drop = True)\n",
    "    data = data.drop(int(data[data[\"name\"]==\"ウーラオス\"].index.values)).reset_index(drop=True)\n",
    "    ty_list = list(data[\"type_1\"])\n",
    "    ty_list.extend(list(data[\"type_2\"]))\n",
    "    type_df = pd.DataFrame(columns=poke_data.poke_type)\n",
    "    ty_sc = scale(pd.concat([type_df,pd.DataFrame((dict(collections.Counter(ty_list))),index=[i,])]).fillna(0),axis = 1)\n",
    "    ty_df = pd.DataFrame()\n",
    "    for j,n in enumerate(ty_sc[0]):\n",
    "        ty_df[\"type\"+str(j)]=[n]\n",
    "    r_df = pd.DataFrame(scale(np.sum(data)[[\"H\",\"A\",\"B\",\"C\",\"D\",\"S\"]])).T.set_axis([\"H\",\"A\",\"B\",\"C\",\"D\",\"S\"],axis=1)\n",
    "    rt_df = pd.merge(r_df,ty_df, left_index=True,right_index=True)\n",
    "    rt_df[\"label\"]=test[\"label\"]\n",
    "    new_df = pd.concat([new_df,rt_df])\n",
    "    "
   ]
  },
  {
   "cell_type": "code",
   "execution_count": 6,
   "metadata": {},
   "outputs": [],
   "source": [
    "new_df.to_csv(\"./data/urshifu_pt.csv\",index = False)"
   ]
  },
  {
   "cell_type": "code",
   "execution_count": 7,
   "metadata": {},
   "outputs": [
    {
     "data": {
      "text/plain": [
       "1037"
      ]
     },
     "execution_count": 7,
     "metadata": {},
     "output_type": "execute_result"
    }
   ],
   "source": [
    "len(new_df)"
   ]
  },
  {
   "cell_type": "code",
   "execution_count": 4,
   "metadata": {},
   "outputs": [
    {
     "data": {
      "text/plain": [
       "poke1    890\n",
       "form1      0\n",
       "poke2    797\n",
       "form2      0\n",
       "poke3    892\n",
       "form3      1\n",
       "poke4    199\n",
       "form4      1\n",
       "poke5    630\n",
       "form5      0\n",
       "poke6    195\n",
       "form6      0\n",
       "label      1\n",
       "Name: 0, dtype: int64"
      ]
     },
     "execution_count": 4,
     "metadata": {},
     "output_type": "execute_result"
    }
   ],
   "source": [
    "all_df.loc[0]"
   ]
  },
  {
   "cell_type": "code",
   "execution_count": null,
   "metadata": {},
   "outputs": [],
   "source": []
  }
 ],
 "metadata": {
  "interpreter": {
   "hash": "64ae48f465b0b9b60d6145a050f02f537dd95f3aae206ebc82839cbb4e37109f"
  },
  "kernelspec": {
   "display_name": "Python 3.8.10 64-bit ('urshifu-uBlELXII-py3.8': poetry)",
   "language": "python",
   "name": "python3"
  },
  "language_info": {
   "codemirror_mode": {
    "name": "ipython",
    "version": 3
   },
   "file_extension": ".py",
   "mimetype": "text/x-python",
   "name": "python",
   "nbconvert_exporter": "python",
   "pygments_lexer": "ipython3",
   "version": "3.8.10"
  },
  "orig_nbformat": 4
 },
 "nbformat": 4,
 "nbformat_minor": 2
}
