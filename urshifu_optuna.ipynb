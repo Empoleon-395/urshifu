{
 "cells": [
  {
   "cell_type": "code",
   "execution_count": 9,
   "metadata": {},
   "outputs": [],
   "source": [
    "import optuna.integration.lightgbm as lgb\n",
    "import lightgbm as lgb_o\n",
    "from sklearn import datasets\n",
    "from sklearn.model_selection import train_test_split\n",
    "import numpy as np\n",
    "import pandas as pd\n",
    "import matplotlib.pyplot as plt\n",
    "from sklearn import metrics"
   ]
  },
  {
   "cell_type": "code",
   "execution_count": 10,
   "metadata": {},
   "outputs": [
    {
     "data": {
      "text/plain": [
       "Index(['H', 'A', 'B', 'C', 'D', 'S', 'type0', 'type1', 'type2', 'type3',\n",
       "       'type4', 'type5', 'type6', 'type7', 'type8', 'type9', 'type10',\n",
       "       'type11', 'type12', 'type13', 'type14', 'type15', 'type16', 'type17',\n",
       "       'label', 'type18', 'mtype0', 'mtype1', 'mtype2', 'mtype3', 'mtype4',\n",
       "       'mtype5', 'mtype6', 'mtype7', 'mtype8', 'mtype9', 'mtype10', 'mtype11',\n",
       "       'mtype12', 'mtype13', 'mtype14', 'mtype15', 'mtype16', 'mtype17', 'ph',\n",
       "       'sp', 'sta'],\n",
       "      dtype='object')"
      ]
     },
     "execution_count": 10,
     "metadata": {},
     "output_type": "execute_result"
    }
   ],
   "source": [
    "p_df = pd.read_csv(\"./data/urshifu_pt.csv\")\n",
    "m_df = pd.read_csv(\"./data/m_urshifu.csv\")\n",
    "df = pd.merge(p_df,m_df,left_index=True,right_index=True)\n",
    "df.columns"
   ]
  },
  {
   "cell_type": "code",
   "execution_count": 11,
   "metadata": {},
   "outputs": [],
   "source": [
    "train_df,test_df = train_test_split(df,random_state=0)"
   ]
  },
  {
   "cell_type": "code",
   "execution_count": 12,
   "metadata": {},
   "outputs": [],
   "source": [
    "train_x = train_df.drop(\"label\",axis = 1)\n",
    "train_y = train_df[\"label\"]\n",
    "test_x = test_df.drop(\"label\",axis = 1)\n",
    "test_y = test_df[\"label\"]"
   ]
  },
  {
   "cell_type": "code",
   "execution_count": 13,
   "metadata": {},
   "outputs": [],
   "source": [
    "lgb_train = lgb_o.Dataset(train_x, train_y)\n",
    "lgb_eval = lgb_o.Dataset(test_x, test_y, reference=lgb_train)"
   ]
  },
  {
   "cell_type": "code",
   "execution_count": 14,
   "metadata": {},
   "outputs": [
    {
     "name": "stderr",
     "output_type": "stream",
     "text": [
      "\u001b[32m[I 2022-01-26 17:44:44,851]\u001b[0m A new study created in memory with name: no-name-cb8e3af9-cbe1-4a36-a73b-217320a03670\u001b[0m\n",
      "/home/yuuuuutaro/.cache/pypoetry/virtualenvs/urshifu-uBlELXII-py3.8/lib/python3.8/site-packages/lightgbm/engine.py:181: UserWarning: 'early_stopping_rounds' argument is deprecated and will be removed in a future release of LightGBM. Pass 'early_stopping()' callback via 'callbacks' argument instead.\n",
      "  _log_warning(\"'early_stopping_rounds' argument is deprecated and will be removed in a future release of LightGBM. \"\n",
      "/home/yuuuuutaro/.cache/pypoetry/virtualenvs/urshifu-uBlELXII-py3.8/lib/python3.8/site-packages/lightgbm/engine.py:239: UserWarning: 'verbose_eval' argument is deprecated and will be removed in a future release of LightGBM. Pass 'log_evaluation()' callback via 'callbacks' argument instead.\n",
      "  _log_warning(\"'verbose_eval' argument is deprecated and will be removed in a future release of LightGBM. \"\n",
      "\u001b[32m[I 2022-01-26 17:44:45,720]\u001b[0m Trial 0 finished with value: 0.7904913132822716 and parameters: {'feature_fraction': 0.5}. Best is trial 0 with value: 0.7904913132822716.\u001b[0m\n",
      "/home/yuuuuutaro/.cache/pypoetry/virtualenvs/urshifu-uBlELXII-py3.8/lib/python3.8/site-packages/lightgbm/engine.py:181: UserWarning: 'early_stopping_rounds' argument is deprecated and will be removed in a future release of LightGBM. Pass 'early_stopping()' callback via 'callbacks' argument instead.\n",
      "  _log_warning(\"'early_stopping_rounds' argument is deprecated and will be removed in a future release of LightGBM. \"\n",
      "/home/yuuuuutaro/.cache/pypoetry/virtualenvs/urshifu-uBlELXII-py3.8/lib/python3.8/site-packages/lightgbm/engine.py:239: UserWarning: 'verbose_eval' argument is deprecated and will be removed in a future release of LightGBM. Pass 'log_evaluation()' callback via 'callbacks' argument instead.\n",
      "  _log_warning(\"'verbose_eval' argument is deprecated and will be removed in a future release of LightGBM. \"\n",
      "\u001b[32m[I 2022-01-26 17:44:46,380]\u001b[0m Trial 1 finished with value: 0.7950370508748988 and parameters: {'feature_fraction': 0.8}. Best is trial 1 with value: 0.7950370508748988.\u001b[0m\n",
      "/home/yuuuuutaro/.cache/pypoetry/virtualenvs/urshifu-uBlELXII-py3.8/lib/python3.8/site-packages/lightgbm/engine.py:181: UserWarning: 'early_stopping_rounds' argument is deprecated and will be removed in a future release of LightGBM. Pass 'early_stopping()' callback via 'callbacks' argument instead.\n",
      "  _log_warning(\"'early_stopping_rounds' argument is deprecated and will be removed in a future release of LightGBM. \"\n",
      "/home/yuuuuutaro/.cache/pypoetry/virtualenvs/urshifu-uBlELXII-py3.8/lib/python3.8/site-packages/lightgbm/engine.py:239: UserWarning: 'verbose_eval' argument is deprecated and will be removed in a future release of LightGBM. Pass 'log_evaluation()' callback via 'callbacks' argument instead.\n",
      "  _log_warning(\"'verbose_eval' argument is deprecated and will be removed in a future release of LightGBM. \"\n",
      "\u001b[32m[I 2022-01-26 17:44:46,696]\u001b[0m Trial 2 finished with value: 0.7942275359611433 and parameters: {'feature_fraction': 0.8999999999999999}. Best is trial 1 with value: 0.7950370508748988.\u001b[0m\n",
      "/home/yuuuuutaro/.cache/pypoetry/virtualenvs/urshifu-uBlELXII-py3.8/lib/python3.8/site-packages/lightgbm/engine.py:181: UserWarning: 'early_stopping_rounds' argument is deprecated and will be removed in a future release of LightGBM. Pass 'early_stopping()' callback via 'callbacks' argument instead.\n",
      "  _log_warning(\"'early_stopping_rounds' argument is deprecated and will be removed in a future release of LightGBM. \"\n",
      "/home/yuuuuutaro/.cache/pypoetry/virtualenvs/urshifu-uBlELXII-py3.8/lib/python3.8/site-packages/lightgbm/engine.py:239: UserWarning: 'verbose_eval' argument is deprecated and will be removed in a future release of LightGBM. Pass 'log_evaluation()' callback via 'callbacks' argument instead.\n",
      "  _log_warning(\"'verbose_eval' argument is deprecated and will be removed in a future release of LightGBM. \"\n",
      "\u001b[32m[I 2022-01-26 17:44:47,249]\u001b[0m Trial 3 finished with value: 0.8022604147207174 and parameters: {'feature_fraction': 1.0}. Best is trial 3 with value: 0.8022604147207174.\u001b[0m\n",
      "/home/yuuuuutaro/.cache/pypoetry/virtualenvs/urshifu-uBlELXII-py3.8/lib/python3.8/site-packages/lightgbm/engine.py:181: UserWarning: 'early_stopping_rounds' argument is deprecated and will be removed in a future release of LightGBM. Pass 'early_stopping()' callback via 'callbacks' argument instead.\n",
      "  _log_warning(\"'early_stopping_rounds' argument is deprecated and will be removed in a future release of LightGBM. \"\n",
      "/home/yuuuuutaro/.cache/pypoetry/virtualenvs/urshifu-uBlELXII-py3.8/lib/python3.8/site-packages/lightgbm/engine.py:239: UserWarning: 'verbose_eval' argument is deprecated and will be removed in a future release of LightGBM. Pass 'log_evaluation()' callback via 'callbacks' argument instead.\n",
      "  _log_warning(\"'verbose_eval' argument is deprecated and will be removed in a future release of LightGBM. \"\n",
      "\u001b[32m[I 2022-01-26 17:44:47,830]\u001b[0m Trial 4 finished with value: 0.7936671025593125 and parameters: {'feature_fraction': 0.7}. Best is trial 3 with value: 0.8022604147207174.\u001b[0m\n",
      "/home/yuuuuutaro/.cache/pypoetry/virtualenvs/urshifu-uBlELXII-py3.8/lib/python3.8/site-packages/lightgbm/engine.py:181: UserWarning: 'early_stopping_rounds' argument is deprecated and will be removed in a future release of LightGBM. Pass 'early_stopping()' callback via 'callbacks' argument instead.\n",
      "  _log_warning(\"'early_stopping_rounds' argument is deprecated and will be removed in a future release of LightGBM. \"\n",
      "/home/yuuuuutaro/.cache/pypoetry/virtualenvs/urshifu-uBlELXII-py3.8/lib/python3.8/site-packages/lightgbm/engine.py:239: UserWarning: 'verbose_eval' argument is deprecated and will be removed in a future release of LightGBM. Pass 'log_evaluation()' callback via 'callbacks' argument instead.\n",
      "  _log_warning(\"'verbose_eval' argument is deprecated and will be removed in a future release of LightGBM. \"\n",
      "\u001b[32m[I 2022-01-26 17:44:48,061]\u001b[0m Trial 5 finished with value: 0.7946011582290304 and parameters: {'feature_fraction': 0.6}. Best is trial 3 with value: 0.8022604147207174.\u001b[0m\n",
      "/home/yuuuuutaro/.cache/pypoetry/virtualenvs/urshifu-uBlELXII-py3.8/lib/python3.8/site-packages/lightgbm/engine.py:181: UserWarning: 'early_stopping_rounds' argument is deprecated and will be removed in a future release of LightGBM. Pass 'early_stopping()' callback via 'callbacks' argument instead.\n",
      "  _log_warning(\"'early_stopping_rounds' argument is deprecated and will be removed in a future release of LightGBM. \"\n",
      "/home/yuuuuutaro/.cache/pypoetry/virtualenvs/urshifu-uBlELXII-py3.8/lib/python3.8/site-packages/lightgbm/engine.py:239: UserWarning: 'verbose_eval' argument is deprecated and will be removed in a future release of LightGBM. Pass 'log_evaluation()' callback via 'callbacks' argument instead.\n",
      "  _log_warning(\"'verbose_eval' argument is deprecated and will be removed in a future release of LightGBM. \"\n",
      "\u001b[32m[I 2022-01-26 17:44:48,382]\u001b[0m Trial 6 finished with value: 0.800205492247338 and parameters: {'feature_fraction': 0.4}. Best is trial 3 with value: 0.8022604147207174.\u001b[0m\n",
      "feature_fraction, val_score: 0.802260: 100%|##########| 7/7 [00:03<00:00,  1.99it/s]\n",
      "/home/yuuuuutaro/.cache/pypoetry/virtualenvs/urshifu-uBlELXII-py3.8/lib/python3.8/site-packages/lightgbm/engine.py:181: UserWarning: 'early_stopping_rounds' argument is deprecated and will be removed in a future release of LightGBM. Pass 'early_stopping()' callback via 'callbacks' argument instead.\n",
      "  _log_warning(\"'early_stopping_rounds' argument is deprecated and will be removed in a future release of LightGBM. \"\n",
      "/home/yuuuuutaro/.cache/pypoetry/virtualenvs/urshifu-uBlELXII-py3.8/lib/python3.8/site-packages/lightgbm/engine.py:239: UserWarning: 'verbose_eval' argument is deprecated and will be removed in a future release of LightGBM. Pass 'log_evaluation()' callback via 'callbacks' argument instead.\n",
      "  _log_warning(\"'verbose_eval' argument is deprecated and will be removed in a future release of LightGBM. \"\n",
      "\u001b[32m[I 2022-01-26 17:44:48,764]\u001b[0m Trial 7 finished with value: 0.7984619216638645 and parameters: {'num_leaves': 46}. Best is trial 7 with value: 0.7984619216638645.\u001b[0m\n",
      "/home/yuuuuutaro/.cache/pypoetry/virtualenvs/urshifu-uBlELXII-py3.8/lib/python3.8/site-packages/lightgbm/engine.py:181: UserWarning: 'early_stopping_rounds' argument is deprecated and will be removed in a future release of LightGBM. Pass 'early_stopping()' callback via 'callbacks' argument instead.\n",
      "  _log_warning(\"'early_stopping_rounds' argument is deprecated and will be removed in a future release of LightGBM. \"\n",
      "/home/yuuuuutaro/.cache/pypoetry/virtualenvs/urshifu-uBlELXII-py3.8/lib/python3.8/site-packages/lightgbm/engine.py:239: UserWarning: 'verbose_eval' argument is deprecated and will be removed in a future release of LightGBM. Pass 'log_evaluation()' callback via 'callbacks' argument instead.\n",
      "  _log_warning(\"'verbose_eval' argument is deprecated and will be removed in a future release of LightGBM. \"\n",
      "\u001b[32m[I 2022-01-26 17:44:49,047]\u001b[0m Trial 8 finished with value: 0.7943520767171057 and parameters: {'num_leaves': 21}. Best is trial 7 with value: 0.7984619216638645.\u001b[0m\n",
      "/home/yuuuuutaro/.cache/pypoetry/virtualenvs/urshifu-uBlELXII-py3.8/lib/python3.8/site-packages/lightgbm/engine.py:181: UserWarning: 'early_stopping_rounds' argument is deprecated and will be removed in a future release of LightGBM. Pass 'early_stopping()' callback via 'callbacks' argument instead.\n",
      "  _log_warning(\"'early_stopping_rounds' argument is deprecated and will be removed in a future release of LightGBM. \"\n",
      "/home/yuuuuutaro/.cache/pypoetry/virtualenvs/urshifu-uBlELXII-py3.8/lib/python3.8/site-packages/lightgbm/engine.py:239: UserWarning: 'verbose_eval' argument is deprecated and will be removed in a future release of LightGBM. Pass 'log_evaluation()' callback via 'callbacks' argument instead.\n",
      "  _log_warning(\"'verbose_eval' argument is deprecated and will be removed in a future release of LightGBM. \"\n",
      "\u001b[32m[I 2022-01-26 17:44:49,319]\u001b[0m Trial 9 finished with value: 0.7897440687464973 and parameters: {'num_leaves': 8}. Best is trial 7 with value: 0.7984619216638645.\u001b[0m\n",
      "/home/yuuuuutaro/.cache/pypoetry/virtualenvs/urshifu-uBlELXII-py3.8/lib/python3.8/site-packages/lightgbm/engine.py:181: UserWarning: 'early_stopping_rounds' argument is deprecated and will be removed in a future release of LightGBM. Pass 'early_stopping()' callback via 'callbacks' argument instead.\n",
      "  _log_warning(\"'early_stopping_rounds' argument is deprecated and will be removed in a future release of LightGBM. \"\n",
      "/home/yuuuuutaro/.cache/pypoetry/virtualenvs/urshifu-uBlELXII-py3.8/lib/python3.8/site-packages/lightgbm/engine.py:239: UserWarning: 'verbose_eval' argument is deprecated and will be removed in a future release of LightGBM. Pass 'log_evaluation()' callback via 'callbacks' argument instead.\n",
      "  _log_warning(\"'verbose_eval' argument is deprecated and will be removed in a future release of LightGBM. \"\n",
      "\u001b[32m[I 2022-01-26 17:44:50,143]\u001b[0m Trial 10 finished with value: 0.7984619216638645 and parameters: {'num_leaves': 102}. Best is trial 7 with value: 0.7984619216638645.\u001b[0m\n",
      "/home/yuuuuutaro/.cache/pypoetry/virtualenvs/urshifu-uBlELXII-py3.8/lib/python3.8/site-packages/lightgbm/engine.py:181: UserWarning: 'early_stopping_rounds' argument is deprecated and will be removed in a future release of LightGBM. Pass 'early_stopping()' callback via 'callbacks' argument instead.\n",
      "  _log_warning(\"'early_stopping_rounds' argument is deprecated and will be removed in a future release of LightGBM. \"\n",
      "/home/yuuuuutaro/.cache/pypoetry/virtualenvs/urshifu-uBlELXII-py3.8/lib/python3.8/site-packages/lightgbm/engine.py:239: UserWarning: 'verbose_eval' argument is deprecated and will be removed in a future release of LightGBM. Pass 'log_evaluation()' callback via 'callbacks' argument instead.\n",
      "  _log_warning(\"'verbose_eval' argument is deprecated and will be removed in a future release of LightGBM. \"\n",
      "\u001b[32m[I 2022-01-26 17:44:50,991]\u001b[0m Trial 11 finished with value: 0.7984619216638645 and parameters: {'num_leaves': 130}. Best is trial 7 with value: 0.7984619216638645.\u001b[0m\n",
      "/home/yuuuuutaro/.cache/pypoetry/virtualenvs/urshifu-uBlELXII-py3.8/lib/python3.8/site-packages/lightgbm/engine.py:181: UserWarning: 'early_stopping_rounds' argument is deprecated and will be removed in a future release of LightGBM. Pass 'early_stopping()' callback via 'callbacks' argument instead.\n",
      "  _log_warning(\"'early_stopping_rounds' argument is deprecated and will be removed in a future release of LightGBM. \"\n",
      "/home/yuuuuutaro/.cache/pypoetry/virtualenvs/urshifu-uBlELXII-py3.8/lib/python3.8/site-packages/lightgbm/engine.py:239: UserWarning: 'verbose_eval' argument is deprecated and will be removed in a future release of LightGBM. Pass 'log_evaluation()' callback via 'callbacks' argument instead.\n",
      "  _log_warning(\"'verbose_eval' argument is deprecated and will be removed in a future release of LightGBM. \"\n",
      "\u001b[32m[I 2022-01-26 17:44:51,687]\u001b[0m Trial 12 finished with value: 0.7984619216638645 and parameters: {'num_leaves': 182}. Best is trial 7 with value: 0.7984619216638645.\u001b[0m\n",
      "/home/yuuuuutaro/.cache/pypoetry/virtualenvs/urshifu-uBlELXII-py3.8/lib/python3.8/site-packages/lightgbm/engine.py:181: UserWarning: 'early_stopping_rounds' argument is deprecated and will be removed in a future release of LightGBM. Pass 'early_stopping()' callback via 'callbacks' argument instead.\n",
      "  _log_warning(\"'early_stopping_rounds' argument is deprecated and will be removed in a future release of LightGBM. \"\n",
      "/home/yuuuuutaro/.cache/pypoetry/virtualenvs/urshifu-uBlELXII-py3.8/lib/python3.8/site-packages/lightgbm/engine.py:239: UserWarning: 'verbose_eval' argument is deprecated and will be removed in a future release of LightGBM. Pass 'log_evaluation()' callback via 'callbacks' argument instead.\n",
      "  _log_warning(\"'verbose_eval' argument is deprecated and will be removed in a future release of LightGBM. \"\n",
      "\u001b[32m[I 2022-01-26 17:44:52,718]\u001b[0m Trial 13 finished with value: 0.7984619216638645 and parameters: {'num_leaves': 143}. Best is trial 7 with value: 0.7984619216638645.\u001b[0m\n",
      "/home/yuuuuutaro/.cache/pypoetry/virtualenvs/urshifu-uBlELXII-py3.8/lib/python3.8/site-packages/lightgbm/engine.py:181: UserWarning: 'early_stopping_rounds' argument is deprecated and will be removed in a future release of LightGBM. Pass 'early_stopping()' callback via 'callbacks' argument instead.\n",
      "  _log_warning(\"'early_stopping_rounds' argument is deprecated and will be removed in a future release of LightGBM. \"\n",
      "/home/yuuuuutaro/.cache/pypoetry/virtualenvs/urshifu-uBlELXII-py3.8/lib/python3.8/site-packages/lightgbm/engine.py:239: UserWarning: 'verbose_eval' argument is deprecated and will be removed in a future release of LightGBM. Pass 'log_evaluation()' callback via 'callbacks' argument instead.\n",
      "  _log_warning(\"'verbose_eval' argument is deprecated and will be removed in a future release of LightGBM. \"\n",
      "\u001b[32m[I 2022-01-26 17:44:54,909]\u001b[0m Trial 14 finished with value: 0.7984619216638645 and parameters: {'num_leaves': 176}. Best is trial 7 with value: 0.7984619216638645.\u001b[0m\n",
      "/home/yuuuuutaro/.cache/pypoetry/virtualenvs/urshifu-uBlELXII-py3.8/lib/python3.8/site-packages/lightgbm/engine.py:181: UserWarning: 'early_stopping_rounds' argument is deprecated and will be removed in a future release of LightGBM. Pass 'early_stopping()' callback via 'callbacks' argument instead.\n",
      "  _log_warning(\"'early_stopping_rounds' argument is deprecated and will be removed in a future release of LightGBM. \"\n",
      "/home/yuuuuutaro/.cache/pypoetry/virtualenvs/urshifu-uBlELXII-py3.8/lib/python3.8/site-packages/lightgbm/engine.py:239: UserWarning: 'verbose_eval' argument is deprecated and will be removed in a future release of LightGBM. Pass 'log_evaluation()' callback via 'callbacks' argument instead.\n",
      "  _log_warning(\"'verbose_eval' argument is deprecated and will be removed in a future release of LightGBM. \"\n",
      "\u001b[32m[I 2022-01-26 17:44:55,500]\u001b[0m Trial 15 finished with value: 0.7857587645557008 and parameters: {'num_leaves': 10}. Best is trial 7 with value: 0.7984619216638645.\u001b[0m\n",
      "/home/yuuuuutaro/.cache/pypoetry/virtualenvs/urshifu-uBlELXII-py3.8/lib/python3.8/site-packages/lightgbm/engine.py:181: UserWarning: 'early_stopping_rounds' argument is deprecated and will be removed in a future release of LightGBM. Pass 'early_stopping()' callback via 'callbacks' argument instead.\n",
      "  _log_warning(\"'early_stopping_rounds' argument is deprecated and will be removed in a future release of LightGBM. \"\n",
      "/home/yuuuuutaro/.cache/pypoetry/virtualenvs/urshifu-uBlELXII-py3.8/lib/python3.8/site-packages/lightgbm/engine.py:239: UserWarning: 'verbose_eval' argument is deprecated and will be removed in a future release of LightGBM. Pass 'log_evaluation()' callback via 'callbacks' argument instead.\n",
      "  _log_warning(\"'verbose_eval' argument is deprecated and will be removed in a future release of LightGBM. \"\n",
      "\u001b[32m[I 2022-01-26 17:44:55,917]\u001b[0m Trial 16 finished with value: 0.7984619216638645 and parameters: {'num_leaves': 249}. Best is trial 7 with value: 0.7984619216638645.\u001b[0m\n",
      "/home/yuuuuutaro/.cache/pypoetry/virtualenvs/urshifu-uBlELXII-py3.8/lib/python3.8/site-packages/lightgbm/engine.py:181: UserWarning: 'early_stopping_rounds' argument is deprecated and will be removed in a future release of LightGBM. Pass 'early_stopping()' callback via 'callbacks' argument instead.\n",
      "  _log_warning(\"'early_stopping_rounds' argument is deprecated and will be removed in a future release of LightGBM. \"\n",
      "/home/yuuuuutaro/.cache/pypoetry/virtualenvs/urshifu-uBlELXII-py3.8/lib/python3.8/site-packages/lightgbm/engine.py:239: UserWarning: 'verbose_eval' argument is deprecated and will be removed in a future release of LightGBM. Pass 'log_evaluation()' callback via 'callbacks' argument instead.\n",
      "  _log_warning(\"'verbose_eval' argument is deprecated and will be removed in a future release of LightGBM. \"\n",
      "\u001b[32m[I 2022-01-26 17:44:57,379]\u001b[0m Trial 17 finished with value: 0.7984619216638645 and parameters: {'num_leaves': 71}. Best is trial 7 with value: 0.7984619216638645.\u001b[0m\n",
      "/home/yuuuuutaro/.cache/pypoetry/virtualenvs/urshifu-uBlELXII-py3.8/lib/python3.8/site-packages/lightgbm/engine.py:181: UserWarning: 'early_stopping_rounds' argument is deprecated and will be removed in a future release of LightGBM. Pass 'early_stopping()' callback via 'callbacks' argument instead.\n",
      "  _log_warning(\"'early_stopping_rounds' argument is deprecated and will be removed in a future release of LightGBM. \"\n",
      "/home/yuuuuutaro/.cache/pypoetry/virtualenvs/urshifu-uBlELXII-py3.8/lib/python3.8/site-packages/lightgbm/engine.py:239: UserWarning: 'verbose_eval' argument is deprecated and will be removed in a future release of LightGBM. Pass 'log_evaluation()' callback via 'callbacks' argument instead.\n",
      "  _log_warning(\"'verbose_eval' argument is deprecated and will be removed in a future release of LightGBM. \"\n",
      "\u001b[32m[I 2022-01-26 17:44:58,227]\u001b[0m Trial 18 finished with value: 0.7984619216638645 and parameters: {'num_leaves': 76}. Best is trial 7 with value: 0.7984619216638645.\u001b[0m\n",
      "/home/yuuuuutaro/.cache/pypoetry/virtualenvs/urshifu-uBlELXII-py3.8/lib/python3.8/site-packages/lightgbm/engine.py:181: UserWarning: 'early_stopping_rounds' argument is deprecated and will be removed in a future release of LightGBM. Pass 'early_stopping()' callback via 'callbacks' argument instead.\n",
      "  _log_warning(\"'early_stopping_rounds' argument is deprecated and will be removed in a future release of LightGBM. \"\n",
      "/home/yuuuuutaro/.cache/pypoetry/virtualenvs/urshifu-uBlELXII-py3.8/lib/python3.8/site-packages/lightgbm/engine.py:239: UserWarning: 'verbose_eval' argument is deprecated and will be removed in a future release of LightGBM. Pass 'log_evaluation()' callback via 'callbacks' argument instead.\n",
      "  _log_warning(\"'verbose_eval' argument is deprecated and will be removed in a future release of LightGBM. \"\n",
      "\u001b[32m[I 2022-01-26 17:44:58,828]\u001b[0m Trial 19 finished with value: 0.7984619216638645 and parameters: {'num_leaves': 72}. Best is trial 7 with value: 0.7984619216638645.\u001b[0m\n",
      "/home/yuuuuutaro/.cache/pypoetry/virtualenvs/urshifu-uBlELXII-py3.8/lib/python3.8/site-packages/lightgbm/engine.py:181: UserWarning: 'early_stopping_rounds' argument is deprecated and will be removed in a future release of LightGBM. Pass 'early_stopping()' callback via 'callbacks' argument instead.\n",
      "  _log_warning(\"'early_stopping_rounds' argument is deprecated and will be removed in a future release of LightGBM. \"\n",
      "/home/yuuuuutaro/.cache/pypoetry/virtualenvs/urshifu-uBlELXII-py3.8/lib/python3.8/site-packages/lightgbm/engine.py:239: UserWarning: 'verbose_eval' argument is deprecated and will be removed in a future release of LightGBM. Pass 'log_evaluation()' callback via 'callbacks' argument instead.\n",
      "  _log_warning(\"'verbose_eval' argument is deprecated and will be removed in a future release of LightGBM. \"\n",
      "\u001b[32m[I 2022-01-26 17:44:59,453]\u001b[0m Trial 20 finished with value: 0.7984619216638645 and parameters: {'num_leaves': 95}. Best is trial 7 with value: 0.7984619216638645.\u001b[0m\n",
      "/home/yuuuuutaro/.cache/pypoetry/virtualenvs/urshifu-uBlELXII-py3.8/lib/python3.8/site-packages/lightgbm/engine.py:181: UserWarning: 'early_stopping_rounds' argument is deprecated and will be removed in a future release of LightGBM. Pass 'early_stopping()' callback via 'callbacks' argument instead.\n",
      "  _log_warning(\"'early_stopping_rounds' argument is deprecated and will be removed in a future release of LightGBM. \"\n",
      "/home/yuuuuutaro/.cache/pypoetry/virtualenvs/urshifu-uBlELXII-py3.8/lib/python3.8/site-packages/lightgbm/engine.py:239: UserWarning: 'verbose_eval' argument is deprecated and will be removed in a future release of LightGBM. Pass 'log_evaluation()' callback via 'callbacks' argument instead.\n",
      "  _log_warning(\"'verbose_eval' argument is deprecated and will be removed in a future release of LightGBM. \"\n",
      "\u001b[32m[I 2022-01-26 17:45:00,243]\u001b[0m Trial 21 finished with value: 0.7984619216638645 and parameters: {'num_leaves': 52}. Best is trial 7 with value: 0.7984619216638645.\u001b[0m\n",
      "/home/yuuuuutaro/.cache/pypoetry/virtualenvs/urshifu-uBlELXII-py3.8/lib/python3.8/site-packages/lightgbm/engine.py:181: UserWarning: 'early_stopping_rounds' argument is deprecated and will be removed in a future release of LightGBM. Pass 'early_stopping()' callback via 'callbacks' argument instead.\n",
      "  _log_warning(\"'early_stopping_rounds' argument is deprecated and will be removed in a future release of LightGBM. \"\n",
      "/home/yuuuuutaro/.cache/pypoetry/virtualenvs/urshifu-uBlELXII-py3.8/lib/python3.8/site-packages/lightgbm/engine.py:239: UserWarning: 'verbose_eval' argument is deprecated and will be removed in a future release of LightGBM. Pass 'log_evaluation()' callback via 'callbacks' argument instead.\n",
      "  _log_warning(\"'verbose_eval' argument is deprecated and will be removed in a future release of LightGBM. \"\n",
      "\u001b[32m[I 2022-01-26 17:45:00,898]\u001b[0m Trial 22 finished with value: 0.7984619216638645 and parameters: {'num_leaves': 111}. Best is trial 7 with value: 0.7984619216638645.\u001b[0m\n",
      "/home/yuuuuutaro/.cache/pypoetry/virtualenvs/urshifu-uBlELXII-py3.8/lib/python3.8/site-packages/lightgbm/engine.py:181: UserWarning: 'early_stopping_rounds' argument is deprecated and will be removed in a future release of LightGBM. Pass 'early_stopping()' callback via 'callbacks' argument instead.\n",
      "  _log_warning(\"'early_stopping_rounds' argument is deprecated and will be removed in a future release of LightGBM. \"\n",
      "/home/yuuuuutaro/.cache/pypoetry/virtualenvs/urshifu-uBlELXII-py3.8/lib/python3.8/site-packages/lightgbm/engine.py:239: UserWarning: 'verbose_eval' argument is deprecated and will be removed in a future release of LightGBM. Pass 'log_evaluation()' callback via 'callbacks' argument instead.\n",
      "  _log_warning(\"'verbose_eval' argument is deprecated and will be removed in a future release of LightGBM. \"\n",
      "\u001b[32m[I 2022-01-26 17:45:01,588]\u001b[0m Trial 23 finished with value: 0.7984619216638645 and parameters: {'num_leaves': 43}. Best is trial 7 with value: 0.7984619216638645.\u001b[0m\n",
      "/home/yuuuuutaro/.cache/pypoetry/virtualenvs/urshifu-uBlELXII-py3.8/lib/python3.8/site-packages/lightgbm/engine.py:181: UserWarning: 'early_stopping_rounds' argument is deprecated and will be removed in a future release of LightGBM. Pass 'early_stopping()' callback via 'callbacks' argument instead.\n",
      "  _log_warning(\"'early_stopping_rounds' argument is deprecated and will be removed in a future release of LightGBM. \"\n",
      "/home/yuuuuutaro/.cache/pypoetry/virtualenvs/urshifu-uBlELXII-py3.8/lib/python3.8/site-packages/lightgbm/engine.py:239: UserWarning: 'verbose_eval' argument is deprecated and will be removed in a future release of LightGBM. Pass 'log_evaluation()' callback via 'callbacks' argument instead.\n",
      "  _log_warning(\"'verbose_eval' argument is deprecated and will be removed in a future release of LightGBM. \"\n",
      "\u001b[32m[I 2022-01-26 17:45:02,246]\u001b[0m Trial 24 finished with value: 0.7984619216638645 and parameters: {'num_leaves': 41}. Best is trial 7 with value: 0.7984619216638645.\u001b[0m\n",
      "/home/yuuuuutaro/.cache/pypoetry/virtualenvs/urshifu-uBlELXII-py3.8/lib/python3.8/site-packages/lightgbm/engine.py:181: UserWarning: 'early_stopping_rounds' argument is deprecated and will be removed in a future release of LightGBM. Pass 'early_stopping()' callback via 'callbacks' argument instead.\n",
      "  _log_warning(\"'early_stopping_rounds' argument is deprecated and will be removed in a future release of LightGBM. \"\n",
      "/home/yuuuuutaro/.cache/pypoetry/virtualenvs/urshifu-uBlELXII-py3.8/lib/python3.8/site-packages/lightgbm/engine.py:239: UserWarning: 'verbose_eval' argument is deprecated and will be removed in a future release of LightGBM. Pass 'log_evaluation()' callback via 'callbacks' argument instead.\n",
      "  _log_warning(\"'verbose_eval' argument is deprecated and will be removed in a future release of LightGBM. \"\n",
      "\u001b[32m[I 2022-01-26 17:45:03,001]\u001b[0m Trial 25 finished with value: 0.7984619216638645 and parameters: {'num_leaves': 155}. Best is trial 7 with value: 0.7984619216638645.\u001b[0m\n",
      "/home/yuuuuutaro/.cache/pypoetry/virtualenvs/urshifu-uBlELXII-py3.8/lib/python3.8/site-packages/lightgbm/engine.py:181: UserWarning: 'early_stopping_rounds' argument is deprecated and will be removed in a future release of LightGBM. Pass 'early_stopping()' callback via 'callbacks' argument instead.\n",
      "  _log_warning(\"'early_stopping_rounds' argument is deprecated and will be removed in a future release of LightGBM. \"\n",
      "/home/yuuuuutaro/.cache/pypoetry/virtualenvs/urshifu-uBlELXII-py3.8/lib/python3.8/site-packages/lightgbm/engine.py:239: UserWarning: 'verbose_eval' argument is deprecated and will be removed in a future release of LightGBM. Pass 'log_evaluation()' callback via 'callbacks' argument instead.\n",
      "  _log_warning(\"'verbose_eval' argument is deprecated and will be removed in a future release of LightGBM. \"\n",
      "\u001b[32m[I 2022-01-26 17:45:03,514]\u001b[0m Trial 26 finished with value: 0.7984619216638645 and parameters: {'num_leaves': 40}. Best is trial 7 with value: 0.7984619216638645.\u001b[0m\n",
      "num_leaves, val_score: 0.802260: 100%|##########| 20/20 [00:15<00:00,  1.32it/s]\n",
      "/home/yuuuuutaro/.cache/pypoetry/virtualenvs/urshifu-uBlELXII-py3.8/lib/python3.8/site-packages/lightgbm/engine.py:181: UserWarning: 'early_stopping_rounds' argument is deprecated and will be removed in a future release of LightGBM. Pass 'early_stopping()' callback via 'callbacks' argument instead.\n",
      "  _log_warning(\"'early_stopping_rounds' argument is deprecated and will be removed in a future release of LightGBM. \"\n",
      "/home/yuuuuutaro/.cache/pypoetry/virtualenvs/urshifu-uBlELXII-py3.8/lib/python3.8/site-packages/lightgbm/engine.py:239: UserWarning: 'verbose_eval' argument is deprecated and will be removed in a future release of LightGBM. Pass 'log_evaluation()' callback via 'callbacks' argument instead.\n",
      "  _log_warning(\"'verbose_eval' argument is deprecated and will be removed in a future release of LightGBM. \"\n",
      "\u001b[32m[I 2022-01-26 17:45:04,259]\u001b[0m Trial 27 finished with value: 0.7949125101189364 and parameters: {'bagging_fraction': 0.9827835351429961, 'bagging_freq': 1}. Best is trial 27 with value: 0.7949125101189364.\u001b[0m\n",
      "/home/yuuuuutaro/.cache/pypoetry/virtualenvs/urshifu-uBlELXII-py3.8/lib/python3.8/site-packages/lightgbm/engine.py:181: UserWarning: 'early_stopping_rounds' argument is deprecated and will be removed in a future release of LightGBM. Pass 'early_stopping()' callback via 'callbacks' argument instead.\n",
      "  _log_warning(\"'early_stopping_rounds' argument is deprecated and will be removed in a future release of LightGBM. \"\n",
      "/home/yuuuuutaro/.cache/pypoetry/virtualenvs/urshifu-uBlELXII-py3.8/lib/python3.8/site-packages/lightgbm/engine.py:239: UserWarning: 'verbose_eval' argument is deprecated and will be removed in a future release of LightGBM. Pass 'log_evaluation()' callback via 'callbacks' argument instead.\n",
      "  _log_warning(\"'verbose_eval' argument is deprecated and will be removed in a future release of LightGBM. \"\n",
      "\u001b[32m[I 2022-01-26 17:45:04,835]\u001b[0m Trial 28 finished with value: 0.7994582477115636 and parameters: {'bagging_fraction': 0.7986694743363214, 'bagging_freq': 4}. Best is trial 28 with value: 0.7994582477115636.\u001b[0m\n",
      "/home/yuuuuutaro/.cache/pypoetry/virtualenvs/urshifu-uBlELXII-py3.8/lib/python3.8/site-packages/lightgbm/engine.py:181: UserWarning: 'early_stopping_rounds' argument is deprecated and will be removed in a future release of LightGBM. Pass 'early_stopping()' callback via 'callbacks' argument instead.\n",
      "  _log_warning(\"'early_stopping_rounds' argument is deprecated and will be removed in a future release of LightGBM. \"\n",
      "/home/yuuuuutaro/.cache/pypoetry/virtualenvs/urshifu-uBlELXII-py3.8/lib/python3.8/site-packages/lightgbm/engine.py:239: UserWarning: 'verbose_eval' argument is deprecated and will be removed in a future release of LightGBM. Pass 'log_evaluation()' callback via 'callbacks' argument instead.\n",
      "  _log_warning(\"'verbose_eval' argument is deprecated and will be removed in a future release of LightGBM. \"\n",
      "\u001b[32m[I 2022-01-26 17:45:05,107]\u001b[0m Trial 29 finished with value: 0.8081138302509496 and parameters: {'bagging_fraction': 0.7575502275332174, 'bagging_freq': 5}. Best is trial 29 with value: 0.8081138302509496.\u001b[0m\n",
      "/home/yuuuuutaro/.cache/pypoetry/virtualenvs/urshifu-uBlELXII-py3.8/lib/python3.8/site-packages/lightgbm/engine.py:181: UserWarning: 'early_stopping_rounds' argument is deprecated and will be removed in a future release of LightGBM. Pass 'early_stopping()' callback via 'callbacks' argument instead.\n",
      "  _log_warning(\"'early_stopping_rounds' argument is deprecated and will be removed in a future release of LightGBM. \"\n",
      "/home/yuuuuutaro/.cache/pypoetry/virtualenvs/urshifu-uBlELXII-py3.8/lib/python3.8/site-packages/lightgbm/engine.py:239: UserWarning: 'verbose_eval' argument is deprecated and will be removed in a future release of LightGBM. Pass 'log_evaluation()' callback via 'callbacks' argument instead.\n",
      "  _log_warning(\"'verbose_eval' argument is deprecated and will be removed in a future release of LightGBM. \"\n",
      "\u001b[32m[I 2022-01-26 17:45:05,512]\u001b[0m Trial 30 finished with value: 0.7919858023538203 and parameters: {'bagging_fraction': 0.9245117450307407, 'bagging_freq': 6}. Best is trial 29 with value: 0.8081138302509496.\u001b[0m\n",
      "/home/yuuuuutaro/.cache/pypoetry/virtualenvs/urshifu-uBlELXII-py3.8/lib/python3.8/site-packages/lightgbm/engine.py:181: UserWarning: 'early_stopping_rounds' argument is deprecated and will be removed in a future release of LightGBM. Pass 'early_stopping()' callback via 'callbacks' argument instead.\n",
      "  _log_warning(\"'early_stopping_rounds' argument is deprecated and will be removed in a future release of LightGBM. \"\n",
      "/home/yuuuuutaro/.cache/pypoetry/virtualenvs/urshifu-uBlELXII-py3.8/lib/python3.8/site-packages/lightgbm/engine.py:239: UserWarning: 'verbose_eval' argument is deprecated and will be removed in a future release of LightGBM. Pass 'log_evaluation()' callback via 'callbacks' argument instead.\n",
      "  _log_warning(\"'verbose_eval' argument is deprecated and will be removed in a future release of LightGBM. \"\n",
      "\u001b[32m[I 2022-01-26 17:45:06,008]\u001b[0m Trial 31 finished with value: 0.7828943271685659 and parameters: {'bagging_fraction': 0.8027217137933627, 'bagging_freq': 2}. Best is trial 29 with value: 0.8081138302509496.\u001b[0m\n",
      "/home/yuuuuutaro/.cache/pypoetry/virtualenvs/urshifu-uBlELXII-py3.8/lib/python3.8/site-packages/lightgbm/engine.py:181: UserWarning: 'early_stopping_rounds' argument is deprecated and will be removed in a future release of LightGBM. Pass 'early_stopping()' callback via 'callbacks' argument instead.\n",
      "  _log_warning(\"'early_stopping_rounds' argument is deprecated and will be removed in a future release of LightGBM. \"\n",
      "/home/yuuuuutaro/.cache/pypoetry/virtualenvs/urshifu-uBlELXII-py3.8/lib/python3.8/site-packages/lightgbm/engine.py:239: UserWarning: 'verbose_eval' argument is deprecated and will be removed in a future release of LightGBM. Pass 'log_evaluation()' callback via 'callbacks' argument instead.\n",
      "  _log_warning(\"'verbose_eval' argument is deprecated and will be removed in a future release of LightGBM. \"\n",
      "\u001b[32m[I 2022-01-26 17:45:06,495]\u001b[0m Trial 32 finished with value: 0.7803412416713369 and parameters: {'bagging_fraction': 0.5946965535485165, 'bagging_freq': 5}. Best is trial 29 with value: 0.8081138302509496.\u001b[0m\n",
      "/home/yuuuuutaro/.cache/pypoetry/virtualenvs/urshifu-uBlELXII-py3.8/lib/python3.8/site-packages/lightgbm/engine.py:181: UserWarning: 'early_stopping_rounds' argument is deprecated and will be removed in a future release of LightGBM. Pass 'early_stopping()' callback via 'callbacks' argument instead.\n",
      "  _log_warning(\"'early_stopping_rounds' argument is deprecated and will be removed in a future release of LightGBM. \"\n",
      "/home/yuuuuutaro/.cache/pypoetry/virtualenvs/urshifu-uBlELXII-py3.8/lib/python3.8/site-packages/lightgbm/engine.py:239: UserWarning: 'verbose_eval' argument is deprecated and will be removed in a future release of LightGBM. Pass 'log_evaluation()' callback via 'callbacks' argument instead.\n",
      "  _log_warning(\"'verbose_eval' argument is deprecated and will be removed in a future release of LightGBM. \"\n",
      "\u001b[32m[I 2022-01-26 17:45:06,986]\u001b[0m Trial 33 finished with value: 0.7696930070365527 and parameters: {'bagging_fraction': 0.8505274651418967, 'bagging_freq': 1}. Best is trial 29 with value: 0.8081138302509496.\u001b[0m\n",
      "/home/yuuuuutaro/.cache/pypoetry/virtualenvs/urshifu-uBlELXII-py3.8/lib/python3.8/site-packages/lightgbm/engine.py:181: UserWarning: 'early_stopping_rounds' argument is deprecated and will be removed in a future release of LightGBM. Pass 'early_stopping()' callback via 'callbacks' argument instead.\n",
      "  _log_warning(\"'early_stopping_rounds' argument is deprecated and will be removed in a future release of LightGBM. \"\n",
      "/home/yuuuuutaro/.cache/pypoetry/virtualenvs/urshifu-uBlELXII-py3.8/lib/python3.8/site-packages/lightgbm/engine.py:239: UserWarning: 'verbose_eval' argument is deprecated and will be removed in a future release of LightGBM. Pass 'log_evaluation()' callback via 'callbacks' argument instead.\n",
      "  _log_warning(\"'verbose_eval' argument is deprecated and will be removed in a future release of LightGBM. \"\n",
      "\u001b[32m[I 2022-01-26 17:45:07,375]\u001b[0m Trial 34 finished with value: 0.7840151939722274 and parameters: {'bagging_fraction': 0.5918549486732174, 'bagging_freq': 5}. Best is trial 29 with value: 0.8081138302509496.\u001b[0m\n",
      "/home/yuuuuutaro/.cache/pypoetry/virtualenvs/urshifu-uBlELXII-py3.8/lib/python3.8/site-packages/lightgbm/engine.py:181: UserWarning: 'early_stopping_rounds' argument is deprecated and will be removed in a future release of LightGBM. Pass 'early_stopping()' callback via 'callbacks' argument instead.\n",
      "  _log_warning(\"'early_stopping_rounds' argument is deprecated and will be removed in a future release of LightGBM. \"\n",
      "/home/yuuuuutaro/.cache/pypoetry/virtualenvs/urshifu-uBlELXII-py3.8/lib/python3.8/site-packages/lightgbm/engine.py:239: UserWarning: 'verbose_eval' argument is deprecated and will be removed in a future release of LightGBM. Pass 'log_evaluation()' callback via 'callbacks' argument instead.\n",
      "  _log_warning(\"'verbose_eval' argument is deprecated and will be removed in a future release of LightGBM. \"\n",
      "\u001b[32m[I 2022-01-26 17:45:07,749]\u001b[0m Trial 35 finished with value: 0.7936048321813314 and parameters: {'bagging_fraction': 0.6069967310218545, 'bagging_freq': 6}. Best is trial 29 with value: 0.8081138302509496.\u001b[0m\n",
      "/home/yuuuuutaro/.cache/pypoetry/virtualenvs/urshifu-uBlELXII-py3.8/lib/python3.8/site-packages/lightgbm/engine.py:181: UserWarning: 'early_stopping_rounds' argument is deprecated and will be removed in a future release of LightGBM. Pass 'early_stopping()' callback via 'callbacks' argument instead.\n",
      "  _log_warning(\"'early_stopping_rounds' argument is deprecated and will be removed in a future release of LightGBM. \"\n",
      "/home/yuuuuutaro/.cache/pypoetry/virtualenvs/urshifu-uBlELXII-py3.8/lib/python3.8/site-packages/lightgbm/engine.py:239: UserWarning: 'verbose_eval' argument is deprecated and will be removed in a future release of LightGBM. Pass 'log_evaluation()' callback via 'callbacks' argument instead.\n",
      "  _log_warning(\"'verbose_eval' argument is deprecated and will be removed in a future release of LightGBM. \"\n",
      "\u001b[32m[I 2022-01-26 17:45:08,024]\u001b[0m Trial 36 finished with value: 0.7701911700604023 and parameters: {'bagging_fraction': 0.4318367338998849, 'bagging_freq': 1}. Best is trial 29 with value: 0.8081138302509496.\u001b[0m\n",
      "bagging, val_score: 0.808114: 100%|##########| 10/10 [00:04<00:00,  2.22it/s]\n",
      "/home/yuuuuutaro/.cache/pypoetry/virtualenvs/urshifu-uBlELXII-py3.8/lib/python3.8/site-packages/lightgbm/engine.py:181: UserWarning: 'early_stopping_rounds' argument is deprecated and will be removed in a future release of LightGBM. Pass 'early_stopping()' callback via 'callbacks' argument instead.\n",
      "  _log_warning(\"'early_stopping_rounds' argument is deprecated and will be removed in a future release of LightGBM. \"\n",
      "/home/yuuuuutaro/.cache/pypoetry/virtualenvs/urshifu-uBlELXII-py3.8/lib/python3.8/site-packages/lightgbm/engine.py:239: UserWarning: 'verbose_eval' argument is deprecated and will be removed in a future release of LightGBM. Pass 'log_evaluation()' callback via 'callbacks' argument instead.\n",
      "  _log_warning(\"'verbose_eval' argument is deprecated and will be removed in a future release of LightGBM. \"\n",
      "\u001b[32m[I 2022-01-26 17:45:08,442]\u001b[0m Trial 37 finished with value: 0.7856964941777197 and parameters: {'feature_fraction': 0.9840000000000001}. Best is trial 37 with value: 0.7856964941777197.\u001b[0m\n",
      "/home/yuuuuutaro/.cache/pypoetry/virtualenvs/urshifu-uBlELXII-py3.8/lib/python3.8/site-packages/lightgbm/engine.py:181: UserWarning: 'early_stopping_rounds' argument is deprecated and will be removed in a future release of LightGBM. Pass 'early_stopping()' callback via 'callbacks' argument instead.\n",
      "  _log_warning(\"'early_stopping_rounds' argument is deprecated and will be removed in a future release of LightGBM. \"\n",
      "/home/yuuuuutaro/.cache/pypoetry/virtualenvs/urshifu-uBlELXII-py3.8/lib/python3.8/site-packages/lightgbm/engine.py:239: UserWarning: 'verbose_eval' argument is deprecated and will be removed in a future release of LightGBM. Pass 'log_evaluation()' callback via 'callbacks' argument instead.\n",
      "  _log_warning(\"'verbose_eval' argument is deprecated and will be removed in a future release of LightGBM. \"\n",
      "\u001b[32m[I 2022-01-26 17:45:08,767]\u001b[0m Trial 38 finished with value: 0.7880627685410051 and parameters: {'feature_fraction': 0.9520000000000001}. Best is trial 38 with value: 0.7880627685410051.\u001b[0m\n",
      "/home/yuuuuutaro/.cache/pypoetry/virtualenvs/urshifu-uBlELXII-py3.8/lib/python3.8/site-packages/lightgbm/engine.py:181: UserWarning: 'early_stopping_rounds' argument is deprecated and will be removed in a future release of LightGBM. Pass 'early_stopping()' callback via 'callbacks' argument instead.\n",
      "  _log_warning(\"'early_stopping_rounds' argument is deprecated and will be removed in a future release of LightGBM. \"\n",
      "/home/yuuuuutaro/.cache/pypoetry/virtualenvs/urshifu-uBlELXII-py3.8/lib/python3.8/site-packages/lightgbm/engine.py:239: UserWarning: 'verbose_eval' argument is deprecated and will be removed in a future release of LightGBM. Pass 'log_evaluation()' callback via 'callbacks' argument instead.\n",
      "  _log_warning(\"'verbose_eval' argument is deprecated and will be removed in a future release of LightGBM. \"\n",
      "\u001b[32m[I 2022-01-26 17:45:09,156]\u001b[0m Trial 39 finished with value: 0.8018867924528302 and parameters: {'feature_fraction': 0.92}. Best is trial 39 with value: 0.8018867924528302.\u001b[0m\n",
      "feature_fraction_stage2, val_score: 0.808114: 100%|##########| 3/3 [00:01<00:00,  2.67it/s]\n",
      "/home/yuuuuutaro/.cache/pypoetry/virtualenvs/urshifu-uBlELXII-py3.8/lib/python3.8/site-packages/lightgbm/engine.py:181: UserWarning: 'early_stopping_rounds' argument is deprecated and will be removed in a future release of LightGBM. Pass 'early_stopping()' callback via 'callbacks' argument instead.\n",
      "  _log_warning(\"'early_stopping_rounds' argument is deprecated and will be removed in a future release of LightGBM. \"\n",
      "/home/yuuuuutaro/.cache/pypoetry/virtualenvs/urshifu-uBlELXII-py3.8/lib/python3.8/site-packages/lightgbm/engine.py:239: UserWarning: 'verbose_eval' argument is deprecated and will be removed in a future release of LightGBM. Pass 'log_evaluation()' callback via 'callbacks' argument instead.\n",
      "  _log_warning(\"'verbose_eval' argument is deprecated and will be removed in a future release of LightGBM. \"\n",
      "\u001b[32m[I 2022-01-26 17:45:09,625]\u001b[0m Trial 40 finished with value: 0.804377607572078 and parameters: {'lambda_l1': 4.548421301636339e-08, 'lambda_l2': 0.08358166305824519}. Best is trial 40 with value: 0.804377607572078.\u001b[0m\n",
      "/home/yuuuuutaro/.cache/pypoetry/virtualenvs/urshifu-uBlELXII-py3.8/lib/python3.8/site-packages/lightgbm/engine.py:181: UserWarning: 'early_stopping_rounds' argument is deprecated and will be removed in a future release of LightGBM. Pass 'early_stopping()' callback via 'callbacks' argument instead.\n",
      "  _log_warning(\"'early_stopping_rounds' argument is deprecated and will be removed in a future release of LightGBM. \"\n",
      "/home/yuuuuutaro/.cache/pypoetry/virtualenvs/urshifu-uBlELXII-py3.8/lib/python3.8/site-packages/lightgbm/engine.py:239: UserWarning: 'verbose_eval' argument is deprecated and will be removed in a future release of LightGBM. Pass 'log_evaluation()' callback via 'callbacks' argument instead.\n",
      "  _log_warning(\"'verbose_eval' argument is deprecated and will be removed in a future release of LightGBM. \"\n",
      "\u001b[32m[I 2022-01-26 17:45:10,054]\u001b[0m Trial 41 finished with value: 0.8081138302509496 and parameters: {'lambda_l1': 7.358920567517521e-07, 'lambda_l2': 0.00025190530551934834}. Best is trial 41 with value: 0.8081138302509496.\u001b[0m\n",
      "/home/yuuuuutaro/.cache/pypoetry/virtualenvs/urshifu-uBlELXII-py3.8/lib/python3.8/site-packages/lightgbm/engine.py:181: UserWarning: 'early_stopping_rounds' argument is deprecated and will be removed in a future release of LightGBM. Pass 'early_stopping()' callback via 'callbacks' argument instead.\n",
      "  _log_warning(\"'early_stopping_rounds' argument is deprecated and will be removed in a future release of LightGBM. \"\n",
      "/home/yuuuuutaro/.cache/pypoetry/virtualenvs/urshifu-uBlELXII-py3.8/lib/python3.8/site-packages/lightgbm/engine.py:239: UserWarning: 'verbose_eval' argument is deprecated and will be removed in a future release of LightGBM. Pass 'log_evaluation()' callback via 'callbacks' argument instead.\n",
      "  _log_warning(\"'verbose_eval' argument is deprecated and will be removed in a future release of LightGBM. \"\n",
      "\u001b[32m[I 2022-01-26 17:45:10,351]\u001b[0m Trial 42 finished with value: 0.7915499097079519 and parameters: {'lambda_l1': 0.22621315158437175, 'lambda_l2': 3.5571409609625695}. Best is trial 41 with value: 0.8081138302509496.\u001b[0m\n",
      "/home/yuuuuutaro/.cache/pypoetry/virtualenvs/urshifu-uBlELXII-py3.8/lib/python3.8/site-packages/lightgbm/engine.py:181: UserWarning: 'early_stopping_rounds' argument is deprecated and will be removed in a future release of LightGBM. Pass 'early_stopping()' callback via 'callbacks' argument instead.\n",
      "  _log_warning(\"'early_stopping_rounds' argument is deprecated and will be removed in a future release of LightGBM. \"\n",
      "/home/yuuuuutaro/.cache/pypoetry/virtualenvs/urshifu-uBlELXII-py3.8/lib/python3.8/site-packages/lightgbm/engine.py:239: UserWarning: 'verbose_eval' argument is deprecated and will be removed in a future release of LightGBM. Pass 'log_evaluation()' callback via 'callbacks' argument instead.\n",
      "  _log_warning(\"'verbose_eval' argument is deprecated and will be removed in a future release of LightGBM. \"\n",
      "\u001b[32m[I 2022-01-26 17:45:11,023]\u001b[0m Trial 43 finished with value: 0.7989600846877141 and parameters: {'lambda_l1': 0.005007774490197615, 'lambda_l2': 0.00043754646899987477}. Best is trial 41 with value: 0.8081138302509496.\u001b[0m\n",
      "/home/yuuuuutaro/.cache/pypoetry/virtualenvs/urshifu-uBlELXII-py3.8/lib/python3.8/site-packages/lightgbm/engine.py:181: UserWarning: 'early_stopping_rounds' argument is deprecated and will be removed in a future release of LightGBM. Pass 'early_stopping()' callback via 'callbacks' argument instead.\n",
      "  _log_warning(\"'early_stopping_rounds' argument is deprecated and will be removed in a future release of LightGBM. \"\n",
      "/home/yuuuuutaro/.cache/pypoetry/virtualenvs/urshifu-uBlELXII-py3.8/lib/python3.8/site-packages/lightgbm/engine.py:239: UserWarning: 'verbose_eval' argument is deprecated and will be removed in a future release of LightGBM. Pass 'log_evaluation()' callback via 'callbacks' argument instead.\n",
      "  _log_warning(\"'verbose_eval' argument is deprecated and will be removed in a future release of LightGBM. \"\n",
      "\u001b[32m[I 2022-01-26 17:45:11,371]\u001b[0m Trial 44 finished with value: 0.8083006413848932 and parameters: {'lambda_l1': 0.005203019744307461, 'lambda_l2': 0.053127955951292764}. Best is trial 44 with value: 0.8083006413848932.\u001b[0m\n",
      "/home/yuuuuutaro/.cache/pypoetry/virtualenvs/urshifu-uBlELXII-py3.8/lib/python3.8/site-packages/lightgbm/engine.py:181: UserWarning: 'early_stopping_rounds' argument is deprecated and will be removed in a future release of LightGBM. Pass 'early_stopping()' callback via 'callbacks' argument instead.\n",
      "  _log_warning(\"'early_stopping_rounds' argument is deprecated and will be removed in a future release of LightGBM. \"\n",
      "/home/yuuuuutaro/.cache/pypoetry/virtualenvs/urshifu-uBlELXII-py3.8/lib/python3.8/site-packages/lightgbm/engine.py:239: UserWarning: 'verbose_eval' argument is deprecated and will be removed in a future release of LightGBM. Pass 'log_evaluation()' callback via 'callbacks' argument instead.\n",
      "  _log_warning(\"'verbose_eval' argument is deprecated and will be removed in a future release of LightGBM. \"\n",
      "\u001b[32m[I 2022-01-26 17:45:11,837]\u001b[0m Trial 45 finished with value: 0.793168939535463 and parameters: {'lambda_l1': 0.010278134434500206, 'lambda_l2': 1.855400179525715e-07}. Best is trial 44 with value: 0.8083006413848932.\u001b[0m\n",
      "/home/yuuuuutaro/.cache/pypoetry/virtualenvs/urshifu-uBlELXII-py3.8/lib/python3.8/site-packages/lightgbm/engine.py:181: UserWarning: 'early_stopping_rounds' argument is deprecated and will be removed in a future release of LightGBM. Pass 'early_stopping()' callback via 'callbacks' argument instead.\n",
      "  _log_warning(\"'early_stopping_rounds' argument is deprecated and will be removed in a future release of LightGBM. \"\n",
      "/home/yuuuuutaro/.cache/pypoetry/virtualenvs/urshifu-uBlELXII-py3.8/lib/python3.8/site-packages/lightgbm/engine.py:239: UserWarning: 'verbose_eval' argument is deprecated and will be removed in a future release of LightGBM. Pass 'log_evaluation()' callback via 'callbacks' argument instead.\n",
      "  _log_warning(\"'verbose_eval' argument is deprecated and will be removed in a future release of LightGBM. \"\n",
      "\u001b[32m[I 2022-01-26 17:45:12,151]\u001b[0m Trial 46 finished with value: 0.8081138302509496 and parameters: {'lambda_l1': 1.2659879318656463e-06, 'lambda_l2': 2.366582947651926e-08}. Best is trial 44 with value: 0.8083006413848932.\u001b[0m\n",
      "/home/yuuuuutaro/.cache/pypoetry/virtualenvs/urshifu-uBlELXII-py3.8/lib/python3.8/site-packages/lightgbm/engine.py:181: UserWarning: 'early_stopping_rounds' argument is deprecated and will be removed in a future release of LightGBM. Pass 'early_stopping()' callback via 'callbacks' argument instead.\n",
      "  _log_warning(\"'early_stopping_rounds' argument is deprecated and will be removed in a future release of LightGBM. \"\n",
      "/home/yuuuuutaro/.cache/pypoetry/virtualenvs/urshifu-uBlELXII-py3.8/lib/python3.8/site-packages/lightgbm/engine.py:239: UserWarning: 'verbose_eval' argument is deprecated and will be removed in a future release of LightGBM. Pass 'log_evaluation()' callback via 'callbacks' argument instead.\n",
      "  _log_warning(\"'verbose_eval' argument is deprecated and will be removed in a future release of LightGBM. \"\n",
      "\u001b[32m[I 2022-01-26 17:45:12,504]\u001b[0m Trial 47 finished with value: 0.7971542437262594 and parameters: {'lambda_l1': 3.869656134094658, 'lambda_l2': 1.5766647845552816e-05}. Best is trial 44 with value: 0.8083006413848932.\u001b[0m\n",
      "/home/yuuuuutaro/.cache/pypoetry/virtualenvs/urshifu-uBlELXII-py3.8/lib/python3.8/site-packages/lightgbm/engine.py:181: UserWarning: 'early_stopping_rounds' argument is deprecated and will be removed in a future release of LightGBM. Pass 'early_stopping()' callback via 'callbacks' argument instead.\n",
      "  _log_warning(\"'early_stopping_rounds' argument is deprecated and will be removed in a future release of LightGBM. \"\n",
      "/home/yuuuuutaro/.cache/pypoetry/virtualenvs/urshifu-uBlELXII-py3.8/lib/python3.8/site-packages/lightgbm/engine.py:239: UserWarning: 'verbose_eval' argument is deprecated and will be removed in a future release of LightGBM. Pass 'log_evaluation()' callback via 'callbacks' argument instead.\n",
      "  _log_warning(\"'verbose_eval' argument is deprecated and will be removed in a future release of LightGBM. \"\n",
      "\u001b[32m[I 2022-01-26 17:45:12,760]\u001b[0m Trial 48 finished with value: 0.7883118500529298 and parameters: {'lambda_l1': 6.000348146680756, 'lambda_l2': 3.990069449639787e-06}. Best is trial 44 with value: 0.8083006413848932.\u001b[0m\n",
      "/home/yuuuuutaro/.cache/pypoetry/virtualenvs/urshifu-uBlELXII-py3.8/lib/python3.8/site-packages/lightgbm/engine.py:181: UserWarning: 'early_stopping_rounds' argument is deprecated and will be removed in a future release of LightGBM. Pass 'early_stopping()' callback via 'callbacks' argument instead.\n",
      "  _log_warning(\"'early_stopping_rounds' argument is deprecated and will be removed in a future release of LightGBM. \"\n",
      "/home/yuuuuutaro/.cache/pypoetry/virtualenvs/urshifu-uBlELXII-py3.8/lib/python3.8/site-packages/lightgbm/engine.py:239: UserWarning: 'verbose_eval' argument is deprecated and will be removed in a future release of LightGBM. Pass 'log_evaluation()' callback via 'callbacks' argument instead.\n",
      "  _log_warning(\"'verbose_eval' argument is deprecated and will be removed in a future release of LightGBM. \"\n",
      "\u001b[32m[I 2022-01-26 17:45:13,150]\u001b[0m Trial 49 finished with value: 0.7910517466841024 and parameters: {'lambda_l1': 3.8127051965532037, 'lambda_l2': 9.439341415160376e-05}. Best is trial 44 with value: 0.8083006413848932.\u001b[0m\n",
      "/home/yuuuuutaro/.cache/pypoetry/virtualenvs/urshifu-uBlELXII-py3.8/lib/python3.8/site-packages/lightgbm/engine.py:181: UserWarning: 'early_stopping_rounds' argument is deprecated and will be removed in a future release of LightGBM. Pass 'early_stopping()' callback via 'callbacks' argument instead.\n",
      "  _log_warning(\"'early_stopping_rounds' argument is deprecated and will be removed in a future release of LightGBM. \"\n",
      "/home/yuuuuutaro/.cache/pypoetry/virtualenvs/urshifu-uBlELXII-py3.8/lib/python3.8/site-packages/lightgbm/engine.py:239: UserWarning: 'verbose_eval' argument is deprecated and will be removed in a future release of LightGBM. Pass 'log_evaluation()' callback via 'callbacks' argument instead.\n",
      "  _log_warning(\"'verbose_eval' argument is deprecated and will be removed in a future release of LightGBM. \"\n",
      "\u001b[32m[I 2022-01-26 17:45:13,756]\u001b[0m Trial 50 finished with value: 0.7992091661996388 and parameters: {'lambda_l1': 0.00013101172378868255, 'lambda_l2': 0.0716578629298561}. Best is trial 44 with value: 0.8083006413848932.\u001b[0m\n",
      "/home/yuuuuutaro/.cache/pypoetry/virtualenvs/urshifu-uBlELXII-py3.8/lib/python3.8/site-packages/lightgbm/engine.py:181: UserWarning: 'early_stopping_rounds' argument is deprecated and will be removed in a future release of LightGBM. Pass 'early_stopping()' callback via 'callbacks' argument instead.\n",
      "  _log_warning(\"'early_stopping_rounds' argument is deprecated and will be removed in a future release of LightGBM. \"\n",
      "/home/yuuuuutaro/.cache/pypoetry/virtualenvs/urshifu-uBlELXII-py3.8/lib/python3.8/site-packages/lightgbm/engine.py:239: UserWarning: 'verbose_eval' argument is deprecated and will be removed in a future release of LightGBM. Pass 'log_evaluation()' callback via 'callbacks' argument instead.\n",
      "  _log_warning(\"'verbose_eval' argument is deprecated and will be removed in a future release of LightGBM. \"\n",
      "\u001b[32m[I 2022-01-26 17:45:14,121]\u001b[0m Trial 51 finished with value: 0.7962201880565415 and parameters: {'lambda_l1': 1.9113277836082792e-05, 'lambda_l2': 0.00434434419775383}. Best is trial 44 with value: 0.8083006413848932.\u001b[0m\n",
      "/home/yuuuuutaro/.cache/pypoetry/virtualenvs/urshifu-uBlELXII-py3.8/lib/python3.8/site-packages/lightgbm/engine.py:181: UserWarning: 'early_stopping_rounds' argument is deprecated and will be removed in a future release of LightGBM. Pass 'early_stopping()' callback via 'callbacks' argument instead.\n",
      "  _log_warning(\"'early_stopping_rounds' argument is deprecated and will be removed in a future release of LightGBM. \"\n",
      "/home/yuuuuutaro/.cache/pypoetry/virtualenvs/urshifu-uBlELXII-py3.8/lib/python3.8/site-packages/lightgbm/engine.py:239: UserWarning: 'verbose_eval' argument is deprecated and will be removed in a future release of LightGBM. Pass 'log_evaluation()' callback via 'callbacks' argument instead.\n",
      "  _log_warning(\"'verbose_eval' argument is deprecated and will be removed in a future release of LightGBM. \"\n",
      "\u001b[32m[I 2022-01-26 17:45:14,456]\u001b[0m Trial 52 finished with value: 0.79092720592814 and parameters: {'lambda_l1': 1.2826191571328464e-08, 'lambda_l2': 0.0069101452934320195}. Best is trial 44 with value: 0.8083006413848932.\u001b[0m\n",
      "/home/yuuuuutaro/.cache/pypoetry/virtualenvs/urshifu-uBlELXII-py3.8/lib/python3.8/site-packages/lightgbm/engine.py:181: UserWarning: 'early_stopping_rounds' argument is deprecated and will be removed in a future release of LightGBM. Pass 'early_stopping()' callback via 'callbacks' argument instead.\n",
      "  _log_warning(\"'early_stopping_rounds' argument is deprecated and will be removed in a future release of LightGBM. \"\n",
      "/home/yuuuuutaro/.cache/pypoetry/virtualenvs/urshifu-uBlELXII-py3.8/lib/python3.8/site-packages/lightgbm/engine.py:239: UserWarning: 'verbose_eval' argument is deprecated and will be removed in a future release of LightGBM. Pass 'log_evaluation()' callback via 'callbacks' argument instead.\n",
      "  _log_warning(\"'verbose_eval' argument is deprecated and will be removed in a future release of LightGBM. \"\n",
      "\u001b[32m[I 2022-01-26 17:45:14,906]\u001b[0m Trial 53 finished with value: 0.8004545737592628 and parameters: {'lambda_l1': 1.4031748236415786e-06, 'lambda_l2': 7.6547158176684515}. Best is trial 44 with value: 0.8083006413848932.\u001b[0m\n",
      "/home/yuuuuutaro/.cache/pypoetry/virtualenvs/urshifu-uBlELXII-py3.8/lib/python3.8/site-packages/lightgbm/engine.py:181: UserWarning: 'early_stopping_rounds' argument is deprecated and will be removed in a future release of LightGBM. Pass 'early_stopping()' callback via 'callbacks' argument instead.\n",
      "  _log_warning(\"'early_stopping_rounds' argument is deprecated and will be removed in a future release of LightGBM. \"\n",
      "/home/yuuuuutaro/.cache/pypoetry/virtualenvs/urshifu-uBlELXII-py3.8/lib/python3.8/site-packages/lightgbm/engine.py:239: UserWarning: 'verbose_eval' argument is deprecated and will be removed in a future release of LightGBM. Pass 'log_evaluation()' callback via 'callbacks' argument instead.\n",
      "  _log_warning(\"'verbose_eval' argument is deprecated and will be removed in a future release of LightGBM. \"\n",
      "\u001b[32m[I 2022-01-26 17:45:15,325]\u001b[0m Trial 54 finished with value: 0.7886232019428357 and parameters: {'lambda_l1': 0.0031193222059622654, 'lambda_l2': 0.11924344462797869}. Best is trial 44 with value: 0.8083006413848932.\u001b[0m\n",
      "/home/yuuuuutaro/.cache/pypoetry/virtualenvs/urshifu-uBlELXII-py3.8/lib/python3.8/site-packages/lightgbm/engine.py:181: UserWarning: 'early_stopping_rounds' argument is deprecated and will be removed in a future release of LightGBM. Pass 'early_stopping()' callback via 'callbacks' argument instead.\n",
      "  _log_warning(\"'early_stopping_rounds' argument is deprecated and will be removed in a future release of LightGBM. \"\n",
      "/home/yuuuuutaro/.cache/pypoetry/virtualenvs/urshifu-uBlELXII-py3.8/lib/python3.8/site-packages/lightgbm/engine.py:239: UserWarning: 'verbose_eval' argument is deprecated and will be removed in a future release of LightGBM. Pass 'log_evaluation()' callback via 'callbacks' argument instead.\n",
      "  _log_warning(\"'verbose_eval' argument is deprecated and will be removed in a future release of LightGBM. \"\n",
      "\u001b[32m[I 2022-01-26 17:45:15,703]\u001b[0m Trial 55 finished with value: 0.8090478859206676 and parameters: {'lambda_l1': 8.45867751324396e-06, 'lambda_l2': 0.0011777897005280707}. Best is trial 55 with value: 0.8090478859206676.\u001b[0m\n",
      "/home/yuuuuutaro/.cache/pypoetry/virtualenvs/urshifu-uBlELXII-py3.8/lib/python3.8/site-packages/lightgbm/engine.py:181: UserWarning: 'early_stopping_rounds' argument is deprecated and will be removed in a future release of LightGBM. Pass 'early_stopping()' callback via 'callbacks' argument instead.\n",
      "  _log_warning(\"'early_stopping_rounds' argument is deprecated and will be removed in a future release of LightGBM. \"\n",
      "/home/yuuuuutaro/.cache/pypoetry/virtualenvs/urshifu-uBlELXII-py3.8/lib/python3.8/site-packages/lightgbm/engine.py:239: UserWarning: 'verbose_eval' argument is deprecated and will be removed in a future release of LightGBM. Pass 'log_evaluation()' callback via 'callbacks' argument instead.\n",
      "  _log_warning(\"'verbose_eval' argument is deprecated and will be removed in a future release of LightGBM. \"\n",
      "\u001b[32m[I 2022-01-26 17:45:16,077]\u001b[0m Trial 56 finished with value: 0.7947256989849928 and parameters: {'lambda_l1': 0.00014405938535362942, 'lambda_l2': 0.004466762672469323}. Best is trial 55 with value: 0.8090478859206676.\u001b[0m\n",
      "/home/yuuuuutaro/.cache/pypoetry/virtualenvs/urshifu-uBlELXII-py3.8/lib/python3.8/site-packages/lightgbm/engine.py:181: UserWarning: 'early_stopping_rounds' argument is deprecated and will be removed in a future release of LightGBM. Pass 'early_stopping()' callback via 'callbacks' argument instead.\n",
      "  _log_warning(\"'early_stopping_rounds' argument is deprecated and will be removed in a future release of LightGBM. \"\n",
      "/home/yuuuuutaro/.cache/pypoetry/virtualenvs/urshifu-uBlELXII-py3.8/lib/python3.8/site-packages/lightgbm/engine.py:239: UserWarning: 'verbose_eval' argument is deprecated and will be removed in a future release of LightGBM. Pass 'log_evaluation()' callback via 'callbacks' argument instead.\n",
      "  _log_warning(\"'verbose_eval' argument is deprecated and will be removed in a future release of LightGBM. \"\n",
      "\u001b[32m[I 2022-01-26 17:45:16,489]\u001b[0m Trial 57 finished with value: 0.7994582477115636 and parameters: {'lambda_l1': 0.0699444097633602, 'lambda_l2': 0.4950947905496454}. Best is trial 55 with value: 0.8090478859206676.\u001b[0m\n",
      "/home/yuuuuutaro/.cache/pypoetry/virtualenvs/urshifu-uBlELXII-py3.8/lib/python3.8/site-packages/lightgbm/engine.py:181: UserWarning: 'early_stopping_rounds' argument is deprecated and will be removed in a future release of LightGBM. Pass 'early_stopping()' callback via 'callbacks' argument instead.\n",
      "  _log_warning(\"'early_stopping_rounds' argument is deprecated and will be removed in a future release of LightGBM. \"\n",
      "/home/yuuuuutaro/.cache/pypoetry/virtualenvs/urshifu-uBlELXII-py3.8/lib/python3.8/site-packages/lightgbm/engine.py:239: UserWarning: 'verbose_eval' argument is deprecated and will be removed in a future release of LightGBM. Pass 'log_evaluation()' callback via 'callbacks' argument instead.\n",
      "  _log_warning(\"'verbose_eval' argument is deprecated and will be removed in a future release of LightGBM. \"\n",
      "\u001b[32m[I 2022-01-26 17:45:16,860]\u001b[0m Trial 58 finished with value: 0.8081138302509496 and parameters: {'lambda_l1': 1.0245732803538173e-05, 'lambda_l2': 2.8925340627141537e-06}. Best is trial 55 with value: 0.8090478859206676.\u001b[0m\n",
      "/home/yuuuuutaro/.cache/pypoetry/virtualenvs/urshifu-uBlELXII-py3.8/lib/python3.8/site-packages/lightgbm/engine.py:181: UserWarning: 'early_stopping_rounds' argument is deprecated and will be removed in a future release of LightGBM. Pass 'early_stopping()' callback via 'callbacks' argument instead.\n",
      "  _log_warning(\"'early_stopping_rounds' argument is deprecated and will be removed in a future release of LightGBM. \"\n",
      "/home/yuuuuutaro/.cache/pypoetry/virtualenvs/urshifu-uBlELXII-py3.8/lib/python3.8/site-packages/lightgbm/engine.py:239: UserWarning: 'verbose_eval' argument is deprecated and will be removed in a future release of LightGBM. Pass 'log_evaluation()' callback via 'callbacks' argument instead.\n",
      "  _log_warning(\"'verbose_eval' argument is deprecated and will be removed in a future release of LightGBM. \"\n",
      "\u001b[32m[I 2022-01-26 17:45:17,254]\u001b[0m Trial 59 finished with value: 0.8091724266766299 and parameters: {'lambda_l1': 0.0008324588689486371, 'lambda_l2': 0.0014417904943808443}. Best is trial 59 with value: 0.8091724266766299.\u001b[0m\n",
      "regularization_factors, val_score: 0.809172: 100%|##########| 20/20 [00:08<00:00,  2.47it/s]\n",
      "/home/yuuuuutaro/.cache/pypoetry/virtualenvs/urshifu-uBlELXII-py3.8/lib/python3.8/site-packages/lightgbm/engine.py:181: UserWarning: 'early_stopping_rounds' argument is deprecated and will be removed in a future release of LightGBM. Pass 'early_stopping()' callback via 'callbacks' argument instead.\n",
      "  _log_warning(\"'early_stopping_rounds' argument is deprecated and will be removed in a future release of LightGBM. \"\n",
      "/home/yuuuuutaro/.cache/pypoetry/virtualenvs/urshifu-uBlELXII-py3.8/lib/python3.8/site-packages/lightgbm/engine.py:239: UserWarning: 'verbose_eval' argument is deprecated and will be removed in a future release of LightGBM. Pass 'log_evaluation()' callback via 'callbacks' argument instead.\n",
      "  _log_warning(\"'verbose_eval' argument is deprecated and will be removed in a future release of LightGBM. \"\n",
      "\u001b[32m[I 2022-01-26 17:45:17,982]\u001b[0m Trial 60 finished with value: 0.7630923469705461 and parameters: {'min_child_samples': 5}. Best is trial 60 with value: 0.7630923469705461.\u001b[0m\n",
      "/home/yuuuuutaro/.cache/pypoetry/virtualenvs/urshifu-uBlELXII-py3.8/lib/python3.8/site-packages/lightgbm/engine.py:181: UserWarning: 'early_stopping_rounds' argument is deprecated and will be removed in a future release of LightGBM. Pass 'early_stopping()' callback via 'callbacks' argument instead.\n",
      "  _log_warning(\"'early_stopping_rounds' argument is deprecated and will be removed in a future release of LightGBM. \"\n",
      "/home/yuuuuutaro/.cache/pypoetry/virtualenvs/urshifu-uBlELXII-py3.8/lib/python3.8/site-packages/lightgbm/engine.py:239: UserWarning: 'verbose_eval' argument is deprecated and will be removed in a future release of LightGBM. Pass 'log_evaluation()' callback via 'callbacks' argument instead.\n",
      "  _log_warning(\"'verbose_eval' argument is deprecated and will be removed in a future release of LightGBM. \"\n",
      "\u001b[32m[I 2022-01-26 17:45:18,170]\u001b[0m Trial 61 finished with value: 0.7838283828382838 and parameters: {'min_child_samples': 100}. Best is trial 61 with value: 0.7838283828382838.\u001b[0m\n",
      "/home/yuuuuutaro/.cache/pypoetry/virtualenvs/urshifu-uBlELXII-py3.8/lib/python3.8/site-packages/lightgbm/engine.py:181: UserWarning: 'early_stopping_rounds' argument is deprecated and will be removed in a future release of LightGBM. Pass 'early_stopping()' callback via 'callbacks' argument instead.\n",
      "  _log_warning(\"'early_stopping_rounds' argument is deprecated and will be removed in a future release of LightGBM. \"\n",
      "/home/yuuuuutaro/.cache/pypoetry/virtualenvs/urshifu-uBlELXII-py3.8/lib/python3.8/site-packages/lightgbm/engine.py:239: UserWarning: 'verbose_eval' argument is deprecated and will be removed in a future release of LightGBM. Pass 'log_evaluation()' callback via 'callbacks' argument instead.\n",
      "  _log_warning(\"'verbose_eval' argument is deprecated and will be removed in a future release of LightGBM. \"\n",
      "\u001b[32m[I 2022-01-26 17:45:18,546]\u001b[0m Trial 62 finished with value: 0.7840151939722274 and parameters: {'min_child_samples': 25}. Best is trial 62 with value: 0.7840151939722274.\u001b[0m\n",
      "/home/yuuuuutaro/.cache/pypoetry/virtualenvs/urshifu-uBlELXII-py3.8/lib/python3.8/site-packages/lightgbm/engine.py:181: UserWarning: 'early_stopping_rounds' argument is deprecated and will be removed in a future release of LightGBM. Pass 'early_stopping()' callback via 'callbacks' argument instead.\n",
      "  _log_warning(\"'early_stopping_rounds' argument is deprecated and will be removed in a future release of LightGBM. \"\n",
      "/home/yuuuuutaro/.cache/pypoetry/virtualenvs/urshifu-uBlELXII-py3.8/lib/python3.8/site-packages/lightgbm/engine.py:239: UserWarning: 'verbose_eval' argument is deprecated and will be removed in a future release of LightGBM. Pass 'log_evaluation()' callback via 'callbacks' argument instead.\n",
      "  _log_warning(\"'verbose_eval' argument is deprecated and will be removed in a future release of LightGBM. \"\n",
      "\u001b[32m[I 2022-01-26 17:45:19,080]\u001b[0m Trial 63 finished with value: 0.7774145339062208 and parameters: {'min_child_samples': 10}. Best is trial 62 with value: 0.7840151939722274.\u001b[0m\n",
      "/home/yuuuuutaro/.cache/pypoetry/virtualenvs/urshifu-uBlELXII-py3.8/lib/python3.8/site-packages/lightgbm/engine.py:181: UserWarning: 'early_stopping_rounds' argument is deprecated and will be removed in a future release of LightGBM. Pass 'early_stopping()' callback via 'callbacks' argument instead.\n",
      "  _log_warning(\"'early_stopping_rounds' argument is deprecated and will be removed in a future release of LightGBM. \"\n",
      "/home/yuuuuutaro/.cache/pypoetry/virtualenvs/urshifu-uBlELXII-py3.8/lib/python3.8/site-packages/lightgbm/engine.py:239: UserWarning: 'verbose_eval' argument is deprecated and will be removed in a future release of LightGBM. Pass 'log_evaluation()' callback via 'callbacks' argument instead.\n",
      "  _log_warning(\"'verbose_eval' argument is deprecated and will be removed in a future release of LightGBM. \"\n",
      "\u001b[32m[I 2022-01-26 17:45:19,910]\u001b[0m Trial 64 finished with value: 0.7964069991904851 and parameters: {'min_child_samples': 50}. Best is trial 64 with value: 0.7964069991904851.\u001b[0m\n",
      "min_data_in_leaf, val_score: 0.809172: 100%|##########| 5/5 [00:02<00:00,  1.89it/s]\n"
     ]
    }
   ],
   "source": [
    "params = {'objective': 'binary','metric': 'auc','verbosity': -1,\"seed\":0}\n",
    "\n",
    "model = lgb.train(params, lgb_train, valid_sets=lgb_eval,verbose_eval=False, num_boost_round=1000, early_stopping_rounds=100)"
   ]
  },
  {
   "cell_type": "code",
   "execution_count": 15,
   "metadata": {},
   "outputs": [],
   "source": [
    "pred_y = model.predict(test_x, num_iteration=model.best_iteration)"
   ]
  },
  {
   "cell_type": "code",
   "execution_count": 16,
   "metadata": {},
   "outputs": [
    {
     "name": "stdout",
     "output_type": "stream",
     "text": [
      "0.80917242667663\n"
     ]
    }
   ],
   "source": [
    "fpr, tpr, thresholds = metrics.roc_curve(test_y, pred_y)\n",
    "auc = metrics.auc(fpr, tpr)\n",
    "print(auc)"
   ]
  },
  {
   "cell_type": "code",
   "execution_count": 17,
   "metadata": {},
   "outputs": [
    {
     "name": "stdout",
     "output_type": "stream",
     "text": [
      "Best Params: {'objective': 'binary', 'metric': 'auc', 'verbosity': -1, 'seed': 0, 'feature_pre_filter': False, 'lambda_l1': 0.0008324588689486371, 'lambda_l2': 0.0014417904943808443, 'num_leaves': 31, 'feature_fraction': 1.0, 'bagging_fraction': 0.7575502275332174, 'bagging_freq': 5, 'min_child_samples': 20, 'num_iterations': 1000, 'early_stopping_round': 100}\n"
     ]
    }
   ],
   "source": [
    "print('Best Params:', model.params)"
   ]
  },
  {
   "cell_type": "code",
   "execution_count": 18,
   "metadata": {},
   "outputs": [
    {
     "data": {
      "text/plain": [
       "<lightgbm.basic.Booster at 0x7f4455478970>"
      ]
     },
     "execution_count": 18,
     "metadata": {},
     "output_type": "execute_result"
    }
   ],
   "source": [
    "model.save_model('./models/optunalgbm.txt')"
   ]
  },
  {
   "cell_type": "code",
   "execution_count": 19,
   "metadata": {},
   "outputs": [],
   "source": [
    "#bst = lgb.Booster(model_file='model.txt')\n",
    "#ypred = bst.predict(X_test, num_iteration=bst.best_iteration)"
   ]
  },
  {
   "cell_type": "code",
   "execution_count": 20,
   "metadata": {},
   "outputs": [
    {
     "name": "stdout",
     "output_type": "stream",
     "text": [
      "[0 0 1 1 0 0 1 0 0 0 0 0 0 1 0 0 1 0 1 1 0 1 1 1 0 1 1 0 0 1 1 0 0 1 1 1 0\n",
      " 1 0 1 1 1 0 0 1 1 0 1 0 1 1 0 1 0 1 0 0 1 0 1 0 1 0 0 0 0 1 0 1 0 0 0 0 1\n",
      " 1 1 0 0 1 0 0 1 0 1 0 0 1 1 1 0 0 1 0 0 0 0 0 0 1 0 0 0 1 1 0 1 0 1 0 1 1\n",
      " 1 0 0 0 0 0 1 1 1 1 1 0 1 0 0 0 0 0 0 0 0 0 1 0 0 1 0 0 0 1 1 0 1 1 0 0 1\n",
      " 0 0 0 0 0 1 1 1 0 1 0 0 1 0 1 0 1 1 1 0 0 0 0 0 0 0 1 0 1 0 1 0 0 0 1 0 1\n",
      " 0 0 0 0 0 0 0 0 0 1 0 1 1 0 1 0 1 1 1 1 1 0 1 0 0 1 1 0 1 1 0 0 1 0 0 1 0\n",
      " 0 1 1 0 0 0 1 0 0 0 0 0 0 0 0 0 1 1 0 0 0 0 1 1 0 0 1 1 0 0 1 1 0 0 1 1 1\n",
      " 0]\n"
     ]
    }
   ],
   "source": [
    "print((np.array(pred_y)>0.5).astype(\"int64\"))"
   ]
  },
  {
   "cell_type": "code",
   "execution_count": 21,
   "metadata": {},
   "outputs": [
    {
     "name": "stdout",
     "output_type": "stream",
     "text": [
      "[40 44 25 27 23 38 12  3 10  8 10  9  4 11 11 13 26  1 15  8 13 15 19 10\n",
      " 17 32 51 27 31 29 25 29 39 38 26 39 23 29 36 36 43 40 40 32 11 43]\n"
     ]
    },
    {
     "data": {
      "text/plain": [
       "<AxesSubplot:title={'center':'Feature importance'}, xlabel='Feature importance', ylabel='Features'>"
      ]
     },
     "execution_count": 21,
     "metadata": {},
     "output_type": "execute_result"
    },
    {
     "data": {
      "image/png": "[encoded data removed]",
      "text/plain": [
       "<Figure size 432x288 with 1 Axes>"
      ]
     },
     "metadata": {
      "needs_background": "light"
     },
     "output_type": "display_data"
    }
   ],
   "source": [
    "print(model.feature_importance())\n",
    "\n",
    "\n",
    "# 特徴量の重要度をプロット\n",
    "lgb.plot_importance(model)"
   ]
  },
  {
   "cell_type": "code",
   "execution_count": 22,
   "metadata": {},
   "outputs": [],
   "source": [
    "from pokepoke import poke\n",
    "poke_data = poke()"
   ]
  },
  {
   "cell_type": "code",
   "execution_count": 23,
   "metadata": {},
   "outputs": [
    {
     "data": {
      "text/plain": [
       "['ノーマル',\n",
       " 'かくとう',\n",
       " 'ひこう',\n",
       " 'どく',\n",
       " 'じめん',\n",
       " 'いわ',\n",
       " 'むし',\n",
       " 'ゴースト',\n",
       " 'はがね',\n",
       " 'ほのお',\n",
       " 'みず',\n",
       " 'くさ',\n",
       " 'でんき',\n",
       " 'エスパー',\n",
       " 'こおり',\n",
       " 'ドラゴン',\n",
       " 'あく',\n",
       " 'フェアリー']"
      ]
     },
     "execution_count": 23,
     "metadata": {},
     "output_type": "execute_result"
    }
   ],
   "source": [
    "poke_data.poke_type"
   ]
  },
  {
   "cell_type": "code",
   "execution_count": null,
   "metadata": {},
   "outputs": [],
   "source": []
  }
 ],
 "metadata": {
  "interpreter": {
   "hash": "64ae48f465b0b9b60d6145a050f02f537dd95f3aae206ebc82839cbb4e37109f"
  },
  "kernelspec": {
   "display_name": "Python 3.8.10 64-bit ('urshifu-uBlELXII-py3.8': poetry)",
   "language": "python",
   "name": "python3"
  },
  "language_info": {
   "codemirror_mode": {
    "name": "ipython",
    "version": 3
   },
   "file_extension": ".py",
   "mimetype": "text/x-python",
   "name": "python",
   "nbconvert_exporter": "python",
   "pygments_lexer": "ipython3",
   "version": "3.8.0"
  },
  "orig_nbformat": 4
 },
 "nbformat": 4,
 "nbformat_minor": 2
}
