{
 "cells": [
  {
   "cell_type": "code",
   "execution_count": 1,
   "metadata": {},
   "outputs": [],
   "source": [
    "import optuna.integration.lightgbm as lgb\n",
    "import lightgbm as lgb_o\n",
    "from sklearn import datasets\n",
    "from sklearn.model_selection import train_test_split\n",
    "import numpy as np\n",
    "import pandas as pd\n",
    "import matplotlib.pyplot as plt\n",
    "from sklearn import metrics"
   ]
  },
  {
   "cell_type": "code",
   "execution_count": 2,
   "metadata": {},
   "outputs": [],
   "source": [
    "df = pd.read_csv(\"./data/urshifu_pt.csv\")"
   ]
  },
  {
   "cell_type": "code",
   "execution_count": 3,
   "metadata": {},
   "outputs": [],
   "source": [
    "train_df,test_df = train_test_split(df,random_state=0)"
   ]
  },
  {
   "cell_type": "code",
   "execution_count": 4,
   "metadata": {},
   "outputs": [],
   "source": [
    "train_x = train_df.drop(\"label\",axis = 1)\n",
    "train_y = train_df[\"label\"]\n",
    "test_x = test_df.drop(\"label\",axis = 1)\n",
    "test_y = test_df[\"label\"]"
   ]
  },
  {
   "cell_type": "code",
   "execution_count": 5,
   "metadata": {},
   "outputs": [],
   "source": [
    "lgb_train = lgb_o.Dataset(train_x, train_y)\n",
    "lgb_eval = lgb_o.Dataset(test_x, test_y, reference=lgb_train)"
   ]
  },
  {
   "cell_type": "code",
   "execution_count": 27,
   "metadata": {},
   "outputs": [
    {
     "name": "stderr",
     "output_type": "stream",
     "text": [
      "\u001b[32m[I 2022-01-26 12:26:14,060]\u001b[0m A new study created in memory with name: no-name-d4b7b97c-909b-4704-bf55-159fa7e25510\u001b[0m\n",
      "feature_fraction, val_score: -inf:   0%|          | 0/7 [00:00<?, ?it/s]/home/yuuuuutaro/.cache/pypoetry/virtualenvs/urshifu-uBlELXII-py3.8/lib/python3.8/site-packages/lightgbm/engine.py:181: UserWarning: 'early_stopping_rounds' argument is deprecated and will be removed in a future release of LightGBM. Pass 'early_stopping()' callback via 'callbacks' argument instead.\n",
      "  _log_warning(\"'early_stopping_rounds' argument is deprecated and will be removed in a future release of LightGBM. \"\n",
      "/home/yuuuuutaro/.cache/pypoetry/virtualenvs/urshifu-uBlELXII-py3.8/lib/python3.8/site-packages/lightgbm/engine.py:239: UserWarning: 'verbose_eval' argument is deprecated and will be removed in a future release of LightGBM. Pass 'log_evaluation()' callback via 'callbacks' argument instead.\n",
      "  _log_warning(\"'verbose_eval' argument is deprecated and will be removed in a future release of LightGBM. \"\n",
      "feature_fraction, val_score: 0.774363:  14%|#4        | 1/7 [00:00<00:01,  5.05it/s]\u001b[32m[I 2022-01-26 12:26:14,263]\u001b[0m Trial 0 finished with value: 0.7743632853851423 and parameters: {'feature_fraction': 0.6}. Best is trial 0 with value: 0.7743632853851423.\u001b[0m\n",
      "feature_fraction, val_score: 0.774363:  14%|#4        | 1/7 [00:00<00:01,  5.05it/s]/home/yuuuuutaro/.cache/pypoetry/virtualenvs/urshifu-uBlELXII-py3.8/lib/python3.8/site-packages/lightgbm/engine.py:181: UserWarning: 'early_stopping_rounds' argument is deprecated and will be removed in a future release of LightGBM. Pass 'early_stopping()' callback via 'callbacks' argument instead.\n",
      "  _log_warning(\"'early_stopping_rounds' argument is deprecated and will be removed in a future release of LightGBM. \"\n",
      "/home/yuuuuutaro/.cache/pypoetry/virtualenvs/urshifu-uBlELXII-py3.8/lib/python3.8/site-packages/lightgbm/engine.py:239: UserWarning: 'verbose_eval' argument is deprecated and will be removed in a future release of LightGBM. Pass 'log_evaluation()' callback via 'callbacks' argument instead.\n",
      "  _log_warning(\"'verbose_eval' argument is deprecated and will be removed in a future release of LightGBM. \"\n",
      "feature_fraction, val_score: 0.774363:  29%|##8       | 2/7 [00:00<00:00,  5.54it/s]\u001b[32m[I 2022-01-26 12:26:14,431]\u001b[0m Trial 1 finished with value: 0.7641509433962265 and parameters: {'feature_fraction': 0.4}. Best is trial 0 with value: 0.7743632853851423.\u001b[0m\n",
      "feature_fraction, val_score: 0.774363:  29%|##8       | 2/7 [00:00<00:00,  5.54it/s]/home/yuuuuutaro/.cache/pypoetry/virtualenvs/urshifu-uBlELXII-py3.8/lib/python3.8/site-packages/lightgbm/engine.py:181: UserWarning: 'early_stopping_rounds' argument is deprecated and will be removed in a future release of LightGBM. Pass 'early_stopping()' callback via 'callbacks' argument instead.\n",
      "  _log_warning(\"'early_stopping_rounds' argument is deprecated and will be removed in a future release of LightGBM. \"\n",
      "/home/yuuuuutaro/.cache/pypoetry/virtualenvs/urshifu-uBlELXII-py3.8/lib/python3.8/site-packages/lightgbm/engine.py:239: UserWarning: 'verbose_eval' argument is deprecated and will be removed in a future release of LightGBM. Pass 'log_evaluation()' callback via 'callbacks' argument instead.\n",
      "  _log_warning(\"'verbose_eval' argument is deprecated and will be removed in a future release of LightGBM. \"\n",
      "feature_fraction, val_score: 0.779469:  43%|####2     | 3/7 [00:00<00:00,  5.39it/s]\u001b[32m[I 2022-01-26 12:26:14,622]\u001b[0m Trial 2 finished with value: 0.7794694563796002 and parameters: {'feature_fraction': 0.7}. Best is trial 2 with value: 0.7794694563796002.\u001b[0m\n",
      "feature_fraction, val_score: 0.779469:  43%|####2     | 3/7 [00:00<00:00,  5.39it/s]/home/yuuuuutaro/.cache/pypoetry/virtualenvs/urshifu-uBlELXII-py3.8/lib/python3.8/site-packages/lightgbm/engine.py:181: UserWarning: 'early_stopping_rounds' argument is deprecated and will be removed in a future release of LightGBM. Pass 'early_stopping()' callback via 'callbacks' argument instead.\n",
      "  _log_warning(\"'early_stopping_rounds' argument is deprecated and will be removed in a future release of LightGBM. \"\n",
      "/home/yuuuuutaro/.cache/pypoetry/virtualenvs/urshifu-uBlELXII-py3.8/lib/python3.8/site-packages/lightgbm/engine.py:239: UserWarning: 'verbose_eval' argument is deprecated and will be removed in a future release of LightGBM. Pass 'log_evaluation()' callback via 'callbacks' argument instead.\n",
      "  _log_warning(\"'verbose_eval' argument is deprecated and will be removed in a future release of LightGBM. \"\n",
      "feature_fraction, val_score: 0.779469:  57%|#####7    | 4/7 [00:00<00:00,  5.19it/s]\u001b[32m[I 2022-01-26 12:26:14,826]\u001b[0m Trial 3 finished with value: 0.759542935425618 and parameters: {'feature_fraction': 0.8}. Best is trial 2 with value: 0.7794694563796002.\u001b[0m\n",
      "feature_fraction, val_score: 0.779469:  57%|#####7    | 4/7 [00:00<00:00,  5.19it/s]/home/yuuuuutaro/.cache/pypoetry/virtualenvs/urshifu-uBlELXII-py3.8/lib/python3.8/site-packages/lightgbm/engine.py:181: UserWarning: 'early_stopping_rounds' argument is deprecated and will be removed in a future release of LightGBM. Pass 'early_stopping()' callback via 'callbacks' argument instead.\n",
      "  _log_warning(\"'early_stopping_rounds' argument is deprecated and will be removed in a future release of LightGBM. \"\n",
      "/home/yuuuuutaro/.cache/pypoetry/virtualenvs/urshifu-uBlELXII-py3.8/lib/python3.8/site-packages/lightgbm/engine.py:239: UserWarning: 'verbose_eval' argument is deprecated and will be removed in a future release of LightGBM. Pass 'log_evaluation()' callback via 'callbacks' argument instead.\n",
      "  _log_warning(\"'verbose_eval' argument is deprecated and will be removed in a future release of LightGBM. \"\n",
      "feature_fraction, val_score: 0.779469:  71%|#######1  | 5/7 [00:00<00:00,  5.81it/s]\u001b[32m[I 2022-01-26 12:26:14,962]\u001b[0m Trial 4 finished with value: 0.7625319135687154 and parameters: {'feature_fraction': 1.0}. Best is trial 2 with value: 0.7794694563796002.\u001b[0m\n",
      "feature_fraction, val_score: 0.779469:  71%|#######1  | 5/7 [00:00<00:00,  5.81it/s]/home/yuuuuutaro/.cache/pypoetry/virtualenvs/urshifu-uBlELXII-py3.8/lib/python3.8/site-packages/lightgbm/engine.py:181: UserWarning: 'early_stopping_rounds' argument is deprecated and will be removed in a future release of LightGBM. Pass 'early_stopping()' callback via 'callbacks' argument instead.\n",
      "  _log_warning(\"'early_stopping_rounds' argument is deprecated and will be removed in a future release of LightGBM. \"\n",
      "/home/yuuuuutaro/.cache/pypoetry/virtualenvs/urshifu-uBlELXII-py3.8/lib/python3.8/site-packages/lightgbm/engine.py:239: UserWarning: 'verbose_eval' argument is deprecated and will be removed in a future release of LightGBM. Pass 'log_evaluation()' callback via 'callbacks' argument instead.\n",
      "  _log_warning(\"'verbose_eval' argument is deprecated and will be removed in a future release of LightGBM. \"\n",
      "feature_fraction, val_score: 0.779469:  86%|########5 | 6/7 [00:01<00:00,  5.83it/s]\u001b[32m[I 2022-01-26 12:26:15,132]\u001b[0m Trial 5 finished with value: 0.7699420885484775 and parameters: {'feature_fraction': 0.8999999999999999}. Best is trial 2 with value: 0.7794694563796002.\u001b[0m\n",
      "feature_fraction, val_score: 0.779469:  86%|########5 | 6/7 [00:01<00:00,  5.83it/s]/home/yuuuuutaro/.cache/pypoetry/virtualenvs/urshifu-uBlELXII-py3.8/lib/python3.8/site-packages/lightgbm/engine.py:181: UserWarning: 'early_stopping_rounds' argument is deprecated and will be removed in a future release of LightGBM. Pass 'early_stopping()' callback via 'callbacks' argument instead.\n",
      "  _log_warning(\"'early_stopping_rounds' argument is deprecated and will be removed in a future release of LightGBM. \"\n",
      "/home/yuuuuutaro/.cache/pypoetry/virtualenvs/urshifu-uBlELXII-py3.8/lib/python3.8/site-packages/lightgbm/engine.py:239: UserWarning: 'verbose_eval' argument is deprecated and will be removed in a future release of LightGBM. Pass 'log_evaluation()' callback via 'callbacks' argument instead.\n",
      "  _log_warning(\"'verbose_eval' argument is deprecated and will be removed in a future release of LightGBM. \"\n",
      "feature_fraction, val_score: 0.779469: 100%|##########| 7/7 [00:01<00:00,  5.77it/s]\u001b[32m[I 2022-01-26 12:26:15,309]\u001b[0m Trial 6 finished with value: 0.7757955040787098 and parameters: {'feature_fraction': 0.5}. Best is trial 2 with value: 0.7794694563796002.\u001b[0m\n",
      "feature_fraction, val_score: 0.779469: 100%|##########| 7/7 [00:01<00:00,  5.61it/s]\n",
      "num_leaves, val_score: 0.779469:   0%|          | 0/20 [00:00<?, ?it/s]/home/yuuuuutaro/.cache/pypoetry/virtualenvs/urshifu-uBlELXII-py3.8/lib/python3.8/site-packages/lightgbm/engine.py:181: UserWarning: 'early_stopping_rounds' argument is deprecated and will be removed in a future release of LightGBM. Pass 'early_stopping()' callback via 'callbacks' argument instead.\n",
      "  _log_warning(\"'early_stopping_rounds' argument is deprecated and will be removed in a future release of LightGBM. \"\n",
      "/home/yuuuuutaro/.cache/pypoetry/virtualenvs/urshifu-uBlELXII-py3.8/lib/python3.8/site-packages/lightgbm/engine.py:239: UserWarning: 'verbose_eval' argument is deprecated and will be removed in a future release of LightGBM. Pass 'log_evaluation()' callback via 'callbacks' argument instead.\n",
      "  _log_warning(\"'verbose_eval' argument is deprecated and will be removed in a future release of LightGBM. \"\n",
      "num_leaves, val_score: 0.790118:   5%|5         | 1/20 [00:00<00:02,  9.32it/s]\u001b[32m[I 2022-01-26 12:26:15,422]\u001b[0m Trial 7 finished with value: 0.7901176910143844 and parameters: {'num_leaves': 3}. Best is trial 7 with value: 0.7901176910143844.\u001b[0m\n",
      "num_leaves, val_score: 0.790118:   5%|5         | 1/20 [00:00<00:02,  9.32it/s]/home/yuuuuutaro/.cache/pypoetry/virtualenvs/urshifu-uBlELXII-py3.8/lib/python3.8/site-packages/lightgbm/engine.py:181: UserWarning: 'early_stopping_rounds' argument is deprecated and will be removed in a future release of LightGBM. Pass 'early_stopping()' callback via 'callbacks' argument instead.\n",
      "  _log_warning(\"'early_stopping_rounds' argument is deprecated and will be removed in a future release of LightGBM. \"\n",
      "/home/yuuuuutaro/.cache/pypoetry/virtualenvs/urshifu-uBlELXII-py3.8/lib/python3.8/site-packages/lightgbm/engine.py:239: UserWarning: 'verbose_eval' argument is deprecated and will be removed in a future release of LightGBM. Pass 'log_evaluation()' callback via 'callbacks' argument instead.\n",
      "  _log_warning(\"'verbose_eval' argument is deprecated and will be removed in a future release of LightGBM. \"\n",
      "num_leaves, val_score: 0.790118:  10%|#         | 2/20 [00:00<00:02,  8.02it/s]\u001b[32m[I 2022-01-26 12:26:15,558]\u001b[0m Trial 8 finished with value: 0.7825829752786599 and parameters: {'num_leaves': 161}. Best is trial 7 with value: 0.7901176910143844.\u001b[0m\n",
      "num_leaves, val_score: 0.790118:  10%|#         | 2/20 [00:00<00:02,  8.02it/s]/home/yuuuuutaro/.cache/pypoetry/virtualenvs/urshifu-uBlELXII-py3.8/lib/python3.8/site-packages/lightgbm/engine.py:181: UserWarning: 'early_stopping_rounds' argument is deprecated and will be removed in a future release of LightGBM. Pass 'early_stopping()' callback via 'callbacks' argument instead.\n",
      "  _log_warning(\"'early_stopping_rounds' argument is deprecated and will be removed in a future release of LightGBM. \"\n",
      "/home/yuuuuutaro/.cache/pypoetry/virtualenvs/urshifu-uBlELXII-py3.8/lib/python3.8/site-packages/lightgbm/engine.py:239: UserWarning: 'verbose_eval' argument is deprecated and will be removed in a future release of LightGBM. Pass 'log_evaluation()' callback via 'callbacks' argument instead.\n",
      "  _log_warning(\"'verbose_eval' argument is deprecated and will be removed in a future release of LightGBM. \"\n",
      "num_leaves, val_score: 0.790118:  15%|#5        | 3/20 [00:00<00:02,  7.59it/s]\u001b[32m[I 2022-01-26 12:26:15,699]\u001b[0m Trial 9 finished with value: 0.7825829752786599 and parameters: {'num_leaves': 174}. Best is trial 7 with value: 0.7901176910143844.\u001b[0m\n",
      "num_leaves, val_score: 0.790118:  15%|#5        | 3/20 [00:00<00:02,  7.59it/s]/home/yuuuuutaro/.cache/pypoetry/virtualenvs/urshifu-uBlELXII-py3.8/lib/python3.8/site-packages/lightgbm/engine.py:181: UserWarning: 'early_stopping_rounds' argument is deprecated and will be removed in a future release of LightGBM. Pass 'early_stopping()' callback via 'callbacks' argument instead.\n",
      "  _log_warning(\"'early_stopping_rounds' argument is deprecated and will be removed in a future release of LightGBM. \"\n",
      "/home/yuuuuutaro/.cache/pypoetry/virtualenvs/urshifu-uBlELXII-py3.8/lib/python3.8/site-packages/lightgbm/engine.py:239: UserWarning: 'verbose_eval' argument is deprecated and will be removed in a future release of LightGBM. Pass 'log_evaluation()' callback via 'callbacks' argument instead.\n",
      "  _log_warning(\"'verbose_eval' argument is deprecated and will be removed in a future release of LightGBM. \"\n",
      "num_leaves, val_score: 0.790118:  20%|##        | 4/20 [00:00<00:02,  7.50it/s]\u001b[32m[I 2022-01-26 12:26:15,834]\u001b[0m Trial 10 finished with value: 0.7825829752786599 and parameters: {'num_leaves': 193}. Best is trial 7 with value: 0.7901176910143844.\u001b[0m\n",
      "num_leaves, val_score: 0.790118:  20%|##        | 4/20 [00:00<00:02,  7.50it/s]/home/yuuuuutaro/.cache/pypoetry/virtualenvs/urshifu-uBlELXII-py3.8/lib/python3.8/site-packages/lightgbm/engine.py:181: UserWarning: 'early_stopping_rounds' argument is deprecated and will be removed in a future release of LightGBM. Pass 'early_stopping()' callback via 'callbacks' argument instead.\n",
      "  _log_warning(\"'early_stopping_rounds' argument is deprecated and will be removed in a future release of LightGBM. \"\n",
      "/home/yuuuuutaro/.cache/pypoetry/virtualenvs/urshifu-uBlELXII-py3.8/lib/python3.8/site-packages/lightgbm/engine.py:239: UserWarning: 'verbose_eval' argument is deprecated and will be removed in a future release of LightGBM. Pass 'log_evaluation()' callback via 'callbacks' argument instead.\n",
      "  _log_warning(\"'verbose_eval' argument is deprecated and will be removed in a future release of LightGBM. \"\n",
      "num_leaves, val_score: 0.790118:  25%|##5       | 5/20 [00:00<00:02,  6.95it/s]\u001b[32m[I 2022-01-26 12:26:15,997]\u001b[0m Trial 11 finished with value: 0.7825829752786599 and parameters: {'num_leaves': 199}. Best is trial 7 with value: 0.7901176910143844.\u001b[0m\n",
      "num_leaves, val_score: 0.790118:  25%|##5       | 5/20 [00:00<00:02,  6.95it/s]/home/yuuuuutaro/.cache/pypoetry/virtualenvs/urshifu-uBlELXII-py3.8/lib/python3.8/site-packages/lightgbm/engine.py:181: UserWarning: 'early_stopping_rounds' argument is deprecated and will be removed in a future release of LightGBM. Pass 'early_stopping()' callback via 'callbacks' argument instead.\n",
      "  _log_warning(\"'early_stopping_rounds' argument is deprecated and will be removed in a future release of LightGBM. \"\n",
      "/home/yuuuuutaro/.cache/pypoetry/virtualenvs/urshifu-uBlELXII-py3.8/lib/python3.8/site-packages/lightgbm/engine.py:239: UserWarning: 'verbose_eval' argument is deprecated and will be removed in a future release of LightGBM. Pass 'log_evaluation()' callback via 'callbacks' argument instead.\n",
      "  _log_warning(\"'verbose_eval' argument is deprecated and will be removed in a future release of LightGBM. \"\n",
      "num_leaves, val_score: 0.790118:  30%|###       | 6/20 [00:00<00:02,  6.88it/s]\u001b[32m[I 2022-01-26 12:26:16,145]\u001b[0m Trial 12 finished with value: 0.7825829752786599 and parameters: {'num_leaves': 156}. Best is trial 7 with value: 0.7901176910143844.\u001b[0m\n",
      "num_leaves, val_score: 0.790118:  30%|###       | 6/20 [00:00<00:02,  6.88it/s]/home/yuuuuutaro/.cache/pypoetry/virtualenvs/urshifu-uBlELXII-py3.8/lib/python3.8/site-packages/lightgbm/engine.py:181: UserWarning: 'early_stopping_rounds' argument is deprecated and will be removed in a future release of LightGBM. Pass 'early_stopping()' callback via 'callbacks' argument instead.\n",
      "  _log_warning(\"'early_stopping_rounds' argument is deprecated and will be removed in a future release of LightGBM. \"\n",
      "/home/yuuuuutaro/.cache/pypoetry/virtualenvs/urshifu-uBlELXII-py3.8/lib/python3.8/site-packages/lightgbm/engine.py:239: UserWarning: 'verbose_eval' argument is deprecated and will be removed in a future release of LightGBM. Pass 'log_evaluation()' callback via 'callbacks' argument instead.\n",
      "  _log_warning(\"'verbose_eval' argument is deprecated and will be removed in a future release of LightGBM. \"\n",
      "num_leaves, val_score: 0.790118:  35%|###5      | 7/20 [00:01<00:02,  6.34it/s]\u001b[32m[I 2022-01-26 12:26:16,328]\u001b[0m Trial 13 finished with value: 0.7825829752786599 and parameters: {'num_leaves': 87}. Best is trial 7 with value: 0.7901176910143844.\u001b[0m\n",
      "num_leaves, val_score: 0.790118:  35%|###5      | 7/20 [00:01<00:02,  6.34it/s]/home/yuuuuutaro/.cache/pypoetry/virtualenvs/urshifu-uBlELXII-py3.8/lib/python3.8/site-packages/lightgbm/engine.py:181: UserWarning: 'early_stopping_rounds' argument is deprecated and will be removed in a future release of LightGBM. Pass 'early_stopping()' callback via 'callbacks' argument instead.\n",
      "  _log_warning(\"'early_stopping_rounds' argument is deprecated and will be removed in a future release of LightGBM. \"\n",
      "/home/yuuuuutaro/.cache/pypoetry/virtualenvs/urshifu-uBlELXII-py3.8/lib/python3.8/site-packages/lightgbm/engine.py:239: UserWarning: 'verbose_eval' argument is deprecated and will be removed in a future release of LightGBM. Pass 'log_evaluation()' callback via 'callbacks' argument instead.\n",
      "  _log_warning(\"'verbose_eval' argument is deprecated and will be removed in a future release of LightGBM. \"\n",
      "num_leaves, val_score: 0.790118:  40%|####      | 8/20 [00:01<00:01,  6.78it/s]\u001b[32m[I 2022-01-26 12:26:16,455]\u001b[0m Trial 14 finished with value: 0.7825829752786599 and parameters: {'num_leaves': 58}. Best is trial 7 with value: 0.7901176910143844.\u001b[0m\n",
      "num_leaves, val_score: 0.790118:  40%|####      | 8/20 [00:01<00:01,  6.78it/s]/home/yuuuuutaro/.cache/pypoetry/virtualenvs/urshifu-uBlELXII-py3.8/lib/python3.8/site-packages/lightgbm/engine.py:181: UserWarning: 'early_stopping_rounds' argument is deprecated and will be removed in a future release of LightGBM. Pass 'early_stopping()' callback via 'callbacks' argument instead.\n",
      "  _log_warning(\"'early_stopping_rounds' argument is deprecated and will be removed in a future release of LightGBM. \"\n",
      "/home/yuuuuutaro/.cache/pypoetry/virtualenvs/urshifu-uBlELXII-py3.8/lib/python3.8/site-packages/lightgbm/engine.py:239: UserWarning: 'verbose_eval' argument is deprecated and will be removed in a future release of LightGBM. Pass 'log_evaluation()' callback via 'callbacks' argument instead.\n",
      "  _log_warning(\"'verbose_eval' argument is deprecated and will be removed in a future release of LightGBM. \"\n",
      "num_leaves, val_score: 0.790118:  45%|####5     | 9/20 [00:01<00:01,  6.98it/s]\u001b[32m[I 2022-01-26 12:26:16,588]\u001b[0m Trial 15 finished with value: 0.7825829752786599 and parameters: {'num_leaves': 198}. Best is trial 7 with value: 0.7901176910143844.\u001b[0m\n",
      "num_leaves, val_score: 0.790118:  45%|####5     | 9/20 [00:01<00:01,  6.98it/s]/home/yuuuuutaro/.cache/pypoetry/virtualenvs/urshifu-uBlELXII-py3.8/lib/python3.8/site-packages/lightgbm/engine.py:181: UserWarning: 'early_stopping_rounds' argument is deprecated and will be removed in a future release of LightGBM. Pass 'early_stopping()' callback via 'callbacks' argument instead.\n",
      "  _log_warning(\"'early_stopping_rounds' argument is deprecated and will be removed in a future release of LightGBM. \"\n",
      "/home/yuuuuutaro/.cache/pypoetry/virtualenvs/urshifu-uBlELXII-py3.8/lib/python3.8/site-packages/lightgbm/engine.py:239: UserWarning: 'verbose_eval' argument is deprecated and will be removed in a future release of LightGBM. Pass 'log_evaluation()' callback via 'callbacks' argument instead.\n",
      "  _log_warning(\"'verbose_eval' argument is deprecated and will be removed in a future release of LightGBM. \"\n",
      "num_leaves, val_score: 0.790118:  50%|#####     | 10/20 [00:01<00:01,  6.82it/s]\u001b[32m[I 2022-01-26 12:26:16,743]\u001b[0m Trial 16 finished with value: 0.7825829752786599 and parameters: {'num_leaves': 160}. Best is trial 7 with value: 0.7901176910143844.\u001b[0m\n",
      "num_leaves, val_score: 0.790118:  50%|#####     | 10/20 [00:01<00:01,  6.82it/s]/home/yuuuuutaro/.cache/pypoetry/virtualenvs/urshifu-uBlELXII-py3.8/lib/python3.8/site-packages/lightgbm/engine.py:181: UserWarning: 'early_stopping_rounds' argument is deprecated and will be removed in a future release of LightGBM. Pass 'early_stopping()' callback via 'callbacks' argument instead.\n",
      "  _log_warning(\"'early_stopping_rounds' argument is deprecated and will be removed in a future release of LightGBM. \"\n",
      "/home/yuuuuutaro/.cache/pypoetry/virtualenvs/urshifu-uBlELXII-py3.8/lib/python3.8/site-packages/lightgbm/engine.py:239: UserWarning: 'verbose_eval' argument is deprecated and will be removed in a future release of LightGBM. Pass 'log_evaluation()' callback via 'callbacks' argument instead.\n",
      "  _log_warning(\"'verbose_eval' argument is deprecated and will be removed in a future release of LightGBM. \"\n",
      "num_leaves, val_score: 0.790118:  55%|#####5    | 11/20 [00:01<00:01,  7.25it/s]\u001b[32m[I 2022-01-26 12:26:16,861]\u001b[0m Trial 17 finished with value: 0.7870664424933059 and parameters: {'num_leaves': 10}. Best is trial 7 with value: 0.7901176910143844.\u001b[0m\n",
      "num_leaves, val_score: 0.790118:  55%|#####5    | 11/20 [00:01<00:01,  7.25it/s]/home/yuuuuutaro/.cache/pypoetry/virtualenvs/urshifu-uBlELXII-py3.8/lib/python3.8/site-packages/lightgbm/engine.py:181: UserWarning: 'early_stopping_rounds' argument is deprecated and will be removed in a future release of LightGBM. Pass 'early_stopping()' callback via 'callbacks' argument instead.\n",
      "  _log_warning(\"'early_stopping_rounds' argument is deprecated and will be removed in a future release of LightGBM. \"\n",
      "/home/yuuuuutaro/.cache/pypoetry/virtualenvs/urshifu-uBlELXII-py3.8/lib/python3.8/site-packages/lightgbm/engine.py:239: UserWarning: 'verbose_eval' argument is deprecated and will be removed in a future release of LightGBM. Pass 'log_evaluation()' callback via 'callbacks' argument instead.\n",
      "  _log_warning(\"'verbose_eval' argument is deprecated and will be removed in a future release of LightGBM. \"\n",
      "num_leaves, val_score: 0.800579:  55%|#####5    | 11/20 [00:01<00:01,  7.25it/s]\u001b[32m[I 2022-01-26 12:26:16,927]\u001b[0m Trial 18 finished with value: 0.8005791145152251 and parameters: {'num_leaves': 4}. Best is trial 18 with value: 0.8005791145152251.\u001b[0m\n",
      "num_leaves, val_score: 0.800579:  60%|######    | 12/20 [00:01<00:01,  7.25it/s]/home/yuuuuutaro/.cache/pypoetry/virtualenvs/urshifu-uBlELXII-py3.8/lib/python3.8/site-packages/lightgbm/engine.py:181: UserWarning: 'early_stopping_rounds' argument is deprecated and will be removed in a future release of LightGBM. Pass 'early_stopping()' callback via 'callbacks' argument instead.\n",
      "  _log_warning(\"'early_stopping_rounds' argument is deprecated and will be removed in a future release of LightGBM. \"\n",
      "/home/yuuuuutaro/.cache/pypoetry/virtualenvs/urshifu-uBlELXII-py3.8/lib/python3.8/site-packages/lightgbm/engine.py:239: UserWarning: 'verbose_eval' argument is deprecated and will be removed in a future release of LightGBM. Pass 'log_evaluation()' callback via 'callbacks' argument instead.\n",
      "  _log_warning(\"'verbose_eval' argument is deprecated and will be removed in a future release of LightGBM. \"\n",
      "num_leaves, val_score: 0.800579:  65%|######5   | 13/20 [00:01<00:00,  8.83it/s]\u001b[32m[I 2022-01-26 12:26:17,031]\u001b[0m Trial 19 finished with value: 0.7727442555576313 and parameters: {'num_leaves': 9}. Best is trial 18 with value: 0.8005791145152251.\u001b[0m\n",
      "num_leaves, val_score: 0.800579:  65%|######5   | 13/20 [00:01<00:00,  8.83it/s]/home/yuuuuutaro/.cache/pypoetry/virtualenvs/urshifu-uBlELXII-py3.8/lib/python3.8/site-packages/lightgbm/engine.py:181: UserWarning: 'early_stopping_rounds' argument is deprecated and will be removed in a future release of LightGBM. Pass 'early_stopping()' callback via 'callbacks' argument instead.\n",
      "  _log_warning(\"'early_stopping_rounds' argument is deprecated and will be removed in a future release of LightGBM. \"\n",
      "/home/yuuuuutaro/.cache/pypoetry/virtualenvs/urshifu-uBlELXII-py3.8/lib/python3.8/site-packages/lightgbm/engine.py:239: UserWarning: 'verbose_eval' argument is deprecated and will be removed in a future release of LightGBM. Pass 'log_evaluation()' callback via 'callbacks' argument instead.\n",
      "  _log_warning(\"'verbose_eval' argument is deprecated and will be removed in a future release of LightGBM. \"\n",
      "num_leaves, val_score: 0.800579:  70%|#######   | 14/20 [00:01<00:00,  7.33it/s]\u001b[32m[I 2022-01-26 12:26:17,236]\u001b[0m Trial 20 finished with value: 0.7825829752786599 and parameters: {'num_leaves': 52}. Best is trial 18 with value: 0.8005791145152251.\u001b[0m\n",
      "num_leaves, val_score: 0.800579:  70%|#######   | 14/20 [00:01<00:00,  7.33it/s]/home/yuuuuutaro/.cache/pypoetry/virtualenvs/urshifu-uBlELXII-py3.8/lib/python3.8/site-packages/lightgbm/engine.py:181: UserWarning: 'early_stopping_rounds' argument is deprecated and will be removed in a future release of LightGBM. Pass 'early_stopping()' callback via 'callbacks' argument instead.\n",
      "  _log_warning(\"'early_stopping_rounds' argument is deprecated and will be removed in a future release of LightGBM. \"\n",
      "/home/yuuuuutaro/.cache/pypoetry/virtualenvs/urshifu-uBlELXII-py3.8/lib/python3.8/site-packages/lightgbm/engine.py:239: UserWarning: 'verbose_eval' argument is deprecated and will be removed in a future release of LightGBM. Pass 'log_evaluation()' callback via 'callbacks' argument instead.\n",
      "  _log_warning(\"'verbose_eval' argument is deprecated and will be removed in a future release of LightGBM. \"\n",
      "num_leaves, val_score: 0.800579:  75%|#######5  | 15/20 [00:02<00:00,  6.05it/s]\u001b[32m[I 2022-01-26 12:26:17,482]\u001b[0m Trial 21 finished with value: 0.7825829752786599 and parameters: {'num_leaves': 101}. Best is trial 18 with value: 0.8005791145152251.\u001b[0m\n",
      "num_leaves, val_score: 0.800579:  75%|#######5  | 15/20 [00:02<00:00,  6.05it/s]/home/yuuuuutaro/.cache/pypoetry/virtualenvs/urshifu-uBlELXII-py3.8/lib/python3.8/site-packages/lightgbm/engine.py:181: UserWarning: 'early_stopping_rounds' argument is deprecated and will be removed in a future release of LightGBM. Pass 'early_stopping()' callback via 'callbacks' argument instead.\n",
      "  _log_warning(\"'early_stopping_rounds' argument is deprecated and will be removed in a future release of LightGBM. \"\n",
      "/home/yuuuuutaro/.cache/pypoetry/virtualenvs/urshifu-uBlELXII-py3.8/lib/python3.8/site-packages/lightgbm/engine.py:239: UserWarning: 'verbose_eval' argument is deprecated and will be removed in a future release of LightGBM. Pass 'log_evaluation()' callback via 'callbacks' argument instead.\n",
      "  _log_warning(\"'verbose_eval' argument is deprecated and will be removed in a future release of LightGBM. \"\n",
      "num_leaves, val_score: 0.800579:  80%|########  | 16/20 [00:02<00:00,  5.40it/s]\u001b[32m[I 2022-01-26 12:26:17,721]\u001b[0m Trial 22 finished with value: 0.7825829752786599 and parameters: {'num_leaves': 256}. Best is trial 18 with value: 0.8005791145152251.\u001b[0m\n",
      "num_leaves, val_score: 0.800579:  80%|########  | 16/20 [00:02<00:00,  5.40it/s]/home/yuuuuutaro/.cache/pypoetry/virtualenvs/urshifu-uBlELXII-py3.8/lib/python3.8/site-packages/lightgbm/engine.py:181: UserWarning: 'early_stopping_rounds' argument is deprecated and will be removed in a future release of LightGBM. Pass 'early_stopping()' callback via 'callbacks' argument instead.\n",
      "  _log_warning(\"'early_stopping_rounds' argument is deprecated and will be removed in a future release of LightGBM. \"\n",
      "/home/yuuuuutaro/.cache/pypoetry/virtualenvs/urshifu-uBlELXII-py3.8/lib/python3.8/site-packages/lightgbm/engine.py:239: UserWarning: 'verbose_eval' argument is deprecated and will be removed in a future release of LightGBM. Pass 'log_evaluation()' callback via 'callbacks' argument instead.\n",
      "  _log_warning(\"'verbose_eval' argument is deprecated and will be removed in a future release of LightGBM. \"\n",
      "num_leaves, val_score: 0.800579:  85%|########5 | 17/20 [00:02<00:00,  6.00it/s]\u001b[32m[I 2022-01-26 12:26:17,841]\u001b[0m Trial 23 finished with value: 0.7825829752786599 and parameters: {'num_leaves': 39}. Best is trial 18 with value: 0.8005791145152251.\u001b[0m\n",
      "num_leaves, val_score: 0.800579:  85%|########5 | 17/20 [00:02<00:00,  6.00it/s]/home/yuuuuutaro/.cache/pypoetry/virtualenvs/urshifu-uBlELXII-py3.8/lib/python3.8/site-packages/lightgbm/engine.py:181: UserWarning: 'early_stopping_rounds' argument is deprecated and will be removed in a future release of LightGBM. Pass 'early_stopping()' callback via 'callbacks' argument instead.\n",
      "  _log_warning(\"'early_stopping_rounds' argument is deprecated and will be removed in a future release of LightGBM. \"\n",
      "/home/yuuuuutaro/.cache/pypoetry/virtualenvs/urshifu-uBlELXII-py3.8/lib/python3.8/site-packages/lightgbm/engine.py:239: UserWarning: 'verbose_eval' argument is deprecated and will be removed in a future release of LightGBM. Pass 'log_evaluation()' callback via 'callbacks' argument instead.\n",
      "  _log_warning(\"'verbose_eval' argument is deprecated and will be removed in a future release of LightGBM. \"\n",
      "num_leaves, val_score: 0.800579:  85%|########5 | 17/20 [00:02<00:00,  6.00it/s]\u001b[32m[I 2022-01-26 12:26:17,909]\u001b[0m Trial 24 finished with value: 0.8005791145152251 and parameters: {'num_leaves': 4}. Best is trial 18 with value: 0.8005791145152251.\u001b[0m\n",
      "num_leaves, val_score: 0.800579:  90%|######### | 18/20 [00:02<00:00,  6.00it/s]/home/yuuuuutaro/.cache/pypoetry/virtualenvs/urshifu-uBlELXII-py3.8/lib/python3.8/site-packages/lightgbm/engine.py:181: UserWarning: 'early_stopping_rounds' argument is deprecated and will be removed in a future release of LightGBM. Pass 'early_stopping()' callback via 'callbacks' argument instead.\n",
      "  _log_warning(\"'early_stopping_rounds' argument is deprecated and will be removed in a future release of LightGBM. \"\n",
      "/home/yuuuuutaro/.cache/pypoetry/virtualenvs/urshifu-uBlELXII-py3.8/lib/python3.8/site-packages/lightgbm/engine.py:239: UserWarning: 'verbose_eval' argument is deprecated and will be removed in a future release of LightGBM. Pass 'log_evaluation()' callback via 'callbacks' argument instead.\n",
      "  _log_warning(\"'verbose_eval' argument is deprecated and will be removed in a future release of LightGBM. \"\n",
      "num_leaves, val_score: 0.800579:  95%|#########5| 19/20 [00:02<00:00,  7.27it/s]\u001b[32m[I 2022-01-26 12:26:18,045]\u001b[0m Trial 25 finished with value: 0.7825829752786599 and parameters: {'num_leaves': 98}. Best is trial 18 with value: 0.8005791145152251.\u001b[0m\n",
      "num_leaves, val_score: 0.800579:  95%|#########5| 19/20 [00:02<00:00,  7.27it/s]/home/yuuuuutaro/.cache/pypoetry/virtualenvs/urshifu-uBlELXII-py3.8/lib/python3.8/site-packages/lightgbm/engine.py:181: UserWarning: 'early_stopping_rounds' argument is deprecated and will be removed in a future release of LightGBM. Pass 'early_stopping()' callback via 'callbacks' argument instead.\n",
      "  _log_warning(\"'early_stopping_rounds' argument is deprecated and will be removed in a future release of LightGBM. \"\n",
      "/home/yuuuuutaro/.cache/pypoetry/virtualenvs/urshifu-uBlELXII-py3.8/lib/python3.8/site-packages/lightgbm/engine.py:239: UserWarning: 'verbose_eval' argument is deprecated and will be removed in a future release of LightGBM. Pass 'log_evaluation()' callback via 'callbacks' argument instead.\n",
      "  _log_warning(\"'verbose_eval' argument is deprecated and will be removed in a future release of LightGBM. \"\n",
      "num_leaves, val_score: 0.800579: 100%|##########| 20/20 [00:02<00:00,  7.10it/s]\u001b[32m[I 2022-01-26 12:26:18,193]\u001b[0m Trial 26 finished with value: 0.7825829752786599 and parameters: {'num_leaves': 33}. Best is trial 18 with value: 0.8005791145152251.\u001b[0m\n",
      "num_leaves, val_score: 0.800579: 100%|##########| 20/20 [00:02<00:00,  6.94it/s]\n",
      "bagging, val_score: 0.800579:   0%|          | 0/10 [00:00<?, ?it/s]/home/yuuuuutaro/.cache/pypoetry/virtualenvs/urshifu-uBlELXII-py3.8/lib/python3.8/site-packages/lightgbm/engine.py:181: UserWarning: 'early_stopping_rounds' argument is deprecated and will be removed in a future release of LightGBM. Pass 'early_stopping()' callback via 'callbacks' argument instead.\n",
      "  _log_warning(\"'early_stopping_rounds' argument is deprecated and will be removed in a future release of LightGBM. \"\n",
      "/home/yuuuuutaro/.cache/pypoetry/virtualenvs/urshifu-uBlELXII-py3.8/lib/python3.8/site-packages/lightgbm/engine.py:239: UserWarning: 'verbose_eval' argument is deprecated and will be removed in a future release of LightGBM. Pass 'log_evaluation()' callback via 'callbacks' argument instead.\n",
      "  _log_warning(\"'verbose_eval' argument is deprecated and will be removed in a future release of LightGBM. \"\n",
      "bagging, val_score: 0.800579:  10%|#         | 1/10 [00:00<00:01,  5.46it/s]\u001b[32m[I 2022-01-26 12:26:18,382]\u001b[0m Trial 27 finished with value: 0.7885609315648546 and parameters: {'bagging_fraction': 0.9674837129611347, 'bagging_freq': 4}. Best is trial 27 with value: 0.7885609315648546.\u001b[0m\n",
      "bagging, val_score: 0.800579:  10%|#         | 1/10 [00:00<00:01,  5.46it/s]/home/yuuuuutaro/.cache/pypoetry/virtualenvs/urshifu-uBlELXII-py3.8/lib/python3.8/site-packages/lightgbm/engine.py:181: UserWarning: 'early_stopping_rounds' argument is deprecated and will be removed in a future release of LightGBM. Pass 'early_stopping()' callback via 'callbacks' argument instead.\n",
      "  _log_warning(\"'early_stopping_rounds' argument is deprecated and will be removed in a future release of LightGBM. \"\n",
      "/home/yuuuuutaro/.cache/pypoetry/virtualenvs/urshifu-uBlELXII-py3.8/lib/python3.8/site-packages/lightgbm/engine.py:239: UserWarning: 'verbose_eval' argument is deprecated and will be removed in a future release of LightGBM. Pass 'log_evaluation()' callback via 'callbacks' argument instead.\n",
      "  _log_warning(\"'verbose_eval' argument is deprecated and will be removed in a future release of LightGBM. \"\n",
      "bagging, val_score: 0.800579:  20%|##        | 2/10 [00:00<00:01,  7.05it/s]\u001b[32m[I 2022-01-26 12:26:18,495]\u001b[0m Trial 28 finished with value: 0.767046515972352 and parameters: {'bagging_fraction': 0.4418667892279844, 'bagging_freq': 1}. Best is trial 27 with value: 0.7885609315648546.\u001b[0m\n",
      "bagging, val_score: 0.800579:  20%|##        | 2/10 [00:00<00:01,  7.05it/s]/home/yuuuuutaro/.cache/pypoetry/virtualenvs/urshifu-uBlELXII-py3.8/lib/python3.8/site-packages/lightgbm/engine.py:181: UserWarning: 'early_stopping_rounds' argument is deprecated and will be removed in a future release of LightGBM. Pass 'early_stopping()' callback via 'callbacks' argument instead.\n",
      "  _log_warning(\"'early_stopping_rounds' argument is deprecated and will be removed in a future release of LightGBM. \"\n",
      "/home/yuuuuutaro/.cache/pypoetry/virtualenvs/urshifu-uBlELXII-py3.8/lib/python3.8/site-packages/lightgbm/engine.py:239: UserWarning: 'verbose_eval' argument is deprecated and will be removed in a future release of LightGBM. Pass 'log_evaluation()' callback via 'callbacks' argument instead.\n",
      "  _log_warning(\"'verbose_eval' argument is deprecated and will be removed in a future release of LightGBM. \"\n",
      "bagging, val_score: 0.800579:  20%|##        | 2/10 [00:00<00:01,  7.05it/s]\u001b[32m[I 2022-01-26 12:26:18,551]\u001b[0m Trial 29 finished with value: 0.7732424185814808 and parameters: {'bagging_fraction': 0.940327751646579, 'bagging_freq': 3}. Best is trial 27 with value: 0.7885609315648546.\u001b[0m\n",
      "bagging, val_score: 0.800579:  30%|###       | 3/10 [00:00<00:00,  7.05it/s]/home/yuuuuutaro/.cache/pypoetry/virtualenvs/urshifu-uBlELXII-py3.8/lib/python3.8/site-packages/lightgbm/engine.py:181: UserWarning: 'early_stopping_rounds' argument is deprecated and will be removed in a future release of LightGBM. Pass 'early_stopping()' callback via 'callbacks' argument instead.\n",
      "  _log_warning(\"'early_stopping_rounds' argument is deprecated and will be removed in a future release of LightGBM. \"\n",
      "/home/yuuuuutaro/.cache/pypoetry/virtualenvs/urshifu-uBlELXII-py3.8/lib/python3.8/site-packages/lightgbm/engine.py:239: UserWarning: 'verbose_eval' argument is deprecated and will be removed in a future release of LightGBM. Pass 'log_evaluation()' callback via 'callbacks' argument instead.\n",
      "  _log_warning(\"'verbose_eval' argument is deprecated and will be removed in a future release of LightGBM. \"\n",
      "bagging, val_score: 0.800579:  40%|####      | 4/10 [00:00<00:00,  8.69it/s]\u001b[32m[I 2022-01-26 12:26:18,694]\u001b[0m Trial 30 finished with value: 0.7719658758328664 and parameters: {'bagging_fraction': 0.6499232052877046, 'bagging_freq': 4}. Best is trial 27 with value: 0.7885609315648546.\u001b[0m\n",
      "bagging, val_score: 0.800579:  40%|####      | 4/10 [00:00<00:00,  8.69it/s]/home/yuuuuutaro/.cache/pypoetry/virtualenvs/urshifu-uBlELXII-py3.8/lib/python3.8/site-packages/lightgbm/engine.py:181: UserWarning: 'early_stopping_rounds' argument is deprecated and will be removed in a future release of LightGBM. Pass 'early_stopping()' callback via 'callbacks' argument instead.\n",
      "  _log_warning(\"'early_stopping_rounds' argument is deprecated and will be removed in a future release of LightGBM. \"\n",
      "/home/yuuuuutaro/.cache/pypoetry/virtualenvs/urshifu-uBlELXII-py3.8/lib/python3.8/site-packages/lightgbm/engine.py:239: UserWarning: 'verbose_eval' argument is deprecated and will be removed in a future release of LightGBM. Pass 'log_evaluation()' callback via 'callbacks' argument instead.\n",
      "  _log_warning(\"'verbose_eval' argument is deprecated and will be removed in a future release of LightGBM. \"\n",
      "bagging, val_score: 0.800579:  40%|####      | 4/10 [00:00<00:00,  8.69it/s]\u001b[32m[I 2022-01-26 12:26:18,761]\u001b[0m Trial 31 finished with value: 0.7758577744566909 and parameters: {'bagging_fraction': 0.4368954042431196, 'bagging_freq': 6}. Best is trial 27 with value: 0.7885609315648546.\u001b[0m\n",
      "bagging, val_score: 0.800579:  50%|#####     | 5/10 [00:00<00:00,  8.69it/s]/home/yuuuuutaro/.cache/pypoetry/virtualenvs/urshifu-uBlELXII-py3.8/lib/python3.8/site-packages/lightgbm/engine.py:181: UserWarning: 'early_stopping_rounds' argument is deprecated and will be removed in a future release of LightGBM. Pass 'early_stopping()' callback via 'callbacks' argument instead.\n",
      "  _log_warning(\"'early_stopping_rounds' argument is deprecated and will be removed in a future release of LightGBM. \"\n",
      "/home/yuuuuutaro/.cache/pypoetry/virtualenvs/urshifu-uBlELXII-py3.8/lib/python3.8/site-packages/lightgbm/engine.py:239: UserWarning: 'verbose_eval' argument is deprecated and will be removed in a future release of LightGBM. Pass 'log_evaluation()' callback via 'callbacks' argument instead.\n",
      "  _log_warning(\"'verbose_eval' argument is deprecated and will be removed in a future release of LightGBM. \"\n",
      "bagging, val_score: 0.800579:  60%|######    | 6/10 [00:00<00:00, 10.55it/s]\u001b[32m[I 2022-01-26 12:26:18,838]\u001b[0m Trial 32 finished with value: 0.7776013450401644 and parameters: {'bagging_fraction': 0.6933905983197126, 'bagging_freq': 2}. Best is trial 27 with value: 0.7885609315648546.\u001b[0m\n",
      "bagging, val_score: 0.800579:  60%|######    | 6/10 [00:00<00:00, 10.55it/s]/home/yuuuuutaro/.cache/pypoetry/virtualenvs/urshifu-uBlELXII-py3.8/lib/python3.8/site-packages/lightgbm/engine.py:181: UserWarning: 'early_stopping_rounds' argument is deprecated and will be removed in a future release of LightGBM. Pass 'early_stopping()' callback via 'callbacks' argument instead.\n",
      "  _log_warning(\"'early_stopping_rounds' argument is deprecated and will be removed in a future release of LightGBM. \"\n",
      "/home/yuuuuutaro/.cache/pypoetry/virtualenvs/urshifu-uBlELXII-py3.8/lib/python3.8/site-packages/lightgbm/engine.py:239: UserWarning: 'verbose_eval' argument is deprecated and will be removed in a future release of LightGBM. Pass 'log_evaluation()' callback via 'callbacks' argument instead.\n",
      "  _log_warning(\"'verbose_eval' argument is deprecated and will be removed in a future release of LightGBM. \"\n",
      "bagging, val_score: 0.800579:  60%|######    | 6/10 [00:00<00:00, 10.55it/s]\u001b[32m[I 2022-01-26 12:26:18,906]\u001b[0m Trial 33 finished with value: 0.7776013450401644 and parameters: {'bagging_fraction': 0.842965694035453, 'bagging_freq': 5}. Best is trial 27 with value: 0.7885609315648546.\u001b[0m\n",
      "bagging, val_score: 0.800579:  70%|#######   | 7/10 [00:00<00:00, 10.55it/s]/home/yuuuuutaro/.cache/pypoetry/virtualenvs/urshifu-uBlELXII-py3.8/lib/python3.8/site-packages/lightgbm/engine.py:181: UserWarning: 'early_stopping_rounds' argument is deprecated and will be removed in a future release of LightGBM. Pass 'early_stopping()' callback via 'callbacks' argument instead.\n",
      "  _log_warning(\"'early_stopping_rounds' argument is deprecated and will be removed in a future release of LightGBM. \"\n",
      "/home/yuuuuutaro/.cache/pypoetry/virtualenvs/urshifu-uBlELXII-py3.8/lib/python3.8/site-packages/lightgbm/engine.py:239: UserWarning: 'verbose_eval' argument is deprecated and will be removed in a future release of LightGBM. Pass 'log_evaluation()' callback via 'callbacks' argument instead.\n",
      "  _log_warning(\"'verbose_eval' argument is deprecated and will be removed in a future release of LightGBM. \"\n",
      "bagging, val_score: 0.800579:  80%|########  | 8/10 [00:00<00:00,  9.99it/s]\u001b[32m[I 2022-01-26 12:26:19,054]\u001b[0m Trial 34 finished with value: 0.7634036988604521 and parameters: {'bagging_fraction': 0.966945811906962, 'bagging_freq': 2}. Best is trial 27 with value: 0.7885609315648546.\u001b[0m\n",
      "bagging, val_score: 0.800579:  80%|########  | 8/10 [00:00<00:00,  9.99it/s]/home/yuuuuutaro/.cache/pypoetry/virtualenvs/urshifu-uBlELXII-py3.8/lib/python3.8/site-packages/lightgbm/engine.py:181: UserWarning: 'early_stopping_rounds' argument is deprecated and will be removed in a future release of LightGBM. Pass 'early_stopping()' callback via 'callbacks' argument instead.\n",
      "  _log_warning(\"'early_stopping_rounds' argument is deprecated and will be removed in a future release of LightGBM. \"\n",
      "/home/yuuuuutaro/.cache/pypoetry/virtualenvs/urshifu-uBlELXII-py3.8/lib/python3.8/site-packages/lightgbm/engine.py:239: UserWarning: 'verbose_eval' argument is deprecated and will be removed in a future release of LightGBM. Pass 'log_evaluation()' callback via 'callbacks' argument instead.\n",
      "  _log_warning(\"'verbose_eval' argument is deprecated and will be removed in a future release of LightGBM. \"\n",
      "bagging, val_score: 0.800579:  80%|########  | 8/10 [00:00<00:00,  9.99it/s]\u001b[32m[I 2022-01-26 12:26:19,169]\u001b[0m Trial 35 finished with value: 0.7876268758951367 and parameters: {'bagging_fraction': 0.9372732780704657, 'bagging_freq': 6}. Best is trial 27 with value: 0.7885609315648546.\u001b[0m\n",
      "bagging, val_score: 0.800579:  90%|######### | 9/10 [00:00<00:00,  9.99it/s]/home/yuuuuutaro/.cache/pypoetry/virtualenvs/urshifu-uBlELXII-py3.8/lib/python3.8/site-packages/lightgbm/engine.py:181: UserWarning: 'early_stopping_rounds' argument is deprecated and will be removed in a future release of LightGBM. Pass 'early_stopping()' callback via 'callbacks' argument instead.\n",
      "  _log_warning(\"'early_stopping_rounds' argument is deprecated and will be removed in a future release of LightGBM. \"\n",
      "/home/yuuuuutaro/.cache/pypoetry/virtualenvs/urshifu-uBlELXII-py3.8/lib/python3.8/site-packages/lightgbm/engine.py:239: UserWarning: 'verbose_eval' argument is deprecated and will be removed in a future release of LightGBM. Pass 'log_evaluation()' callback via 'callbacks' argument instead.\n",
      "  _log_warning(\"'verbose_eval' argument is deprecated and will be removed in a future release of LightGBM. \"\n",
      "bagging, val_score: 0.800579: 100%|##########| 10/10 [00:01<00:00, 10.38it/s]\u001b[32m[I 2022-01-26 12:26:19,234]\u001b[0m Trial 36 finished with value: 0.7676380845631733 and parameters: {'bagging_fraction': 0.4397235885274643, 'bagging_freq': 5}. Best is trial 27 with value: 0.7885609315648546.\u001b[0m\n",
      "bagging, val_score: 0.800579: 100%|##########| 10/10 [00:01<00:00,  9.64it/s]\n",
      "feature_fraction_stage2, val_score: 0.800579:   0%|          | 0/6 [00:00<?, ?it/s]/home/yuuuuutaro/.cache/pypoetry/virtualenvs/urshifu-uBlELXII-py3.8/lib/python3.8/site-packages/lightgbm/engine.py:181: UserWarning: 'early_stopping_rounds' argument is deprecated and will be removed in a future release of LightGBM. Pass 'early_stopping()' callback via 'callbacks' argument instead.\n",
      "  _log_warning(\"'early_stopping_rounds' argument is deprecated and will be removed in a future release of LightGBM. \"\n",
      "/home/yuuuuutaro/.cache/pypoetry/virtualenvs/urshifu-uBlELXII-py3.8/lib/python3.8/site-packages/lightgbm/engine.py:239: UserWarning: 'verbose_eval' argument is deprecated and will be removed in a future release of LightGBM. Pass 'log_evaluation()' callback via 'callbacks' argument instead.\n",
      "  _log_warning(\"'verbose_eval' argument is deprecated and will be removed in a future release of LightGBM. \"\n",
      "feature_fraction_stage2, val_score: 0.804502:  17%|#6        | 1/6 [00:00<00:00,  5.49it/s]\u001b[32m[I 2022-01-26 12:26:19,421]\u001b[0m Trial 37 finished with value: 0.8045021483280403 and parameters: {'feature_fraction': 0.6839999999999999}. Best is trial 37 with value: 0.8045021483280403.\u001b[0m\n",
      "feature_fraction_stage2, val_score: 0.804502:  17%|#6        | 1/6 [00:00<00:00,  5.49it/s]/home/yuuuuutaro/.cache/pypoetry/virtualenvs/urshifu-uBlELXII-py3.8/lib/python3.8/site-packages/lightgbm/engine.py:181: UserWarning: 'early_stopping_rounds' argument is deprecated and will be removed in a future release of LightGBM. Pass 'early_stopping()' callback via 'callbacks' argument instead.\n",
      "  _log_warning(\"'early_stopping_rounds' argument is deprecated and will be removed in a future release of LightGBM. \"\n",
      "/home/yuuuuutaro/.cache/pypoetry/virtualenvs/urshifu-uBlELXII-py3.8/lib/python3.8/site-packages/lightgbm/engine.py:239: UserWarning: 'verbose_eval' argument is deprecated and will be removed in a future release of LightGBM. Pass 'log_evaluation()' callback via 'callbacks' argument instead.\n",
      "  _log_warning(\"'verbose_eval' argument is deprecated and will be removed in a future release of LightGBM. \"\n",
      "feature_fraction_stage2, val_score: 0.804502:  17%|#6        | 1/6 [00:00<00:00,  5.49it/s]\u001b[32m[I 2022-01-26 12:26:19,513]\u001b[0m Trial 38 finished with value: 0.7969051622143346 and parameters: {'feature_fraction': 0.748}. Best is trial 37 with value: 0.8045021483280403.\u001b[0m\n",
      "feature_fraction_stage2, val_score: 0.804502:  33%|###3      | 2/6 [00:00<00:00,  5.49it/s]/home/yuuuuutaro/.cache/pypoetry/virtualenvs/urshifu-uBlELXII-py3.8/lib/python3.8/site-packages/lightgbm/engine.py:181: UserWarning: 'early_stopping_rounds' argument is deprecated and will be removed in a future release of LightGBM. Pass 'early_stopping()' callback via 'callbacks' argument instead.\n",
      "  _log_warning(\"'early_stopping_rounds' argument is deprecated and will be removed in a future release of LightGBM. \"\n",
      "/home/yuuuuutaro/.cache/pypoetry/virtualenvs/urshifu-uBlELXII-py3.8/lib/python3.8/site-packages/lightgbm/engine.py:239: UserWarning: 'verbose_eval' argument is deprecated and will be removed in a future release of LightGBM. Pass 'log_evaluation()' callback via 'callbacks' argument instead.\n",
      "  _log_warning(\"'verbose_eval' argument is deprecated and will be removed in a future release of LightGBM. \"\n",
      "feature_fraction_stage2, val_score: 0.804502:  50%|#####     | 3/6 [00:00<00:00,  7.89it/s]\u001b[32m[I 2022-01-26 12:26:19,636]\u001b[0m Trial 39 finished with value: 0.7983373809079021 and parameters: {'feature_fraction': 0.652}. Best is trial 37 with value: 0.8045021483280403.\u001b[0m\n",
      "feature_fraction_stage2, val_score: 0.804502:  50%|#####     | 3/6 [00:00<00:00,  7.89it/s]/home/yuuuuutaro/.cache/pypoetry/virtualenvs/urshifu-uBlELXII-py3.8/lib/python3.8/site-packages/lightgbm/engine.py:181: UserWarning: 'early_stopping_rounds' argument is deprecated and will be removed in a future release of LightGBM. Pass 'early_stopping()' callback via 'callbacks' argument instead.\n",
      "  _log_warning(\"'early_stopping_rounds' argument is deprecated and will be removed in a future release of LightGBM. \"\n",
      "/home/yuuuuutaro/.cache/pypoetry/virtualenvs/urshifu-uBlELXII-py3.8/lib/python3.8/site-packages/lightgbm/engine.py:239: UserWarning: 'verbose_eval' argument is deprecated and will be removed in a future release of LightGBM. Pass 'log_evaluation()' callback via 'callbacks' argument instead.\n",
      "  _log_warning(\"'verbose_eval' argument is deprecated and will be removed in a future release of LightGBM. \"\n",
      "feature_fraction_stage2, val_score: 0.804502:  50%|#####     | 3/6 [00:00<00:00,  7.89it/s]\u001b[32m[I 2022-01-26 12:26:19,713]\u001b[0m Trial 40 finished with value: 0.7969051622143346 and parameters: {'feature_fraction': 0.7799999999999999}. Best is trial 37 with value: 0.8045021483280403.\u001b[0m\n",
      "feature_fraction_stage2, val_score: 0.804502:  67%|######6   | 4/6 [00:00<00:00,  7.89it/s]/home/yuuuuutaro/.cache/pypoetry/virtualenvs/urshifu-uBlELXII-py3.8/lib/python3.8/site-packages/lightgbm/engine.py:181: UserWarning: 'early_stopping_rounds' argument is deprecated and will be removed in a future release of LightGBM. Pass 'early_stopping()' callback via 'callbacks' argument instead.\n",
      "  _log_warning(\"'early_stopping_rounds' argument is deprecated and will be removed in a future release of LightGBM. \"\n",
      "/home/yuuuuutaro/.cache/pypoetry/virtualenvs/urshifu-uBlELXII-py3.8/lib/python3.8/site-packages/lightgbm/engine.py:239: UserWarning: 'verbose_eval' argument is deprecated and will be removed in a future release of LightGBM. Pass 'log_evaluation()' callback via 'callbacks' argument instead.\n",
      "  _log_warning(\"'verbose_eval' argument is deprecated and will be removed in a future release of LightGBM. \"\n",
      "feature_fraction_stage2, val_score: 0.804502:  83%|########3 | 5/6 [00:00<00:00,  9.11it/s]\u001b[32m[I 2022-01-26 12:26:19,823]\u001b[0m Trial 41 finished with value: 0.7983373809079021 and parameters: {'feature_fraction': 0.62}. Best is trial 37 with value: 0.8045021483280403.\u001b[0m\n",
      "feature_fraction_stage2, val_score: 0.804502:  83%|########3 | 5/6 [00:00<00:00,  9.11it/s]/home/yuuuuutaro/.cache/pypoetry/virtualenvs/urshifu-uBlELXII-py3.8/lib/python3.8/site-packages/lightgbm/engine.py:181: UserWarning: 'early_stopping_rounds' argument is deprecated and will be removed in a future release of LightGBM. Pass 'early_stopping()' callback via 'callbacks' argument instead.\n",
      "  _log_warning(\"'early_stopping_rounds' argument is deprecated and will be removed in a future release of LightGBM. \"\n",
      "/home/yuuuuutaro/.cache/pypoetry/virtualenvs/urshifu-uBlELXII-py3.8/lib/python3.8/site-packages/lightgbm/engine.py:239: UserWarning: 'verbose_eval' argument is deprecated and will be removed in a future release of LightGBM. Pass 'log_evaluation()' callback via 'callbacks' argument instead.\n",
      "  _log_warning(\"'verbose_eval' argument is deprecated and will be removed in a future release of LightGBM. \"\n",
      "feature_fraction_stage2, val_score: 0.804502:  83%|########3 | 5/6 [00:00<00:00,  9.11it/s]\u001b[32m[I 2022-01-26 12:26:19,915]\u001b[0m Trial 42 finished with value: 0.8005791145152251 and parameters: {'feature_fraction': 0.716}. Best is trial 37 with value: 0.8045021483280403.\u001b[0m\n",
      "feature_fraction_stage2, val_score: 0.804502: 100%|##########| 6/6 [00:00<00:00,  8.85it/s]\n",
      "regularization_factors, val_score: 0.804502:   0%|          | 0/20 [00:00<?, ?it/s]/home/yuuuuutaro/.cache/pypoetry/virtualenvs/urshifu-uBlELXII-py3.8/lib/python3.8/site-packages/lightgbm/engine.py:181: UserWarning: 'early_stopping_rounds' argument is deprecated and will be removed in a future release of LightGBM. Pass 'early_stopping()' callback via 'callbacks' argument instead.\n",
      "  _log_warning(\"'early_stopping_rounds' argument is deprecated and will be removed in a future release of LightGBM. \"\n",
      "/home/yuuuuutaro/.cache/pypoetry/virtualenvs/urshifu-uBlELXII-py3.8/lib/python3.8/site-packages/lightgbm/engine.py:239: UserWarning: 'verbose_eval' argument is deprecated and will be removed in a future release of LightGBM. Pass 'log_evaluation()' callback via 'callbacks' argument instead.\n",
      "  _log_warning(\"'verbose_eval' argument is deprecated and will be removed in a future release of LightGBM. \"\n",
      "regularization_factors, val_score: 0.804502:   5%|5         | 1/20 [00:00<00:04,  4.27it/s]\u001b[32m[I 2022-01-26 12:26:20,154]\u001b[0m Trial 43 finished with value: 0.7982128401519397 and parameters: {'lambda_l1': 0.0016229844920320237, 'lambda_l2': 2.8674096786540086e-06}. Best is trial 43 with value: 0.7982128401519397.\u001b[0m\n",
      "regularization_factors, val_score: 0.804502:   5%|5         | 1/20 [00:00<00:04,  4.27it/s]/home/yuuuuutaro/.cache/pypoetry/virtualenvs/urshifu-uBlELXII-py3.8/lib/python3.8/site-packages/lightgbm/engine.py:181: UserWarning: 'early_stopping_rounds' argument is deprecated and will be removed in a future release of LightGBM. Pass 'early_stopping()' callback via 'callbacks' argument instead.\n",
      "  _log_warning(\"'early_stopping_rounds' argument is deprecated and will be removed in a future release of LightGBM. \"\n",
      "/home/yuuuuutaro/.cache/pypoetry/virtualenvs/urshifu-uBlELXII-py3.8/lib/python3.8/site-packages/lightgbm/engine.py:239: UserWarning: 'verbose_eval' argument is deprecated and will be removed in a future release of LightGBM. Pass 'log_evaluation()' callback via 'callbacks' argument instead.\n",
      "  _log_warning(\"'verbose_eval' argument is deprecated and will be removed in a future release of LightGBM. \"\n",
      "regularization_factors, val_score: 0.804502:   5%|5         | 1/20 [00:00<00:04,  4.27it/s]\u001b[32m[I 2022-01-26 12:26:20,252]\u001b[0m Trial 44 finished with value: 0.8045021483280403 and parameters: {'lambda_l1': 3.905924727536077e-06, 'lambda_l2': 9.120524462637955e-08}. Best is trial 44 with value: 0.8045021483280403.\u001b[0m\n",
      "regularization_factors, val_score: 0.804502:  10%|#         | 2/20 [00:00<00:04,  4.27it/s]/home/yuuuuutaro/.cache/pypoetry/virtualenvs/urshifu-uBlELXII-py3.8/lib/python3.8/site-packages/lightgbm/engine.py:181: UserWarning: 'early_stopping_rounds' argument is deprecated and will be removed in a future release of LightGBM. Pass 'early_stopping()' callback via 'callbacks' argument instead.\n",
      "  _log_warning(\"'early_stopping_rounds' argument is deprecated and will be removed in a future release of LightGBM. \"\n",
      "/home/yuuuuutaro/.cache/pypoetry/virtualenvs/urshifu-uBlELXII-py3.8/lib/python3.8/site-packages/lightgbm/engine.py:239: UserWarning: 'verbose_eval' argument is deprecated and will be removed in a future release of LightGBM. Pass 'log_evaluation()' callback via 'callbacks' argument instead.\n",
      "  _log_warning(\"'verbose_eval' argument is deprecated and will be removed in a future release of LightGBM. \"\n",
      "regularization_factors, val_score: 0.804502:  15%|#5        | 3/20 [00:00<00:02,  7.29it/s]\u001b[32m[I 2022-01-26 12:26:20,360]\u001b[0m Trial 45 finished with value: 0.7812130269630737 and parameters: {'lambda_l1': 0.0019207083149747172, 'lambda_l2': 0.7157706743827947}. Best is trial 44 with value: 0.8045021483280403.\u001b[0m\n",
      "regularization_factors, val_score: 0.804502:  15%|#5        | 3/20 [00:00<00:02,  7.29it/s]/home/yuuuuutaro/.cache/pypoetry/virtualenvs/urshifu-uBlELXII-py3.8/lib/python3.8/site-packages/lightgbm/engine.py:181: UserWarning: 'early_stopping_rounds' argument is deprecated and will be removed in a future release of LightGBM. Pass 'early_stopping()' callback via 'callbacks' argument instead.\n",
      "  _log_warning(\"'early_stopping_rounds' argument is deprecated and will be removed in a future release of LightGBM. \"\n",
      "/home/yuuuuutaro/.cache/pypoetry/virtualenvs/urshifu-uBlELXII-py3.8/lib/python3.8/site-packages/lightgbm/engine.py:239: UserWarning: 'verbose_eval' argument is deprecated and will be removed in a future release of LightGBM. Pass 'log_evaluation()' callback via 'callbacks' argument instead.\n",
      "  _log_warning(\"'verbose_eval' argument is deprecated and will be removed in a future release of LightGBM. \"\n",
      "regularization_factors, val_score: 0.804502:  20%|##        | 4/20 [00:00<00:02,  6.87it/s]\u001b[32m[I 2022-01-26 12:26:20,521]\u001b[0m Trial 46 finished with value: 0.7983996512858833 and parameters: {'lambda_l1': 2.37671557740611e-07, 'lambda_l2': 0.0006485275684073339}. Best is trial 44 with value: 0.8045021483280403.\u001b[0m\n",
      "regularization_factors, val_score: 0.804502:  20%|##        | 4/20 [00:00<00:02,  6.87it/s]/home/yuuuuutaro/.cache/pypoetry/virtualenvs/urshifu-uBlELXII-py3.8/lib/python3.8/site-packages/lightgbm/engine.py:181: UserWarning: 'early_stopping_rounds' argument is deprecated and will be removed in a future release of LightGBM. Pass 'early_stopping()' callback via 'callbacks' argument instead.\n",
      "  _log_warning(\"'early_stopping_rounds' argument is deprecated and will be removed in a future release of LightGBM. \"\n",
      "/home/yuuuuutaro/.cache/pypoetry/virtualenvs/urshifu-uBlELXII-py3.8/lib/python3.8/site-packages/lightgbm/engine.py:239: UserWarning: 'verbose_eval' argument is deprecated and will be removed in a future release of LightGBM. Pass 'log_evaluation()' callback via 'callbacks' argument instead.\n",
      "  _log_warning(\"'verbose_eval' argument is deprecated and will be removed in a future release of LightGBM. \"\n",
      "regularization_factors, val_score: 0.804502:  25%|##5       | 5/20 [00:00<00:01,  7.60it/s]\u001b[32m[I 2022-01-26 12:26:20,624]\u001b[0m Trial 47 finished with value: 0.7859455756896444 and parameters: {'lambda_l1': 0.00860196093131999, 'lambda_l2': 0.0003665362630432424}. Best is trial 44 with value: 0.8045021483280403.\u001b[0m\n",
      "regularization_factors, val_score: 0.804502:  25%|##5       | 5/20 [00:00<00:01,  7.60it/s]/home/yuuuuutaro/.cache/pypoetry/virtualenvs/urshifu-uBlELXII-py3.8/lib/python3.8/site-packages/lightgbm/engine.py:181: UserWarning: 'early_stopping_rounds' argument is deprecated and will be removed in a future release of LightGBM. Pass 'early_stopping()' callback via 'callbacks' argument instead.\n",
      "  _log_warning(\"'early_stopping_rounds' argument is deprecated and will be removed in a future release of LightGBM. \"\n",
      "/home/yuuuuutaro/.cache/pypoetry/virtualenvs/urshifu-uBlELXII-py3.8/lib/python3.8/site-packages/lightgbm/engine.py:239: UserWarning: 'verbose_eval' argument is deprecated and will be removed in a future release of LightGBM. Pass 'log_evaluation()' callback via 'callbacks' argument instead.\n",
      "  _log_warning(\"'verbose_eval' argument is deprecated and will be removed in a future release of LightGBM. \"\n",
      "regularization_factors, val_score: 0.804502:  30%|###       | 6/20 [00:00<00:01,  8.23it/s]\u001b[32m[I 2022-01-26 12:26:20,725]\u001b[0m Trial 48 finished with value: 0.7964692695684663 and parameters: {'lambda_l1': 0.006087311667875698, 'lambda_l2': 0.016611022029744554}. Best is trial 44 with value: 0.8045021483280403.\u001b[0m\n",
      "regularization_factors, val_score: 0.804502:  30%|###       | 6/20 [00:00<00:01,  8.23it/s]/home/yuuuuutaro/.cache/pypoetry/virtualenvs/urshifu-uBlELXII-py3.8/lib/python3.8/site-packages/lightgbm/engine.py:181: UserWarning: 'early_stopping_rounds' argument is deprecated and will be removed in a future release of LightGBM. Pass 'early_stopping()' callback via 'callbacks' argument instead.\n",
      "  _log_warning(\"'early_stopping_rounds' argument is deprecated and will be removed in a future release of LightGBM. \"\n",
      "/home/yuuuuutaro/.cache/pypoetry/virtualenvs/urshifu-uBlELXII-py3.8/lib/python3.8/site-packages/lightgbm/engine.py:239: UserWarning: 'verbose_eval' argument is deprecated and will be removed in a future release of LightGBM. Pass 'log_evaluation()' callback via 'callbacks' argument instead.\n",
      "  _log_warning(\"'verbose_eval' argument is deprecated and will be removed in a future release of LightGBM. \"\n",
      "regularization_factors, val_score: 0.804502:  35%|###5      | 7/20 [00:00<00:01,  7.01it/s]\u001b[32m[I 2022-01-26 12:26:20,913]\u001b[0m Trial 49 finished with value: 0.8045021483280403 and parameters: {'lambda_l1': 0.00034520650583859695, 'lambda_l2': 6.325676710473886e-06}. Best is trial 44 with value: 0.8045021483280403.\u001b[0m\n",
      "regularization_factors, val_score: 0.804502:  35%|###5      | 7/20 [00:00<00:01,  7.01it/s]/home/yuuuuutaro/.cache/pypoetry/virtualenvs/urshifu-uBlELXII-py3.8/lib/python3.8/site-packages/lightgbm/engine.py:181: UserWarning: 'early_stopping_rounds' argument is deprecated and will be removed in a future release of LightGBM. Pass 'early_stopping()' callback via 'callbacks' argument instead.\n",
      "  _log_warning(\"'early_stopping_rounds' argument is deprecated and will be removed in a future release of LightGBM. \"\n",
      "/home/yuuuuutaro/.cache/pypoetry/virtualenvs/urshifu-uBlELXII-py3.8/lib/python3.8/site-packages/lightgbm/engine.py:239: UserWarning: 'verbose_eval' argument is deprecated and will be removed in a future release of LightGBM. Pass 'log_evaluation()' callback via 'callbacks' argument instead.\n",
      "  _log_warning(\"'verbose_eval' argument is deprecated and will be removed in a future release of LightGBM. \"\n",
      "regularization_factors, val_score: 0.804502:  40%|####      | 8/20 [00:01<00:01,  7.11it/s]\u001b[32m[I 2022-01-26 12:26:21,050]\u001b[0m Trial 50 finished with value: 0.8045021483280403 and parameters: {'lambda_l1': 2.7544659233025983e-08, 'lambda_l2': 8.308757885585168e-05}. Best is trial 44 with value: 0.8045021483280403.\u001b[0m\n",
      "regularization_factors, val_score: 0.804502:  40%|####      | 8/20 [00:01<00:01,  7.11it/s]/home/yuuuuutaro/.cache/pypoetry/virtualenvs/urshifu-uBlELXII-py3.8/lib/python3.8/site-packages/lightgbm/engine.py:181: UserWarning: 'early_stopping_rounds' argument is deprecated and will be removed in a future release of LightGBM. Pass 'early_stopping()' callback via 'callbacks' argument instead.\n",
      "  _log_warning(\"'early_stopping_rounds' argument is deprecated and will be removed in a future release of LightGBM. \"\n",
      "/home/yuuuuutaro/.cache/pypoetry/virtualenvs/urshifu-uBlELXII-py3.8/lib/python3.8/site-packages/lightgbm/engine.py:239: UserWarning: 'verbose_eval' argument is deprecated and will be removed in a future release of LightGBM. Pass 'log_evaluation()' callback via 'callbacks' argument instead.\n",
      "  _log_warning(\"'verbose_eval' argument is deprecated and will be removed in a future release of LightGBM. \"\n",
      "regularization_factors, val_score: 0.804502:  45%|####5     | 9/20 [00:01<00:01,  6.70it/s]\u001b[32m[I 2022-01-26 12:26:21,218]\u001b[0m Trial 51 finished with value: 0.7988978143097328 and parameters: {'lambda_l1': 0.03887295245151066, 'lambda_l2': 3.6895999477761205e-07}. Best is trial 44 with value: 0.8045021483280403.\u001b[0m\n",
      "regularization_factors, val_score: 0.804502:  45%|####5     | 9/20 [00:01<00:01,  6.70it/s]/home/yuuuuutaro/.cache/pypoetry/virtualenvs/urshifu-uBlELXII-py3.8/lib/python3.8/site-packages/lightgbm/engine.py:181: UserWarning: 'early_stopping_rounds' argument is deprecated and will be removed in a future release of LightGBM. Pass 'early_stopping()' callback via 'callbacks' argument instead.\n",
      "  _log_warning(\"'early_stopping_rounds' argument is deprecated and will be removed in a future release of LightGBM. \"\n",
      "/home/yuuuuutaro/.cache/pypoetry/virtualenvs/urshifu-uBlELXII-py3.8/lib/python3.8/site-packages/lightgbm/engine.py:239: UserWarning: 'verbose_eval' argument is deprecated and will be removed in a future release of LightGBM. Pass 'log_evaluation()' callback via 'callbacks' argument instead.\n",
      "  _log_warning(\"'verbose_eval' argument is deprecated and will be removed in a future release of LightGBM. \"\n",
      "regularization_factors, val_score: 0.804502:  50%|#####     | 10/20 [00:01<00:01,  7.08it/s]\u001b[32m[I 2022-01-26 12:26:21,342]\u001b[0m Trial 52 finished with value: 0.8045021483280403 and parameters: {'lambda_l1': 4.8228611848083894e-06, 'lambda_l2': 4.482358561942221e-07}. Best is trial 44 with value: 0.8045021483280403.\u001b[0m\n",
      "regularization_factors, val_score: 0.804502:  50%|#####     | 10/20 [00:01<00:01,  7.08it/s]/home/yuuuuutaro/.cache/pypoetry/virtualenvs/urshifu-uBlELXII-py3.8/lib/python3.8/site-packages/lightgbm/engine.py:181: UserWarning: 'early_stopping_rounds' argument is deprecated and will be removed in a future release of LightGBM. Pass 'early_stopping()' callback via 'callbacks' argument instead.\n",
      "  _log_warning(\"'early_stopping_rounds' argument is deprecated and will be removed in a future release of LightGBM. \"\n",
      "/home/yuuuuutaro/.cache/pypoetry/virtualenvs/urshifu-uBlELXII-py3.8/lib/python3.8/site-packages/lightgbm/engine.py:239: UserWarning: 'verbose_eval' argument is deprecated and will be removed in a future release of LightGBM. Pass 'log_evaluation()' callback via 'callbacks' argument instead.\n",
      "  _log_warning(\"'verbose_eval' argument is deprecated and will be removed in a future release of LightGBM. \"\n",
      "regularization_factors, val_score: 0.804502:  50%|#####     | 10/20 [00:01<00:01,  7.08it/s]\u001b[32m[I 2022-01-26 12:26:21,403]\u001b[0m Trial 53 finished with value: 0.777788156174108 and parameters: {'lambda_l1': 2.6073619914893627, 'lambda_l2': 2.0722281185303537e-08}. Best is trial 44 with value: 0.8045021483280403.\u001b[0m\n",
      "regularization_factors, val_score: 0.804502:  55%|#####5    | 11/20 [00:01<00:01,  7.08it/s]/home/yuuuuutaro/.cache/pypoetry/virtualenvs/urshifu-uBlELXII-py3.8/lib/python3.8/site-packages/lightgbm/engine.py:181: UserWarning: 'early_stopping_rounds' argument is deprecated and will be removed in a future release of LightGBM. Pass 'early_stopping()' callback via 'callbacks' argument instead.\n",
      "  _log_warning(\"'early_stopping_rounds' argument is deprecated and will be removed in a future release of LightGBM. \"\n",
      "/home/yuuuuutaro/.cache/pypoetry/virtualenvs/urshifu-uBlELXII-py3.8/lib/python3.8/site-packages/lightgbm/engine.py:239: UserWarning: 'verbose_eval' argument is deprecated and will be removed in a future release of LightGBM. Pass 'log_evaluation()' callback via 'callbacks' argument instead.\n",
      "  _log_warning(\"'verbose_eval' argument is deprecated and will be removed in a future release of LightGBM. \"\n",
      "regularization_factors, val_score: 0.804502:  60%|######    | 12/20 [00:01<00:01,  7.54it/s]\u001b[32m[I 2022-01-26 12:26:21,587]\u001b[0m Trial 54 finished with value: 0.8045021483280403 and parameters: {'lambda_l1': 1.2186550496378725e-05, 'lambda_l2': 8.900116351738419e-06}. Best is trial 44 with value: 0.8045021483280403.\u001b[0m\n",
      "regularization_factors, val_score: 0.804502:  60%|######    | 12/20 [00:01<00:01,  7.54it/s]/home/yuuuuutaro/.cache/pypoetry/virtualenvs/urshifu-uBlELXII-py3.8/lib/python3.8/site-packages/lightgbm/engine.py:181: UserWarning: 'early_stopping_rounds' argument is deprecated and will be removed in a future release of LightGBM. Pass 'early_stopping()' callback via 'callbacks' argument instead.\n",
      "  _log_warning(\"'early_stopping_rounds' argument is deprecated and will be removed in a future release of LightGBM. \"\n",
      "/home/yuuuuutaro/.cache/pypoetry/virtualenvs/urshifu-uBlELXII-py3.8/lib/python3.8/site-packages/lightgbm/engine.py:239: UserWarning: 'verbose_eval' argument is deprecated and will be removed in a future release of LightGBM. Pass 'log_evaluation()' callback via 'callbacks' argument instead.\n",
      "  _log_warning(\"'verbose_eval' argument is deprecated and will be removed in a future release of LightGBM. \"\n",
      "regularization_factors, val_score: 0.804502:  65%|######5   | 13/20 [00:01<00:00,  7.50it/s]\u001b[32m[I 2022-01-26 12:26:21,722]\u001b[0m Trial 55 finished with value: 0.8045021483280403 and parameters: {'lambda_l1': 2.4071860986687524e-05, 'lambda_l2': 1.3116363726417517e-08}. Best is trial 44 with value: 0.8045021483280403.\u001b[0m\n",
      "regularization_factors, val_score: 0.804502:  65%|######5   | 13/20 [00:01<00:00,  7.50it/s]/home/yuuuuutaro/.cache/pypoetry/virtualenvs/urshifu-uBlELXII-py3.8/lib/python3.8/site-packages/lightgbm/engine.py:181: UserWarning: 'early_stopping_rounds' argument is deprecated and will be removed in a future release of LightGBM. Pass 'early_stopping()' callback via 'callbacks' argument instead.\n",
      "  _log_warning(\"'early_stopping_rounds' argument is deprecated and will be removed in a future release of LightGBM. \"\n",
      "/home/yuuuuutaro/.cache/pypoetry/virtualenvs/urshifu-uBlELXII-py3.8/lib/python3.8/site-packages/lightgbm/engine.py:239: UserWarning: 'verbose_eval' argument is deprecated and will be removed in a future release of LightGBM. Pass 'log_evaluation()' callback via 'callbacks' argument instead.\n",
      "  _log_warning(\"'verbose_eval' argument is deprecated and will be removed in a future release of LightGBM. \"\n",
      "regularization_factors, val_score: 0.804502:  70%|#######   | 14/20 [00:01<00:00,  7.68it/s]\u001b[32m[I 2022-01-26 12:26:21,844]\u001b[0m Trial 56 finished with value: 0.8045021483280403 and parameters: {'lambda_l1': 0.00012386815407379733, 'lambda_l2': 5.183587249219028e-07}. Best is trial 44 with value: 0.8045021483280403.\u001b[0m\n",
      "regularization_factors, val_score: 0.804502:  70%|#######   | 14/20 [00:01<00:00,  7.68it/s]/home/yuuuuutaro/.cache/pypoetry/virtualenvs/urshifu-uBlELXII-py3.8/lib/python3.8/site-packages/lightgbm/engine.py:181: UserWarning: 'early_stopping_rounds' argument is deprecated and will be removed in a future release of LightGBM. Pass 'early_stopping()' callback via 'callbacks' argument instead.\n",
      "  _log_warning(\"'early_stopping_rounds' argument is deprecated and will be removed in a future release of LightGBM. \"\n",
      "/home/yuuuuutaro/.cache/pypoetry/virtualenvs/urshifu-uBlELXII-py3.8/lib/python3.8/site-packages/lightgbm/engine.py:239: UserWarning: 'verbose_eval' argument is deprecated and will be removed in a future release of LightGBM. Pass 'log_evaluation()' callback via 'callbacks' argument instead.\n",
      "  _log_warning(\"'verbose_eval' argument is deprecated and will be removed in a future release of LightGBM. \"\n",
      "regularization_factors, val_score: 0.804502:  75%|#######5  | 15/20 [00:02<00:00,  7.90it/s]\u001b[32m[I 2022-01-26 12:26:21,961]\u001b[0m Trial 57 finished with value: 0.8045021483280403 and parameters: {'lambda_l1': 9.6960345664432e-07, 'lambda_l2': 1.8842634461727842e-05}. Best is trial 44 with value: 0.8045021483280403.\u001b[0m\n",
      "regularization_factors, val_score: 0.804502:  75%|#######5  | 15/20 [00:02<00:00,  7.90it/s]/home/yuuuuutaro/.cache/pypoetry/virtualenvs/urshifu-uBlELXII-py3.8/lib/python3.8/site-packages/lightgbm/engine.py:181: UserWarning: 'early_stopping_rounds' argument is deprecated and will be removed in a future release of LightGBM. Pass 'early_stopping()' callback via 'callbacks' argument instead.\n",
      "  _log_warning(\"'early_stopping_rounds' argument is deprecated and will be removed in a future release of LightGBM. \"\n",
      "/home/yuuuuutaro/.cache/pypoetry/virtualenvs/urshifu-uBlELXII-py3.8/lib/python3.8/site-packages/lightgbm/engine.py:239: UserWarning: 'verbose_eval' argument is deprecated and will be removed in a future release of LightGBM. Pass 'log_evaluation()' callback via 'callbacks' argument instead.\n",
      "  _log_warning(\"'verbose_eval' argument is deprecated and will be removed in a future release of LightGBM. \"\n",
      "regularization_factors, val_score: 0.804502:  80%|########  | 16/20 [00:02<00:00,  7.89it/s]\u001b[32m[I 2022-01-26 12:26:22,088]\u001b[0m Trial 58 finished with value: 0.8045021483280403 and parameters: {'lambda_l1': 0.00015483595103253173, 'lambda_l2': 4.4636763398558785e-08}. Best is trial 44 with value: 0.8045021483280403.\u001b[0m\n",
      "regularization_factors, val_score: 0.804502:  80%|########  | 16/20 [00:02<00:00,  7.89it/s]/home/yuuuuutaro/.cache/pypoetry/virtualenvs/urshifu-uBlELXII-py3.8/lib/python3.8/site-packages/lightgbm/engine.py:181: UserWarning: 'early_stopping_rounds' argument is deprecated and will be removed in a future release of LightGBM. Pass 'early_stopping()' callback via 'callbacks' argument instead.\n",
      "  _log_warning(\"'early_stopping_rounds' argument is deprecated and will be removed in a future release of LightGBM. \"\n",
      "/home/yuuuuutaro/.cache/pypoetry/virtualenvs/urshifu-uBlELXII-py3.8/lib/python3.8/site-packages/lightgbm/engine.py:239: UserWarning: 'verbose_eval' argument is deprecated and will be removed in a future release of LightGBM. Pass 'log_evaluation()' callback via 'callbacks' argument instead.\n",
      "  _log_warning(\"'verbose_eval' argument is deprecated and will be removed in a future release of LightGBM. \"\n",
      "regularization_factors, val_score: 0.804502:  85%|########5 | 17/20 [00:02<00:00,  6.73it/s]\u001b[32m[I 2022-01-26 12:26:22,290]\u001b[0m Trial 59 finished with value: 0.7832679494364531 and parameters: {'lambda_l1': 1.445794658171953, 'lambda_l2': 0.01174985279732301}. Best is trial 44 with value: 0.8045021483280403.\u001b[0m\n",
      "regularization_factors, val_score: 0.804502:  85%|########5 | 17/20 [00:02<00:00,  6.73it/s]/home/yuuuuutaro/.cache/pypoetry/virtualenvs/urshifu-uBlELXII-py3.8/lib/python3.8/site-packages/lightgbm/engine.py:181: UserWarning: 'early_stopping_rounds' argument is deprecated and will be removed in a future release of LightGBM. Pass 'early_stopping()' callback via 'callbacks' argument instead.\n",
      "  _log_warning(\"'early_stopping_rounds' argument is deprecated and will be removed in a future release of LightGBM. \"\n",
      "/home/yuuuuutaro/.cache/pypoetry/virtualenvs/urshifu-uBlELXII-py3.8/lib/python3.8/site-packages/lightgbm/engine.py:239: UserWarning: 'verbose_eval' argument is deprecated and will be removed in a future release of LightGBM. Pass 'log_evaluation()' callback via 'callbacks' argument instead.\n",
      "  _log_warning(\"'verbose_eval' argument is deprecated and will be removed in a future release of LightGBM. \"\n",
      "regularization_factors, val_score: 0.804502:  90%|######### | 18/20 [00:02<00:00,  6.85it/s]\u001b[32m[I 2022-01-26 12:26:22,431]\u001b[0m Trial 60 finished with value: 0.8045021483280403 and parameters: {'lambda_l1': 2.405819471898862e-07, 'lambda_l2': 4.912176758655263e-05}. Best is trial 44 with value: 0.8045021483280403.\u001b[0m\n",
      "regularization_factors, val_score: 0.804502:  90%|######### | 18/20 [00:02<00:00,  6.85it/s]/home/yuuuuutaro/.cache/pypoetry/virtualenvs/urshifu-uBlELXII-py3.8/lib/python3.8/site-packages/lightgbm/engine.py:181: UserWarning: 'early_stopping_rounds' argument is deprecated and will be removed in a future release of LightGBM. Pass 'early_stopping()' callback via 'callbacks' argument instead.\n",
      "  _log_warning(\"'early_stopping_rounds' argument is deprecated and will be removed in a future release of LightGBM. \"\n",
      "/home/yuuuuutaro/.cache/pypoetry/virtualenvs/urshifu-uBlELXII-py3.8/lib/python3.8/site-packages/lightgbm/engine.py:239: UserWarning: 'verbose_eval' argument is deprecated and will be removed in a future release of LightGBM. Pass 'log_evaluation()' callback via 'callbacks' argument instead.\n",
      "  _log_warning(\"'verbose_eval' argument is deprecated and will be removed in a future release of LightGBM. \"\n",
      "regularization_factors, val_score: 0.804502:  95%|#########5| 19/20 [00:02<00:00,  6.57it/s]\u001b[32m[I 2022-01-26 12:26:22,597]\u001b[0m Trial 61 finished with value: 0.7830811383025095 and parameters: {'lambda_l1': 1.004649051685666e-08, 'lambda_l2': 4.6533856622055305}. Best is trial 44 with value: 0.8045021483280403.\u001b[0m\n",
      "regularization_factors, val_score: 0.804502:  95%|#########5| 19/20 [00:02<00:00,  6.57it/s]/home/yuuuuutaro/.cache/pypoetry/virtualenvs/urshifu-uBlELXII-py3.8/lib/python3.8/site-packages/lightgbm/engine.py:181: UserWarning: 'early_stopping_rounds' argument is deprecated and will be removed in a future release of LightGBM. Pass 'early_stopping()' callback via 'callbacks' argument instead.\n",
      "  _log_warning(\"'early_stopping_rounds' argument is deprecated and will be removed in a future release of LightGBM. \"\n",
      "/home/yuuuuutaro/.cache/pypoetry/virtualenvs/urshifu-uBlELXII-py3.8/lib/python3.8/site-packages/lightgbm/engine.py:239: UserWarning: 'verbose_eval' argument is deprecated and will be removed in a future release of LightGBM. Pass 'log_evaluation()' callback via 'callbacks' argument instead.\n",
      "  _log_warning(\"'verbose_eval' argument is deprecated and will be removed in a future release of LightGBM. \"\n",
      "regularization_factors, val_score: 0.804502: 100%|##########| 20/20 [00:02<00:00,  6.08it/s]\u001b[32m[I 2022-01-26 12:26:22,792]\u001b[0m Trial 62 finished with value: 0.8045021483280403 and parameters: {'lambda_l1': 3.917775930736727e-06, 'lambda_l2': 1.1231316293223112e-06}. Best is trial 44 with value: 0.8045021483280403.\u001b[0m\n",
      "regularization_factors, val_score: 0.804502: 100%|##########| 20/20 [00:02<00:00,  6.96it/s]\n",
      "min_data_in_leaf, val_score: 0.804502:   0%|          | 0/5 [00:00<?, ?it/s]/home/yuuuuutaro/.cache/pypoetry/virtualenvs/urshifu-uBlELXII-py3.8/lib/python3.8/site-packages/lightgbm/engine.py:181: UserWarning: 'early_stopping_rounds' argument is deprecated and will be removed in a future release of LightGBM. Pass 'early_stopping()' callback via 'callbacks' argument instead.\n",
      "  _log_warning(\"'early_stopping_rounds' argument is deprecated and will be removed in a future release of LightGBM. \"\n",
      "/home/yuuuuutaro/.cache/pypoetry/virtualenvs/urshifu-uBlELXII-py3.8/lib/python3.8/site-packages/lightgbm/engine.py:239: UserWarning: 'verbose_eval' argument is deprecated and will be removed in a future release of LightGBM. Pass 'log_evaluation()' callback via 'callbacks' argument instead.\n",
      "  _log_warning(\"'verbose_eval' argument is deprecated and will be removed in a future release of LightGBM. \"\n",
      "min_data_in_leaf, val_score: 0.804502:  20%|##        | 1/5 [00:00<00:00,  7.02it/s]\u001b[32m[I 2022-01-26 12:26:22,938]\u001b[0m Trial 63 finished with value: 0.7855096830437761 and parameters: {'min_child_samples': 5}. Best is trial 63 with value: 0.7855096830437761.\u001b[0m\n",
      "min_data_in_leaf, val_score: 0.804502:  20%|##        | 1/5 [00:00<00:00,  7.02it/s]/home/yuuuuutaro/.cache/pypoetry/virtualenvs/urshifu-uBlELXII-py3.8/lib/python3.8/site-packages/lightgbm/engine.py:181: UserWarning: 'early_stopping_rounds' argument is deprecated and will be removed in a future release of LightGBM. Pass 'early_stopping()' callback via 'callbacks' argument instead.\n",
      "  _log_warning(\"'early_stopping_rounds' argument is deprecated and will be removed in a future release of LightGBM. \"\n",
      "/home/yuuuuutaro/.cache/pypoetry/virtualenvs/urshifu-uBlELXII-py3.8/lib/python3.8/site-packages/lightgbm/engine.py:239: UserWarning: 'verbose_eval' argument is deprecated and will be removed in a future release of LightGBM. Pass 'log_evaluation()' callback via 'callbacks' argument instead.\n",
      "  _log_warning(\"'verbose_eval' argument is deprecated and will be removed in a future release of LightGBM. \"\n",
      "min_data_in_leaf, val_score: 0.804502:  40%|####      | 2/5 [00:00<00:00,  6.49it/s]\u001b[32m[I 2022-01-26 12:26:23,100]\u001b[0m Trial 64 finished with value: 0.7810884862071112 and parameters: {'min_child_samples': 25}. Best is trial 63 with value: 0.7855096830437761.\u001b[0m\n",
      "min_data_in_leaf, val_score: 0.804502:  40%|####      | 2/5 [00:00<00:00,  6.49it/s]/home/yuuuuutaro/.cache/pypoetry/virtualenvs/urshifu-uBlELXII-py3.8/lib/python3.8/site-packages/lightgbm/engine.py:181: UserWarning: 'early_stopping_rounds' argument is deprecated and will be removed in a future release of LightGBM. Pass 'early_stopping()' callback via 'callbacks' argument instead.\n",
      "  _log_warning(\"'early_stopping_rounds' argument is deprecated and will be removed in a future release of LightGBM. \"\n",
      "/home/yuuuuutaro/.cache/pypoetry/virtualenvs/urshifu-uBlELXII-py3.8/lib/python3.8/site-packages/lightgbm/engine.py:239: UserWarning: 'verbose_eval' argument is deprecated and will be removed in a future release of LightGBM. Pass 'log_evaluation()' callback via 'callbacks' argument instead.\n",
      "  _log_warning(\"'verbose_eval' argument is deprecated and will be removed in a future release of LightGBM. \"\n",
      "min_data_in_leaf, val_score: 0.804502:  60%|######    | 3/5 [00:00<00:00,  7.21it/s]\u001b[32m[I 2022-01-26 12:26:23,220]\u001b[0m Trial 65 finished with value: 0.7749237187869731 and parameters: {'min_child_samples': 100}. Best is trial 63 with value: 0.7855096830437761.\u001b[0m\n",
      "min_data_in_leaf, val_score: 0.804502:  60%|######    | 3/5 [00:00<00:00,  7.21it/s]/home/yuuuuutaro/.cache/pypoetry/virtualenvs/urshifu-uBlELXII-py3.8/lib/python3.8/site-packages/lightgbm/engine.py:181: UserWarning: 'early_stopping_rounds' argument is deprecated and will be removed in a future release of LightGBM. Pass 'early_stopping()' callback via 'callbacks' argument instead.\n",
      "  _log_warning(\"'early_stopping_rounds' argument is deprecated and will be removed in a future release of LightGBM. \"\n",
      "/home/yuuuuutaro/.cache/pypoetry/virtualenvs/urshifu-uBlELXII-py3.8/lib/python3.8/site-packages/lightgbm/engine.py:239: UserWarning: 'verbose_eval' argument is deprecated and will be removed in a future release of LightGBM. Pass 'log_evaluation()' callback via 'callbacks' argument instead.\n",
      "  _log_warning(\"'verbose_eval' argument is deprecated and will be removed in a future release of LightGBM. \"\n",
      "min_data_in_leaf, val_score: 0.804502:  60%|######    | 3/5 [00:00<00:00,  7.21it/s]\u001b[32m[I 2022-01-26 12:26:23,284]\u001b[0m Trial 66 finished with value: 0.7919858023538203 and parameters: {'min_child_samples': 10}. Best is trial 66 with value: 0.7919858023538203.\u001b[0m\n",
      "min_data_in_leaf, val_score: 0.804502:  80%|########  | 4/5 [00:00<00:00,  7.21it/s]/home/yuuuuutaro/.cache/pypoetry/virtualenvs/urshifu-uBlELXII-py3.8/lib/python3.8/site-packages/lightgbm/engine.py:181: UserWarning: 'early_stopping_rounds' argument is deprecated and will be removed in a future release of LightGBM. Pass 'early_stopping()' callback via 'callbacks' argument instead.\n",
      "  _log_warning(\"'early_stopping_rounds' argument is deprecated and will be removed in a future release of LightGBM. \"\n",
      "/home/yuuuuutaro/.cache/pypoetry/virtualenvs/urshifu-uBlELXII-py3.8/lib/python3.8/site-packages/lightgbm/engine.py:239: UserWarning: 'verbose_eval' argument is deprecated and will be removed in a future release of LightGBM. Pass 'log_evaluation()' callback via 'callbacks' argument instead.\n",
      "  _log_warning(\"'verbose_eval' argument is deprecated and will be removed in a future release of LightGBM. \"\n",
      "min_data_in_leaf, val_score: 0.804502: 100%|##########| 5/5 [00:00<00:00,  8.77it/s]\u001b[32m[I 2022-01-26 12:26:23,411]\u001b[0m Trial 67 finished with value: 0.7665172177595118 and parameters: {'min_child_samples': 50}. Best is trial 66 with value: 0.7919858023538203.\u001b[0m\n",
      "min_data_in_leaf, val_score: 0.804502: 100%|##########| 5/5 [00:00<00:00,  8.10it/s]\n"
     ]
    }
   ],
   "source": [
    "params = {'objective': 'binary','metric': 'auc','verbosity': -1,\"seed\":0}\n",
    "\n",
    "model = lgb.train(params, lgb_train, valid_sets=lgb_eval,verbose_eval=False, num_boost_round=1000, early_stopping_rounds=100)"
   ]
  },
  {
   "cell_type": "code",
   "execution_count": 28,
   "metadata": {},
   "outputs": [],
   "source": [
    "pred_y = model.predict(test_x, num_iteration=model.best_iteration)"
   ]
  },
  {
   "cell_type": "code",
   "execution_count": 29,
   "metadata": {},
   "outputs": [
    {
     "name": "stdout",
     "output_type": "stream",
     "text": [
      "0.8045021483280405\n"
     ]
    }
   ],
   "source": [
    "fpr, tpr, thresholds = metrics.roc_curve(test_y, pred_y)\n",
    "auc = metrics.auc(fpr, tpr)\n",
    "print(auc)"
   ]
  },
  {
   "cell_type": "code",
   "execution_count": 30,
   "metadata": {},
   "outputs": [
    {
     "name": "stdout",
     "output_type": "stream",
     "text": [
      "Best Params: {'objective': 'binary', 'metric': 'auc', 'verbosity': -1, 'seed': 0, 'feature_pre_filter': False, 'lambda_l1': 0.0, 'lambda_l2': 0.0, 'num_leaves': 4, 'feature_fraction': 0.6839999999999999, 'bagging_fraction': 1.0, 'bagging_freq': 0, 'min_child_samples': 20, 'num_iterations': 1000, 'early_stopping_round': 100}\n"
     ]
    }
   ],
   "source": [
    "print('Best Params:', model.params)"
   ]
  },
  {
   "cell_type": "code",
   "execution_count": 31,
   "metadata": {},
   "outputs": [
    {
     "data": {
      "text/plain": [
       "<lightgbm.basic.Booster at 0x7ff4fc4557c0>"
      ]
     },
     "execution_count": 31,
     "metadata": {},
     "output_type": "execute_result"
    }
   ],
   "source": [
    "model.save_model('./models/optunalgbm.txt')"
   ]
  },
  {
   "cell_type": "code",
   "execution_count": 11,
   "metadata": {},
   "outputs": [],
   "source": [
    "#bst = lgb.Booster(model_file='model.txt')\n",
    "#ypred = bst.predict(X_test, num_iteration=bst.best_iteration)"
   ]
  },
  {
   "cell_type": "code",
   "execution_count": 32,
   "metadata": {},
   "outputs": [
    {
     "name": "stdout",
     "output_type": "stream",
     "text": [
      "[0 0 1 1 0 1 1 0 0 1 0 0 0 1 0 0 1 0 1 1 1 1 1 1 0 0 1 0 0 1 1 0 0 1 1 1 0\n",
      " 0 1 1 1 1 0 0 1 1 0 1 0 1 1 1 0 0 1 1 0 1 0 1 0 1 0 0 1 0 1 0 1 0 0 0 0 0\n",
      " 1 1 0 0 0 0 0 1 0 0 0 0 1 1 1 0 0 0 0 0 0 0 0 0 1 0 1 0 1 1 0 1 0 1 0 1 1\n",
      " 1 0 0 0 0 0 0 1 1 1 1 0 1 0 0 0 0 0 0 1 1 0 1 0 0 1 0 0 0 1 1 1 1 1 0 0 1\n",
      " 0 0 0 0 0 1 1 0 0 1 0 0 1 0 1 0 1 1 1 0 0 0 0 0 0 0 1 1 1 0 1 0 0 0 1 0 0\n",
      " 0 0 0 0 0 0 0 0 0 1 0 1 1 0 1 1 1 1 0 1 1 0 1 0 1 1 1 0 0 1 1 0 0 0 0 0 0\n",
      " 0 0 1 0 0 0 1 0 0 0 0 1 0 0 0 0 1 0 0 0 0 0 1 1 0 0 1 1 0 0 0 1 0 0 1 1 1\n",
      " 0]\n"
     ]
    }
   ],
   "source": [
    "print((np.array(pred_y)>0.5).astype(\"int64\"))"
   ]
  },
  {
   "cell_type": "code",
   "execution_count": 33,
   "metadata": {},
   "outputs": [
    {
     "name": "stdout",
     "output_type": "stream",
     "text": [
      "[114 126  99  81  41  75  36   6  23  19   7  10   7  13  38  17  69   9\n",
      "  28   4  25  17  46  13  25]\n"
     ]
    },
    {
     "data": {
      "text/plain": [
       "<AxesSubplot:title={'center':'Feature importance'}, xlabel='Feature importance', ylabel='Features'>"
      ]
     },
     "execution_count": 33,
     "metadata": {},
     "output_type": "execute_result"
    },
    {
     "data": {
      "image/png": "[encoded data removed]",
      "text/plain": [
       "<Figure size 432x288 with 1 Axes>"
      ]
     },
     "metadata": {
      "needs_background": "light"
     },
     "output_type": "display_data"
    }
   ],
   "source": [
    "print(model.feature_importance())\n",
    "\n",
    "\n",
    "# 特徴量の重要度をプロット\n",
    "lgb.plot_importance(model)"
   ]
  },
  {
   "cell_type": "code",
   "execution_count": 34,
   "metadata": {},
   "outputs": [],
   "source": [
    "from pokepoke import poke\n",
    "poke_data = poke()"
   ]
  },
  {
   "cell_type": "code",
   "execution_count": 35,
   "metadata": {},
   "outputs": [
    {
     "data": {
      "text/plain": [
       "['ノーマル',\n",
       " 'かくとう',\n",
       " 'ひこう',\n",
       " 'どく',\n",
       " 'じめん',\n",
       " 'いわ',\n",
       " 'むし',\n",
       " 'ゴースト',\n",
       " 'はがね',\n",
       " 'ほのお',\n",
       " 'みず',\n",
       " 'くさ',\n",
       " 'でんき',\n",
       " 'エスパー',\n",
       " 'こおり',\n",
       " 'ドラゴン',\n",
       " 'あく',\n",
       " 'フェアリー']"
      ]
     },
     "execution_count": 35,
     "metadata": {},
     "output_type": "execute_result"
    }
   ],
   "source": [
    "poke_data.poke_type"
   ]
  },
  {
   "cell_type": "code",
   "execution_count": null,
   "metadata": {},
   "outputs": [],
   "source": []
  }
 ],
 "metadata": {
  "interpreter": {
   "hash": "64ae48f465b0b9b60d6145a050f02f537dd95f3aae206ebc82839cbb4e37109f"
  },
  "kernelspec": {
   "display_name": "Python 3.8.10 64-bit ('urshifu-uBlELXII-py3.8': poetry)",
   "language": "python",
   "name": "python3"
  },
  "language_info": {
   "codemirror_mode": {
    "name": "ipython",
    "version": 3
   },
   "file_extension": ".py",
   "mimetype": "text/x-python",
   "name": "python",
   "nbconvert_exporter": "python",
   "pygments_lexer": "ipython3",
   "version": "3.8.10"
  },
  "orig_nbformat": 4
 },
 "nbformat": 4,
 "nbformat_minor": 2
}
